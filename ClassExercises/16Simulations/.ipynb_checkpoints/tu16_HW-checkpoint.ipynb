{
 "cells": [
  {
   "cell_type": "markdown",
   "id": "1e738885-ca06-452d-8d0b-5e2721e22c7a",
   "metadata": {},
   "source": [
    "# Simulations Homework"
   ]
  },
  {
   "cell_type": "code",
   "execution_count": 48,
   "id": "f34a5b63-af93-4e46-98c1-2dce26f8ca4d",
   "metadata": {},
   "outputs": [],
   "source": [
    "import numpy as np\n",
    "import pandas as pd\n",
    "import seaborn as sns\n",
    "%matplotlib inline"
   ]
  },
  {
   "cell_type": "markdown",
   "id": "3b23da61-41c3-4d6a-a744-ff9a626069c1",
   "metadata": {},
   "source": [
    "---"
   ]
  },
  {
   "cell_type": "markdown",
   "id": "d97e5217-ce6d-4587-ba83-ba02e31f8a13",
   "metadata": {},
   "source": [
    "### Reset Generator Function"
   ]
  },
  {
   "cell_type": "markdown",
   "id": "597841fb-db36-4bee-a549-53b1e1dc63cc",
   "metadata": {},
   "source": [
    "If you didn't do so in class, write a function to reseed the numpy random number generator. It should default to setting the seed to 42, but be able to set it to whatever you want."
   ]
  },
  {
   "cell_type": "code",
   "execution_count": 2,
   "id": "b7ac98fe-a4f2-4594-ad1a-f444b7514d7f",
   "metadata": {},
   "outputs": [],
   "source": [
    "def reset_rng(seed=42):\n",
    "    rng = np.random.default_rng(seed)\n",
    "    \n",
    "    return rng"
   ]
  },
  {
   "cell_type": "markdown",
   "id": "69cb00c5-c61d-4871-ba06-6a51c8ccf98d",
   "metadata": {},
   "source": [
    "Reset the generator using your function."
   ]
  },
  {
   "cell_type": "code",
   "execution_count": 25,
   "id": "a8041c65-1035-4e5e-9cea-bfcad437c4d1",
   "metadata": {},
   "outputs": [],
   "source": [
    "rng = reset_rng()"
   ]
  },
  {
   "cell_type": "markdown",
   "id": "5a764d17-940a-47f6-8828-1cc680dc2af3",
   "metadata": {},
   "source": [
    "---"
   ]
  },
  {
   "cell_type": "markdown",
   "id": "5b3a92e1-43f0-4338-b3e0-637e7bb38123",
   "metadata": {},
   "source": [
    "### \"Accept Cookies\" Simulation"
   ]
  },
  {
   "cell_type": "markdown",
   "id": "8572a0ea-0590-4ec8-83fd-98b015e603cd",
   "metadata": {},
   "source": [
    "Assuming the base rate for hitting the \"Accept Cookies\" button when landing on a website is 85%, do a set of 10,000 simulations of 20 people visiting a given website and accepting cookies. "
   ]
  },
  {
   "cell_type": "code",
   "execution_count": 26,
   "id": "94e5531c",
   "metadata": {},
   "outputs": [
    {
     "data": {
      "text/plain": [
       "<seaborn.axisgrid.FacetGrid at 0x7fcba13b97c0>"
      ]
     },
     "execution_count": 26,
     "metadata": {},
     "output_type": "execute_result"
    },
    {
     "data": {
      "image/png": "[encoded data removed]",
      "text/plain": [
       "<Figure size 500x500 with 1 Axes>"
      ]
     },
     "metadata": {},
     "output_type": "display_data"
    }
   ],
   "source": [
    "# create a distribution for the probability of clicking \"accept cookies\"\n",
    "prob = .85 # best guess of p from poll\n",
    "n_sample = 100 # sample size for poll \n",
    "n_sim = 100000 # number of simulations to run (needs to be the same as the n_sim for the next sim)\n",
    "poll_results = rng.binomial(n_sample, prob, n_sim)\n",
    "poll_probs = poll_results/n_sample\n",
    "# simulate how many people out of 20 will accept cookies\n",
    "n_sample = 20\n",
    "cookies_sim = rng.binomial(n_sample, poll_probs, n_sim)\n",
    "# plot\n",
    "sns.displot(cookies_sim, discrete=True)"
   ]
  },
  {
   "cell_type": "markdown",
   "id": "28f2cf31-7b22-4ee8-ba3f-c9b7ae70c14a",
   "metadata": {},
   "source": [
    "Based on your simulation, what is the probability of getting exactly 15 accepts? "
   ]
  },
  {
   "cell_type": "code",
   "execution_count": 27,
   "id": "e54d2b90-dc11-4a96-b7b0-3acc02671f53",
   "metadata": {},
   "outputs": [
    {
     "data": {
      "text/plain": [
       "0.10327"
      ]
     },
     "execution_count": 27,
     "metadata": {},
     "output_type": "execute_result"
    }
   ],
   "source": [
    "p15 = sum(cookies_sim==15)/len(cookies_sim)\n",
    "p15"
   ]
  },
  {
   "cell_type": "markdown",
   "id": "8db36c23-6ebe-4eea-8dd6-1730b5b35273",
   "metadata": {},
   "source": [
    "What is the probability of getting *at least* 15 accepts?"
   ]
  },
  {
   "cell_type": "code",
   "execution_count": 28,
   "id": "55375983-9ec5-4bfe-b132-63369da6c8e2",
   "metadata": {},
   "outputs": [
    {
     "data": {
      "text/plain": [
       "0.91463"
      ]
     },
     "execution_count": 28,
     "metadata": {},
     "output_type": "execute_result"
    }
   ],
   "source": [
    "pAtLeast15 = sum(cookies_sim>=15)/len(cookies_sim)\n",
    "pAtLeast15"
   ]
  },
  {
   "cell_type": "markdown",
   "id": "f166851b-b73a-44a4-9617-f5af25c13755",
   "metadata": {},
   "source": [
    "What is the probability of getting fewer than 15 accepts?"
   ]
  },
  {
   "cell_type": "code",
   "execution_count": 29,
   "id": "1d68f209-89a0-467d-938c-14ccc50cae71",
   "metadata": {
    "tags": []
   },
   "outputs": [
    {
     "data": {
      "text/plain": [
       "0.08537"
      ]
     },
     "execution_count": 29,
     "metadata": {},
     "output_type": "execute_result"
    }
   ],
   "source": [
    "pLess15 = sum(cookies_sim<15)/len(cookies_sim)\n",
    "pLess15"
   ]
  },
  {
   "cell_type": "markdown",
   "id": "1cdb003d-5339-4bd9-a1ab-8de3e18ba06a",
   "metadata": {},
   "source": [
    "Confirm that the last two probabilities computed sum to 1.0."
   ]
  },
  {
   "cell_type": "code",
   "execution_count": 30,
   "id": "d3612c17-535b-4c81-92c4-f770c2d8a20e",
   "metadata": {},
   "outputs": [
    {
     "data": {
      "text/plain": [
       "1.0"
      ]
     },
     "execution_count": 30,
     "metadata": {},
     "output_type": "execute_result"
    }
   ],
   "source": [
    "pAtLeast15 + pLess15"
   ]
  },
  {
   "cell_type": "markdown",
   "id": "4df13455-708a-4d87-8f5a-208e6decc580",
   "metadata": {},
   "source": [
    "---"
   ]
  },
  {
   "cell_type": "markdown",
   "id": "c3403027-73a8-49e0-a56b-22b6f8bdcbda",
   "metadata": {},
   "source": [
    "### What Is and Isn't Binomial?"
   ]
  },
  {
   "cell_type": "markdown",
   "id": "fc87017c-ffbf-408f-ae02-21ed695307de",
   "metadata": {},
   "source": [
    "Check the binomial approximation for the election simulations from the in-class notebook for the cases in which we did and didn't account for the poll-to-poll variability arising from a single poll."
   ]
  },
  {
   "cell_type": "markdown",
   "id": "edd9efc5-ebdb-4265-b30a-fa0b1888a90b",
   "metadata": {},
   "source": [
    "What is the expected standard deviation for our distribution of election outcomes based on the normal approximation?"
   ]
  },
  {
   "cell_type": "code",
   "execution_count": 34,
   "id": "97620e0c-8b48-4f41-a531-65b4ba96180b",
   "metadata": {},
   "outputs": [
    {
     "data": {
      "text/plain": [
       "158.082257068907"
      ]
     },
     "execution_count": 34,
     "metadata": {},
     "output_type": "execute_result"
    }
   ],
   "source": [
    "# set the constants\n",
    "n_sample = 100000 # number of voters in the election\n",
    "prob =.51 # probability that they vote for A\n",
    "n_sim = 100000 # number of election simulations\n",
    "\n",
    "# determine the sd\n",
    "sd_est = np.sqrt(n_sample * prob * (1 - prob))\n",
    "sd_est"
   ]
  },
  {
   "cell_type": "markdown",
   "id": "39783e34-4418-4e5a-b7da-3439e13aac48",
   "metadata": {},
   "source": [
    "What was the empirical standard deviation of the distribution of election outcomes when we only used a single probability? (\"*single poll, many elections*\")\n",
    "\n",
    "(You can just copy and paste the code from the in-class notebook to regenerate the simulated election outcomes.)"
   ]
  },
  {
   "cell_type": "code",
   "execution_count": 35,
   "id": "71f95652-b207-4517-8e2f-e7ac0bd12d90",
   "metadata": {},
   "outputs": [],
   "source": [
    "rng = reset_rng()\n",
    "election_outcomes = rng.binomial(n=100000, p=.51, size=20000)"
   ]
  },
  {
   "cell_type": "code",
   "execution_count": 36,
   "id": "ee8985d6-c5f6-4dd4-802d-ab7de57971c5",
   "metadata": {},
   "outputs": [
    {
     "data": {
      "text/plain": [
       "158.93412097331398"
      ]
     },
     "execution_count": 36,
     "metadata": {},
     "output_type": "execute_result"
    }
   ],
   "source": [
    "np.std(election_outcomes)"
   ]
  },
  {
   "cell_type": "markdown",
   "id": "c3d5fa8e-2c95-401c-adfa-e3e584f41e03",
   "metadata": {},
   "source": [
    "What was the empirical standard deviation of the distribution of election outcomes when we accounted for random variation in poll outcomes in our simulation? (\"*simulate poll -> simulate election*\")"
   ]
  },
  {
   "cell_type": "code",
   "execution_count": 37,
   "id": "8174afa5-5d22-434c-bea5-696cb46c0e44",
   "metadata": {},
   "outputs": [],
   "source": [
    "rng = reset_rng() \n",
    "# constants\n",
    "prob = .51  # best guess of \"true\" probability\n",
    "sample = 2000  # poll sample size\n",
    "sims = 100000  # number of simulations to run\n",
    "# conduct polls\n",
    "poll_results = rng.binomial(n=sample, p=prob, size=sims) # get the polling results\n",
    "poll_probs = poll_results/sample  # convert to probabilities\n",
    "# simulate the elections\n",
    "sample=100000 # medium city - expect around 100k voter turnout\n",
    "election_outcomes = rng.binomial(n=sample, p=poll_probs, size=sims)"
   ]
  },
  {
   "cell_type": "code",
   "execution_count": 38,
   "id": "eca69a9b-1023-4b27-b87e-2991175a1c0f",
   "metadata": {},
   "outputs": [
    {
     "data": {
      "text/plain": [
       "1126.0395066316592"
      ]
     },
     "execution_count": 38,
     "metadata": {},
     "output_type": "execute_result"
    }
   ],
   "source": [
    "np.std(election_outcomes)"
   ]
  },
  {
   "cell_type": "markdown",
   "id": "27a8974b",
   "metadata": {},
   "source": [
    "When we simulate the poll to include variability in our election results, the election outcomes are no longer part of a binomial distribution"
   ]
  },
  {
   "cell_type": "markdown",
   "id": "51ecbf00-1175-4fee-ae75-76441e3d28d7",
   "metadata": {},
   "source": [
    "---"
   ]
  },
  {
   "cell_type": "markdown",
   "id": "e230bf1e-821f-4343-a0f4-127c7c32d90b",
   "metadata": {},
   "source": [
    "### Effect of Poll Sample Size"
   ]
  },
  {
   "cell_type": "markdown",
   "id": "7ddf5ef1-1547-4116-ab9c-6dd37ff2e8f5",
   "metadata": {},
   "source": [
    "As you have probably realized, these distributions of outcomes from many experiments we've been generating are, by definition, ***sampling distributions***! One firm law about sampling distributions is that their width depends strongly on sample size. As such, we would expect our simulated election outcomes to be affected by the size of the poll on which they are based."
   ]
  },
  {
   "cell_type": "markdown",
   "id": "f188922e-6f5f-44cd-b380-e2e6d63598a8",
   "metadata": {},
   "source": [
    "In the cell below, run the *simulate poll -> simulate elections* code for poll sample sizes of 50, 100, 500, 1000, 2000 and 5000. For each sample size, record the obtained standard deviation of the distribution of outcomes. (pro tip: make a new code cell below and put them in a Python list)"
   ]
  },
  {
   "cell_type": "code",
   "execution_count": 80,
   "id": "d18e55ff-b729-4076-940b-b4080544aa47",
   "metadata": {},
   "outputs": [],
   "source": [
    " rng = reset_rng() # reset generator"
   ]
  },
  {
   "cell_type": "code",
   "execution_count": 81,
   "id": "fd677656",
   "metadata": {},
   "outputs": [],
   "source": [
    "sample_sizes = [50, 100, 500, 1000, 2000, 5000]"
   ]
  },
  {
   "cell_type": "code",
   "execution_count": 82,
   "id": "494cbe17-6eca-4d86-ae2d-6893da1490a2",
   "metadata": {
    "tags": []
   },
   "outputs": [
    {
     "data": {
      "text/html": [
       "<div>\n",
       "<style scoped>\n",
       "    .dataframe tbody tr th:only-of-type {\n",
       "        vertical-align: middle;\n",
       "    }\n",
       "\n",
       "    .dataframe tbody tr th {\n",
       "        vertical-align: top;\n",
       "    }\n",
       "\n",
       "    .dataframe thead th {\n",
       "        text-align: right;\n",
       "    }\n",
       "</style>\n",
       "<table border=\"1\" class=\"dataframe\">\n",
       "  <thead>\n",
       "    <tr style=\"text-align: right;\">\n",
       "      <th></th>\n",
       "      <th>poll_size_of_50</th>\n",
       "      <th>poll_size_of_100</th>\n",
       "      <th>poll_size_of_500</th>\n",
       "      <th>poll_size_of_1000</th>\n",
       "      <th>poll_size_of_2000</th>\n",
       "      <th>poll_size_of_5000</th>\n",
       "    </tr>\n",
       "  </thead>\n",
       "  <tbody>\n",
       "    <tr>\n",
       "      <th>0</th>\n",
       "      <td>1184</td>\n",
       "      <td>40</td>\n",
       "      <td>292</td>\n",
       "      <td>502</td>\n",
       "      <td>966</td>\n",
       "      <td>2505</td>\n",
       "    </tr>\n",
       "    <tr>\n",
       "      <th>1</th>\n",
       "      <td>1285</td>\n",
       "      <td>49</td>\n",
       "      <td>253</td>\n",
       "      <td>515</td>\n",
       "      <td>984</td>\n",
       "      <td>2583</td>\n",
       "    </tr>\n",
       "    <tr>\n",
       "      <th>2</th>\n",
       "      <td>1078</td>\n",
       "      <td>33</td>\n",
       "      <td>294</td>\n",
       "      <td>494</td>\n",
       "      <td>1007</td>\n",
       "      <td>2547</td>\n",
       "    </tr>\n",
       "    <tr>\n",
       "      <th>3</th>\n",
       "      <td>1236</td>\n",
       "      <td>42</td>\n",
       "      <td>276</td>\n",
       "      <td>500</td>\n",
       "      <td>1040</td>\n",
       "      <td>2581</td>\n",
       "    </tr>\n",
       "    <tr>\n",
       "      <th>4</th>\n",
       "      <td>1535</td>\n",
       "      <td>61</td>\n",
       "      <td>263</td>\n",
       "      <td>499</td>\n",
       "      <td>1025</td>\n",
       "      <td>2505</td>\n",
       "    </tr>\n",
       "    <tr>\n",
       "      <th>...</th>\n",
       "      <td>...</td>\n",
       "      <td>...</td>\n",
       "      <td>...</td>\n",
       "      <td>...</td>\n",
       "      <td>...</td>\n",
       "      <td>...</td>\n",
       "    </tr>\n",
       "    <tr>\n",
       "      <th>99995</th>\n",
       "      <td>1333</td>\n",
       "      <td>56</td>\n",
       "      <td>256</td>\n",
       "      <td>522</td>\n",
       "      <td>1046</td>\n",
       "      <td>2581</td>\n",
       "    </tr>\n",
       "    <tr>\n",
       "      <th>99996</th>\n",
       "      <td>1203</td>\n",
       "      <td>47</td>\n",
       "      <td>245</td>\n",
       "      <td>486</td>\n",
       "      <td>986</td>\n",
       "      <td>2486</td>\n",
       "    </tr>\n",
       "    <tr>\n",
       "      <th>99997</th>\n",
       "      <td>1277</td>\n",
       "      <td>64</td>\n",
       "      <td>249</td>\n",
       "      <td>509</td>\n",
       "      <td>991</td>\n",
       "      <td>2571</td>\n",
       "    </tr>\n",
       "    <tr>\n",
       "      <th>99998</th>\n",
       "      <td>1453</td>\n",
       "      <td>38</td>\n",
       "      <td>262</td>\n",
       "      <td>571</td>\n",
       "      <td>972</td>\n",
       "      <td>2488</td>\n",
       "    </tr>\n",
       "    <tr>\n",
       "      <th>99999</th>\n",
       "      <td>999</td>\n",
       "      <td>37</td>\n",
       "      <td>248</td>\n",
       "      <td>565</td>\n",
       "      <td>1094</td>\n",
       "      <td>2589</td>\n",
       "    </tr>\n",
       "  </tbody>\n",
       "</table>\n",
       "<p>100000 rows × 6 columns</p>\n",
       "</div>"
      ],
      "text/plain": [
       "       poll_size_of_50  poll_size_of_100  poll_size_of_500  poll_size_of_1000  \\\n",
       "0                 1184                40               292                502   \n",
       "1                 1285                49               253                515   \n",
       "2                 1078                33               294                494   \n",
       "3                 1236                42               276                500   \n",
       "4                 1535                61               263                499   \n",
       "...                ...               ...               ...                ...   \n",
       "99995             1333                56               256                522   \n",
       "99996             1203                47               245                486   \n",
       "99997             1277                64               249                509   \n",
       "99998             1453                38               262                571   \n",
       "99999              999                37               248                565   \n",
       "\n",
       "       poll_size_of_2000  poll_size_of_5000  \n",
       "0                    966               2505  \n",
       "1                    984               2583  \n",
       "2                   1007               2547  \n",
       "3                   1040               2581  \n",
       "4                   1025               2505  \n",
       "...                  ...                ...  \n",
       "99995               1046               2581  \n",
       "99996                986               2486  \n",
       "99997                991               2571  \n",
       "99998                972               2488  \n",
       "99999               1094               2589  \n",
       "\n",
       "[100000 rows x 6 columns]"
      ]
     },
     "execution_count": 82,
     "metadata": {},
     "output_type": "execute_result"
    }
   ],
   "source": [
    "# simulate\n",
    "# constants\n",
    "prob = .51  # best guess of \"true\" probability\n",
    "sample = 2000  # poll sample size\n",
    "sims = 100000  # number of simulations to run\n",
    "d = {}\n",
    "for i in range(len(sample_sizes)):\n",
    "    # conduct polls\n",
    "    poll_results = rng.binomial(n=sample_sizes[i], p=prob, size=sims) # get the polling results\n",
    "    poll_probs = poll_results/sample  # convert to probabilities\n",
    "    # simulate the elections\n",
    "    sample=100000 # medium city - expect around 100k voter turnout\n",
    "    d[\"poll_size_of_{0}\".format(sample_sizes[i])] = rng.binomial(n=sample, p=poll_probs, size=sims)\n",
    "election_outcomes = pd.DataFrame(d)\n",
    "election_outcomes"
   ]
  },
  {
   "cell_type": "code",
   "execution_count": 86,
   "id": "298b6aa3",
   "metadata": {},
   "outputs": [
    {
     "data": {
      "text/plain": [
       "<AxesSubplot:ylabel='Count'>"
      ]
     },
     "execution_count": 86,
     "metadata": {},
     "output_type": "execute_result"
    },
    {
     "data": {
      "image/png": "[encoded data removed]",
      "text/plain": [
       "<Figure size 640x480 with 1 Axes>"
      ]
     },
     "metadata": {},
     "output_type": "display_data"
    }
   ],
   "source": [
    "sns.histplot(election_outcomes, binwidth=1)"
   ]
  },
  {
   "cell_type": "markdown",
   "id": "e82dfe93-8f72-4d8d-a46d-191c01726957",
   "metadata": {},
   "source": [
    "Make a plot of standard deviation of outcomes (y-axis) vs. poll sample size (x-axis)."
   ]
  },
  {
   "cell_type": "code",
   "execution_count": 84,
   "id": "9a643a19-523b-4e52-8222-002efb96e5c9",
   "metadata": {},
   "outputs": [
    {
     "data": {
      "text/html": [
       "<div>\n",
       "<style scoped>\n",
       "    .dataframe tbody tr th:only-of-type {\n",
       "        vertical-align: middle;\n",
       "    }\n",
       "\n",
       "    .dataframe tbody tr th {\n",
       "        vertical-align: top;\n",
       "    }\n",
       "\n",
       "    .dataframe thead th {\n",
       "        text-align: right;\n",
       "    }\n",
       "</style>\n",
       "<table border=\"1\" class=\"dataframe\">\n",
       "  <thead>\n",
       "    <tr style=\"text-align: right;\">\n",
       "      <th></th>\n",
       "      <th>sd</th>\n",
       "      <th>sample_size</th>\n",
       "    </tr>\n",
       "  </thead>\n",
       "  <tbody>\n",
       "    <tr>\n",
       "      <th>poll_size_of_50</th>\n",
       "      <td>180.344631</td>\n",
       "      <td>50</td>\n",
       "    </tr>\n",
       "    <tr>\n",
       "      <th>poll_size_of_100</th>\n",
       "      <td>8.705528</td>\n",
       "      <td>100</td>\n",
       "    </tr>\n",
       "    <tr>\n",
       "      <th>poll_size_of_500</th>\n",
       "      <td>19.463250</td>\n",
       "      <td>500</td>\n",
       "    </tr>\n",
       "    <tr>\n",
       "      <th>poll_size_of_1000</th>\n",
       "      <td>27.468227</td>\n",
       "      <td>1000</td>\n",
       "    </tr>\n",
       "    <tr>\n",
       "      <th>poll_size_of_2000</th>\n",
       "      <td>38.902803</td>\n",
       "      <td>2000</td>\n",
       "    </tr>\n",
       "    <tr>\n",
       "      <th>poll_size_of_5000</th>\n",
       "      <td>60.958799</td>\n",
       "      <td>5000</td>\n",
       "    </tr>\n",
       "  </tbody>\n",
       "</table>\n",
       "</div>"
      ],
      "text/plain": [
       "                           sd  sample_size\n",
       "poll_size_of_50    180.344631           50\n",
       "poll_size_of_100     8.705528          100\n",
       "poll_size_of_500    19.463250          500\n",
       "poll_size_of_1000   27.468227         1000\n",
       "poll_size_of_2000   38.902803         2000\n",
       "poll_size_of_5000   60.958799         5000"
      ]
     },
     "metadata": {},
     "output_type": "display_data"
    },
    {
     "data": {
      "text/plain": [
       "<seaborn.axisgrid.FacetGrid at 0x7fcb993e72e0>"
      ]
     },
     "execution_count": 84,
     "metadata": {},
     "output_type": "execute_result"
    },
    {
     "data": {
      "image/png": "[encoded data removed]",
      "text/plain": [
       "<Figure size 500x500 with 1 Axes>"
      ]
     },
     "metadata": {},
     "output_type": "display_data"
    }
   ],
   "source": [
    "# make df of sd and n\n",
    "election_outcomes_sd_n = pd.DataFrame(election_outcomes.agg(np.std))\n",
    "election_outcomes_sd_n['sample_size'] = sample_sizes\n",
    "election_outcomes_sd_n = election_outcomes_sd_n.rename(columns={0:'sd'})\n",
    "display(election_outcomes_sd_n)\n",
    "# plot\n",
    "sns.relplot(data=election_outcomes_sd_n, x='sample_size', y='sd')"
   ]
  },
  {
   "cell_type": "markdown",
   "id": "f2a59a35-6a2b-4277-9e5b-eb89e2f18fe7",
   "metadata": {},
   "source": [
    "Based on this plot, why do you think almost all polls sample around 2000 people?"
   ]
  },
  {
   "cell_type": "markdown",
   "id": "c9d363de-8270-4736-b9f9-628494ce5ccb",
   "metadata": {},
   "source": [
    "Most people probably sample around 2000 people because you get diminishing returns as you sample more people. Sampling more people beyond 2000 doesn't decrease the standard deviation in proportion to the sample size that much"
   ]
  },
  {
   "cell_type": "markdown",
   "id": "8227f5e6-c746-4ef8-b817-28cf4870a58e",
   "metadata": {},
   "source": [
    "---"
   ]
  },
  {
   "cell_type": "markdown",
   "id": "e0c9647c-d50d-43a8-93f4-dd332fadb3fb",
   "metadata": {},
   "source": [
    "### Re-Write the Multi-Poll Code "
   ]
  },
  {
   "cell_type": "markdown",
   "id": "836aece6-18f9-4210-82e0-b0c9b77eaea5",
   "metadata": {},
   "source": [
    "The code for combining three polls using a weighted average works, but it is awkward. Changing it to handle a different number of polls would involve lots of copying and pasting and mistake-prone editing.\n",
    "\n",
    "Make the code \"Pythonic\" so that all you have to do is provide a list (or tuple) of poll results and another for poll weights, and your code will do the rest. \n",
    "\n",
    "Your code can be just code in a code cell. But if you're feeling spicy, you could make it a function!"
   ]
  },
  {
   "cell_type": "code",
   "execution_count": 99,
   "id": "d22e238c",
   "metadata": {},
   "outputs": [
    {
     "data": {
      "text/plain": [
       "0        52007.333333\n",
       "1        52980.222222\n",
       "2        51483.000000\n",
       "3        51200.555556\n",
       "4        51290.333333\n",
       "             ...     \n",
       "19995    52034.111111\n",
       "19996    52491.111111\n",
       "19997    51883.333333\n",
       "19998    52402.333333\n",
       "19999    51065.888889\n",
       "Length: 20000, dtype: float64"
      ]
     },
     "execution_count": 99,
     "metadata": {},
     "output_type": "execute_result"
    }
   ],
   "source": [
    "# first, without a function\n",
    "# reset the seed\n",
    "rng = reset_rng()\n",
    "# set the constants\n",
    "poll_ests = [0.53, 0.51, 0.515]\n",
    "poll_weights = [2, 4, 3]\n",
    "sum_of_w = np.sum(poll_weights)   \n",
    "samp_sz = 2000                    # poll sample size \n",
    "n_sims = 20000                    # number of simulations to run\n",
    "# conduct the polls, accounting for their variance\n",
    "poll_results = {}\n",
    "poll_probs = {}\n",
    "for i in range(len(poll_ests)):\n",
    "    poll_results[i] = rng.binomial(samp_sz, poll_ests[i], n_sims)\n",
    "    poll_probs[i] = poll_results[i]/samp_sz\n",
    "# simulate the elections for each poll\n",
    "elec_results_per_poll = {}\n",
    "n_voters = 100000\n",
    "for i in range(len(poll_ests)):\n",
    "    elec_results_per_poll[i] = rng.binomial(n_voters, poll_probs[i], n_sims)\n",
    "# weight the election results per poll\n",
    "    weighted_elec_results_per_poll = {}\n",
    "for i in range(len(poll_ests)):\n",
    "    weighted_elec_results_per_poll[i] = elec_results_per_poll[i]*poll_weights[i]\n",
    "weighted_elec_results_per_poll = pd.DataFrame(weighted_elec_results_per_poll)\n",
    "elec_results = weighted_elec_results_per_poll.sum(axis=1)/sum_of_w # sum the rows and divide by weight\n",
    "elec_results"
   ]
  },
  {
   "cell_type": "code",
   "execution_count": 122,
   "id": "1c635bf3",
   "metadata": {},
   "outputs": [],
   "source": [
    "# now with a function\n",
    "# every argument has a default\n",
    "# went ahead and enabled customizable samp_sz\n",
    "def multi_poll_sim(poll_ests = [0.53, 0.51, 0.515], poll_weights = [2, 4, 3], samp_sz = [2000, 2000, 2000], n_sims = 20000, n_voters = 100000):\n",
    "    # set the constants\n",
    "    sum_of_w = np.sum(poll_weights)   \n",
    "    # conduct the polls, accounting for their variance\n",
    "    poll_results = {}\n",
    "    poll_probs = {}\n",
    "    for i in range(len(poll_ests)):\n",
    "        poll_results[i] = rng.binomial(samp_sz[i], poll_ests[i], n_sims)\n",
    "        poll_probs[i] = poll_results[i]/samp_sz[i]\n",
    "    # simulate the elections for each poll\n",
    "    elec_results_per_poll = {}\n",
    "    for i in range(len(poll_ests)):\n",
    "        elec_results_per_poll[i] = rng.binomial(n_voters, poll_probs[i], n_sims)\n",
    "    # weight the election results per poll\n",
    "        weighted_elec_results_per_poll = {}\n",
    "    for i in range(len(poll_ests)):\n",
    "        weighted_elec_results_per_poll[i] = elec_results_per_poll[i]*poll_weights[i]\n",
    "    weighted_elec_results_per_poll = pd.DataFrame(weighted_elec_results_per_poll)\n",
    "    elec_results = weighted_elec_results_per_poll.sum(axis=1)/sum_of_w # sum the rows and divide by weight\n",
    "    \n",
    "    return elec_results"
   ]
  },
  {
   "cell_type": "code",
   "execution_count": 123,
   "id": "28d9ccb5",
   "metadata": {},
   "outputs": [
    {
     "data": {
      "text/plain": [
       "0        52007.333333\n",
       "1        52980.222222\n",
       "2        51483.000000\n",
       "3        51200.555556\n",
       "4        51290.333333\n",
       "             ...     \n",
       "19995    52034.111111\n",
       "19996    52491.111111\n",
       "19997    51883.333333\n",
       "19998    52402.333333\n",
       "19999    51065.888889\n",
       "Length: 20000, dtype: float64"
      ]
     },
     "execution_count": 123,
     "metadata": {},
     "output_type": "execute_result"
    }
   ],
   "source": [
    "# testing my function\n",
    "rng = reset_rng()\n",
    "elec_results = multi_poll_sim()\n",
    "elec_results"
   ]
  },
  {
   "cell_type": "code",
   "execution_count": 124,
   "id": "d8dd8cf2",
   "metadata": {},
   "outputs": [
    {
     "data": {
      "text/plain": [
       "0        52013.666667\n",
       "1        51100.833333\n",
       "2        52545.833333\n",
       "3        52654.333333\n",
       "4        51409.500000\n",
       "             ...     \n",
       "19995    52146.833333\n",
       "19996    51782.500000\n",
       "19997    51108.500000\n",
       "19998    50822.000000\n",
       "19999    51566.000000\n",
       "Length: 20000, dtype: float64"
      ]
     },
     "execution_count": 124,
     "metadata": {},
     "output_type": "execute_result"
    }
   ],
   "source": [
    "# testing my function\n",
    "rng = reset_rng()\n",
    "elec_results = multi_poll_sim(poll_weights=[1000, 2000, 3000], samp_sz = [1000, 2000, 3000])\n",
    "elec_results"
   ]
  },
  {
   "cell_type": "markdown",
   "id": "9ec6a4ce-eb9c-46d0-bbaa-b62b7c431ce9",
   "metadata": {},
   "source": [
    "---"
   ]
  },
  {
   "cell_type": "markdown",
   "id": "89d80d36-5741-4534-89ca-e5c01480efb0",
   "metadata": {},
   "source": [
    "### Weight polls by sample size"
   ]
  },
  {
   "cell_type": "markdown",
   "id": "2edd7fa0-48ff-44bd-bdc5-1a0ca9e1b660",
   "metadata": {},
   "source": [
    "Use your new code to compute predicted election outcomes based on 5 polls weighted by the sample sizes of the polls (or their square root, if you prefer – wink wink, nudge nudge). The polls are as follows:\n",
    "\n",
    "`poll_ests = [.51, .55, .53, .49, 0.50]`\n",
    "\n",
    "`poll_samp_szs = [2000, 1000, 1500, 1200, 1142]`"
   ]
  },
  {
   "cell_type": "code",
   "execution_count": 147,
   "id": "19cad17b-ca5c-45c8-9e40-a4f68674abaf",
   "metadata": {},
   "outputs": [
    {
     "data": {
      "text/plain": [
       "0        51822.789250\n",
       "1        52087.959331\n",
       "2        51534.541859\n",
       "3        52107.966563\n",
       "4        51679.670774\n",
       "             ...     \n",
       "19995    51905.732536\n",
       "19996    51562.650199\n",
       "19997    50834.648022\n",
       "19998    51383.395449\n",
       "19999    50873.512505\n",
       "Length: 20000, dtype: float64"
      ]
     },
     "execution_count": 147,
     "metadata": {},
     "output_type": "execute_result"
    }
   ],
   "source": [
    "rng = reset_rng() # rset the seed\n",
    "new_poll_ests = [.51, .55, .53, .49, .5]\n",
    "new_samp_szs = [2000, 1000, 1500, 1200, 1142]\n",
    "new_weights = np.sqrt(new_samp_szs)\n",
    "elec_results = multi_poll_sim(poll_ests=new_poll_ests, poll_weights=new_weights, samp_sz=new_samp_szs)\n",
    "elec_results"
   ]
  },
  {
   "cell_type": "markdown",
   "id": "2e70676f-b6ef-42c3-9b25-10243fc14de0",
   "metadata": {},
   "source": [
    "Make a plot of the distribution of simulated outcomes, with the area representing the underdog winning highlighted."
   ]
  },
  {
   "cell_type": "code",
   "execution_count": 148,
   "id": "45e95290-3af2-486d-bfac-00d3f577e477",
   "metadata": {},
   "outputs": [
    {
     "data": {
      "text/html": [
       "<div>\n",
       "<style scoped>\n",
       "    .dataframe tbody tr th:only-of-type {\n",
       "        vertical-align: middle;\n",
       "    }\n",
       "\n",
       "    .dataframe tbody tr th {\n",
       "        vertical-align: top;\n",
       "    }\n",
       "\n",
       "    .dataframe thead th {\n",
       "        text-align: right;\n",
       "    }\n",
       "</style>\n",
       "<table border=\"1\" class=\"dataframe\">\n",
       "  <thead>\n",
       "    <tr style=\"text-align: right;\">\n",
       "      <th></th>\n",
       "      <th>votes_for_favorite</th>\n",
       "      <th>wins</th>\n",
       "    </tr>\n",
       "  </thead>\n",
       "  <tbody>\n",
       "    <tr>\n",
       "      <th>0</th>\n",
       "      <td>51822.789250</td>\n",
       "      <td>Favorite</td>\n",
       "    </tr>\n",
       "    <tr>\n",
       "      <th>1</th>\n",
       "      <td>52087.959331</td>\n",
       "      <td>Favorite</td>\n",
       "    </tr>\n",
       "    <tr>\n",
       "      <th>2</th>\n",
       "      <td>51534.541859</td>\n",
       "      <td>Favorite</td>\n",
       "    </tr>\n",
       "    <tr>\n",
       "      <th>3</th>\n",
       "      <td>52107.966563</td>\n",
       "      <td>Favorite</td>\n",
       "    </tr>\n",
       "    <tr>\n",
       "      <th>4</th>\n",
       "      <td>51679.670774</td>\n",
       "      <td>Favorite</td>\n",
       "    </tr>\n",
       "    <tr>\n",
       "      <th>...</th>\n",
       "      <td>...</td>\n",
       "      <td>...</td>\n",
       "    </tr>\n",
       "    <tr>\n",
       "      <th>19995</th>\n",
       "      <td>51905.732536</td>\n",
       "      <td>Favorite</td>\n",
       "    </tr>\n",
       "    <tr>\n",
       "      <th>19996</th>\n",
       "      <td>51562.650199</td>\n",
       "      <td>Favorite</td>\n",
       "    </tr>\n",
       "    <tr>\n",
       "      <th>19997</th>\n",
       "      <td>50834.648022</td>\n",
       "      <td>Favorite</td>\n",
       "    </tr>\n",
       "    <tr>\n",
       "      <th>19998</th>\n",
       "      <td>51383.395449</td>\n",
       "      <td>Favorite</td>\n",
       "    </tr>\n",
       "    <tr>\n",
       "      <th>19999</th>\n",
       "      <td>50873.512505</td>\n",
       "      <td>Favorite</td>\n",
       "    </tr>\n",
       "  </tbody>\n",
       "</table>\n",
       "<p>20000 rows × 2 columns</p>\n",
       "</div>"
      ],
      "text/plain": [
       "       votes_for_favorite      wins\n",
       "0            51822.789250  Favorite\n",
       "1            52087.959331  Favorite\n",
       "2            51534.541859  Favorite\n",
       "3            52107.966563  Favorite\n",
       "4            51679.670774  Favorite\n",
       "...                   ...       ...\n",
       "19995        51905.732536  Favorite\n",
       "19996        51562.650199  Favorite\n",
       "19997        50834.648022  Favorite\n",
       "19998        51383.395449  Favorite\n",
       "19999        50873.512505  Favorite\n",
       "\n",
       "[20000 rows x 2 columns]"
      ]
     },
     "execution_count": 148,
     "metadata": {},
     "output_type": "execute_result"
    }
   ],
   "source": [
    "# create a new column for elec resutls to map onto hue\n",
    "wins = []\n",
    "for i in range(len(elec_results)):\n",
    "    if elec_results[i] >= 50000:\n",
    "        wins.append(\"Favorite\")\n",
    "    else:\n",
    "        wins.append(\"Underdog\")\n",
    "elec_results = pd.DataFrame(elec_results)\n",
    "elec_results['wins'] = wins\n",
    "elec_results = elec_results.rename(columns={0:'votes_for_favorite'})\n",
    "elec_results"
   ]
  },
  {
   "cell_type": "code",
   "execution_count": 149,
   "id": "b5aff25a",
   "metadata": {},
   "outputs": [
    {
     "data": {
      "text/plain": [
       "<seaborn.axisgrid.FacetGrid at 0x7fcb20e52850>"
      ]
     },
     "execution_count": 149,
     "metadata": {},
     "output_type": "execute_result"
    },
    {
     "data": {
      "image/png": "[encoded data removed]",
      "text/plain": [
       "<Figure size 618.125x500 with 1 Axes>"
      ]
     },
     "metadata": {},
     "output_type": "display_data"
    }
   ],
   "source": [
    "sns.displot(elec_results, x='votes_for_favorite', hue='wins')"
   ]
  },
  {
   "cell_type": "markdown",
   "id": "9d5a64db-35c5-42a8-ab25-568ad6cf4318",
   "metadata": {},
   "source": [
    "---"
   ]
  },
  {
   "cell_type": "markdown",
   "id": "95047b80-a313-440c-bc6f-f0ccceac32d4",
   "metadata": {},
   "source": [
    "Bonus (totally optional): \n",
    "Write your own function, `my_binom()` that does the same thing as `rng.binomial()`. The function should use `rng.random()` internally. To the user, it should behave just like `rng.binomial()`!"
   ]
  },
  {
   "cell_type": "code",
   "execution_count": null,
   "id": "fd677a89-c4ba-49dc-a74d-5220b2eeed1e",
   "metadata": {},
   "outputs": [],
   "source": []
  },
  {
   "cell_type": "markdown",
   "id": "60c3f997-f252-4acd-a847-37e726660abf",
   "metadata": {},
   "source": [
    "---"
   ]
  }
 ],
 "metadata": {
  "kernelspec": {
   "display_name": "Python 3 (ipykernel)",
   "language": "python",
   "name": "python3"
  },
  "language_info": {
   "codemirror_mode": {
    "name": "ipython",
    "version": 3
   },
   "file_extension": ".py",
   "mimetype": "text/x-python",
   "name": "python",
   "nbconvert_exporter": "python",
   "pygments_lexer": "ipython3",
   "version": "3.9.13"
  }
 },
 "nbformat": 4,
 "nbformat_minor": 5
}
