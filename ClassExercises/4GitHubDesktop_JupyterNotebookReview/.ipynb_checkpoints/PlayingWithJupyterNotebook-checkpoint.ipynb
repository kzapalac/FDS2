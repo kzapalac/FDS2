{
 "cells": [
  {
   "cell_type": "markdown",
   "id": "dfd5c789",
   "metadata": {},
   "source": [
    "# Playing with Jupyter Notebook "
   ]
  },
  {
   "cell_type": "markdown",
   "id": "02f212a4",
   "metadata": {},
   "source": [
    "## I used the shortcut '2' from command mode to create this header "
   ]
  },
  {
   "cell_type": "code",
   "execution_count": 1,
   "id": "bf52cf6f",
   "metadata": {},
   "outputs": [
    {
     "name": "stdout",
     "output_type": "stream",
     "text": [
      "What's your name?Kennedy\n",
      "Hi Kennedy!\n"
     ]
    }
   ],
   "source": [
    "name = input(\"What's your name?\")\n",
    "print(\"Hi \" + name + \"!\")"
   ]
  },
  {
   "cell_type": "markdown",
   "id": "6b89095a",
   "metadata": {},
   "source": [
    "# Here's a header\n",
    "Here's some text with a word in **bold**\n",
    "## Here's a sub-header\n",
    "*Here's some italic text.*\n",
    "And here\n",
    "* is\n",
    "* a\n",
    "* bullet\n",
    "* list\n",
    "\n",
    "~~this is a strikethrough~~"
   ]
  },
  {
   "cell_type": "code",
   "execution_count": 2,
   "id": "a9d8537b",
   "metadata": {},
   "outputs": [
    {
     "name": "stdout",
     "output_type": "stream",
     "text": [
      "This is a code cell.\n"
     ]
    }
   ],
   "source": [
    "print('This is a code cell.')"
   ]
  },
  {
   "cell_type": "markdown",
   "id": "25d13537",
   "metadata": {},
   "source": [
    "I am practicing switching between command mode and edit mode. I was able to enter edit mode by pressing enter"
   ]
  },
  {
   "cell_type": "code",
   "execution_count": 5,
   "id": "04eb1a7d",
   "metadata": {},
   "outputs": [
    {
     "name": "stdout",
     "output_type": "stream",
     "text": [
      "-0.3853656774872313\n"
     ]
    }
   ],
   "source": [
    "import numpy as np\n",
    "aNumber = np.random.randn()\n",
    "print(aNumber)"
   ]
  },
  {
   "cell_type": "code",
   "execution_count": null,
   "id": "a87d089d",
   "metadata": {},
   "outputs": [],
   "source": []
  }
 ],
 "metadata": {
  "kernelspec": {
   "display_name": "Python 3 (ipykernel)",
   "language": "python",
   "name": "python3"
  },
  "language_info": {
   "codemirror_mode": {
    "name": "ipython",
    "version": 3
   },
   "file_extension": ".py",
   "mimetype": "text/x-python",
   "name": "python",
   "nbconvert_exporter": "python",
   "pygments_lexer": "ipython3",
   "version": "3.9.7"
  }
 },
 "nbformat": 4,
 "nbformat_minor": 5
}
