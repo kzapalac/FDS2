{
 "cells": [
  {
   "cell_type": "markdown",
   "id": "dc657869",
   "metadata": {},
   "source": [
    "# Pandas Review"
   ]
  },
  {
   "cell_type": "markdown",
   "id": "d4847168",
   "metadata": {},
   "source": [
    "Pandas is a Python package for organizing and analyzing data. In one sense, it is a generalization of NumPy, on which it is based.\n",
    "\n",
    "NumPy is fantastic for working with numerical data that are \"well behaved\". For example, if you are analyzing data from a tightly controlled laboratory experiment, then NumPy might be perfect.\n",
    "\n",
    "In the broader world of behavioral data science, however, data can be complicated. Variables can be of multiple types, values can be missing, etc. Pandas was developed to make it easier for us to work with data sets in general, not just numerical arrays.\n",
    "\n",
    "If you have experience in R then, in a nutshell, pandas gives you an equivalent to R in Python (some data scientists use both, picking one or the other depending on the project, but most people prefer sticking with one language if they can)."
   ]
  },
  {
   "cell_type": "markdown",
   "id": "e790fc88",
   "metadata": {},
   "source": [
    "## Pandas Data"
   ]
  },
  {
   "cell_type": "markdown",
   "id": "4a3d4589",
   "metadata": {},
   "source": [
    "The main data object in pandas is the `DataFrame`. It is a table of data in which each column has a name, generally corresponding to a specific real-world variable. \n",
    "\n",
    "Just as we can think about a NumPy array as a spatial layout of a Python list of lists, we can think of a pandas `DataFrame` as a spatial layout of a Python dictionary."
   ]
  },
  {
   "cell_type": "markdown",
   "id": "c95be220",
   "metadata": {},
   "source": [
    "Consider the following Python dictionary:"
   ]
  },
  {
   "cell_type": "code",
   "execution_count": 1,
   "id": "4e59faa0",
   "metadata": {},
   "outputs": [],
   "source": [
    "dis_chars = {'name': ['Mickey', 'Minnie', 'Pluto'],\n",
    "             'gender': ['m', 'f', 'n'],\n",
    "             'age': [95, 95, 93],}"
   ]
  },
  {
   "cell_type": "code",
   "execution_count": 2,
   "id": "296de877",
   "metadata": {},
   "outputs": [
    {
     "data": {
      "text/plain": [
       "{'name': ['Mickey', 'Minnie', 'Pluto'],\n",
       " 'gender': ['m', 'f', 'n'],\n",
       " 'age': [95, 95, 93]}"
      ]
     },
     "execution_count": 2,
     "metadata": {},
     "output_type": "execute_result"
    }
   ],
   "source": [
    "dis_chars"
   ]
  },
  {
   "cell_type": "markdown",
   "id": "07b57269",
   "metadata": {},
   "source": [
    "On the one hand, this is a nice organized *container* of data. But on the other hand, it is not much else. If we wanted to compute anything, like the mean age of all non-male characters, we'd have to start writing code from scratch."
   ]
  },
  {
   "cell_type": "markdown",
   "id": "994b273a",
   "metadata": {},
   "source": [
    "Let's make our dictionary into a `DataFrame`. First, we'll import pandas."
   ]
  },
  {
   "cell_type": "code",
   "execution_count": 3,
   "id": "6a505c88",
   "metadata": {},
   "outputs": [],
   "source": [
    "import pandas as pd"
   ]
  },
  {
   "cell_type": "markdown",
   "id": "662631cd",
   "metadata": {},
   "source": [
    "Importing pandas as `pd` is conventional, like importing numpy as `np`, so there's no reason to do anything else.\n",
    "\n",
    "Now we can convert our data to a `DataFrame` using `pd.DataFrame()`."
   ]
  },
  {
   "cell_type": "code",
   "execution_count": 4,
   "id": "1ea35b3c",
   "metadata": {},
   "outputs": [],
   "source": [
    "dis_df = pd.DataFrame(dis_chars)"
   ]
  },
  {
   "cell_type": "markdown",
   "id": "5826ecae",
   "metadata": {},
   "source": [
    "And let's look at our new creation!"
   ]
  },
  {
   "cell_type": "code",
   "execution_count": 5,
   "id": "4890c8e7",
   "metadata": {},
   "outputs": [
    {
     "data": {
      "text/html": [
       "<div>\n",
       "<style scoped>\n",
       "    .dataframe tbody tr th:only-of-type {\n",
       "        vertical-align: middle;\n",
       "    }\n",
       "\n",
       "    .dataframe tbody tr th {\n",
       "        vertical-align: top;\n",
       "    }\n",
       "\n",
       "    .dataframe thead th {\n",
       "        text-align: right;\n",
       "    }\n",
       "</style>\n",
       "<table border=\"1\" class=\"dataframe\">\n",
       "  <thead>\n",
       "    <tr style=\"text-align: right;\">\n",
       "      <th></th>\n",
       "      <th>name</th>\n",
       "      <th>gender</th>\n",
       "      <th>age</th>\n",
       "    </tr>\n",
       "  </thead>\n",
       "  <tbody>\n",
       "    <tr>\n",
       "      <th>0</th>\n",
       "      <td>Mickey</td>\n",
       "      <td>m</td>\n",
       "      <td>95</td>\n",
       "    </tr>\n",
       "    <tr>\n",
       "      <th>1</th>\n",
       "      <td>Minnie</td>\n",
       "      <td>f</td>\n",
       "      <td>95</td>\n",
       "    </tr>\n",
       "    <tr>\n",
       "      <th>2</th>\n",
       "      <td>Pluto</td>\n",
       "      <td>n</td>\n",
       "      <td>93</td>\n",
       "    </tr>\n",
       "  </tbody>\n",
       "</table>\n",
       "</div>"
      ],
      "text/plain": [
       "     name gender  age\n",
       "0  Mickey      m   95\n",
       "1  Minnie      f   95\n",
       "2   Pluto      n   93"
      ]
     },
     "execution_count": 5,
     "metadata": {},
     "output_type": "execute_result"
    }
   ],
   "source": [
    "dis_df"
   ]
  },
  {
   "cell_type": "markdown",
   "id": "8709c3ed",
   "metadata": {},
   "source": [
    "Now we have a nice organized table of data, in which each column corresponds to a variable, and can be referred to by name. "
   ]
  },
  {
   "cell_type": "code",
   "execution_count": 6,
   "id": "a86f67f1",
   "metadata": {},
   "outputs": [
    {
     "data": {
      "text/plain": [
       "0    Mickey\n",
       "1    Minnie\n",
       "2     Pluto\n",
       "Name: name, dtype: object"
      ]
     },
     "execution_count": 6,
     "metadata": {},
     "output_type": "execute_result"
    }
   ],
   "source": [
    "dis_df['name']"
   ]
  },
  {
   "cell_type": "markdown",
   "id": "e8917201",
   "metadata": {},
   "source": [
    "Further, it makes it relatively easy for us to do lots of analyses \"out of the box\". For example:"
   ]
  },
  {
   "cell_type": "code",
   "execution_count": 7,
   "id": "8ca65cdd",
   "metadata": {},
   "outputs": [
    {
     "data": {
      "text/plain": [
       "94.33333333333333"
      ]
     },
     "execution_count": 7,
     "metadata": {},
     "output_type": "execute_result"
    }
   ],
   "source": [
    "dis_df['age'].mean()"
   ]
  },
  {
   "cell_type": "markdown",
   "id": "6fdc2071",
   "metadata": {},
   "source": [
    "Here, we just grabbed a column of data by name (`dis_df['age']`), and then computed its mean with the built-in `mean()` method."
   ]
  },
  {
   "cell_type": "markdown",
   "id": "3ca075d0",
   "metadata": {},
   "source": [
    "The `DataFrame` isn't the only type of object in pandas, but it's the biggie. If you have experience in R, then you'll be in familiar territory, because the `DataFrame` in Python is modeled after the data frame (or tibble) in R."
   ]
  },
  {
   "cell_type": "code",
   "execution_count": 8,
   "id": "a8ac4dc9",
   "metadata": {},
   "outputs": [
    {
     "data": {
      "text/plain": [
       "pandas.core.frame.DataFrame"
      ]
     },
     "execution_count": 8,
     "metadata": {},
     "output_type": "execute_result"
    }
   ],
   "source": [
    "type(dis_df)"
   ]
  },
  {
   "cell_type": "markdown",
   "id": "9e8257a0",
   "metadata": {},
   "source": [
    "Each column of a `DataFrame` is a pandas `Series`."
   ]
  },
  {
   "cell_type": "code",
   "execution_count": 9,
   "id": "54f9a43f",
   "metadata": {},
   "outputs": [
    {
     "data": {
      "text/plain": [
       "0    95\n",
       "1    95\n",
       "2    93\n",
       "Name: age, dtype: int64"
      ]
     },
     "execution_count": 9,
     "metadata": {},
     "output_type": "execute_result"
    }
   ],
   "source": [
    "dis_age_s = dis_df['age']\n",
    "dis_age_s"
   ]
  },
  {
   "cell_type": "code",
   "execution_count": 10,
   "id": "adf38adf",
   "metadata": {},
   "outputs": [
    {
     "data": {
      "text/plain": [
       "pandas.core.series.Series"
      ]
     },
     "execution_count": 10,
     "metadata": {},
     "output_type": "execute_result"
    }
   ],
   "source": [
    "type(dis_age_s)"
   ]
  },
  {
   "cell_type": "markdown",
   "id": "bd58427e",
   "metadata": {},
   "source": [
    "And each series is a collection of more fundamental objects. So if we look at the last age in our series..."
   ]
  },
  {
   "cell_type": "code",
   "execution_count": 11,
   "id": "6d7634fd",
   "metadata": {},
   "outputs": [
    {
     "data": {
      "text/plain": [
       "93"
      ]
     },
     "execution_count": 11,
     "metadata": {},
     "output_type": "execute_result"
    }
   ],
   "source": [
    "a = dis_age_s[2]\n",
    "a"
   ]
  },
  {
   "cell_type": "markdown",
   "id": "390b37c7",
   "metadata": {},
   "source": [
    "And check the type..."
   ]
  },
  {
   "cell_type": "code",
   "execution_count": 12,
   "id": "62bb0969",
   "metadata": {},
   "outputs": [
    {
     "data": {
      "text/plain": [
       "numpy.int64"
      ]
     },
     "execution_count": 12,
     "metadata": {},
     "output_type": "execute_result"
    }
   ],
   "source": [
    "type(a)"
   ]
  },
  {
   "cell_type": "markdown",
   "id": "4bc102f9",
   "metadata": {},
   "source": [
    "We see that it is a numpy integer; a hint that pandas is indeed built from NumPy!"
   ]
  },
  {
   "cell_type": "markdown",
   "id": "1d851c34",
   "metadata": {},
   "source": [
    "If we check the type of one of the other values:"
   ]
  },
  {
   "cell_type": "code",
   "execution_count": 13,
   "id": "044e1af8",
   "metadata": {},
   "outputs": [
    {
     "data": {
      "text/plain": [
       "str"
      ]
     },
     "execution_count": 13,
     "metadata": {},
     "output_type": "execute_result"
    }
   ],
   "source": [
    "type(dis_df['gender'][2])"
   ]
  },
  {
   "cell_type": "markdown",
   "id": "0a938e97",
   "metadata": {},
   "source": [
    "We see that it is a Python string object. (Take a moment to dissect that line of code, and see how it is doing exactly the same thing as we did to get the type of an age value, just in one go.)"
   ]
  },
  {
   "cell_type": "markdown",
   "id": "8c912ee2",
   "metadata": {},
   "source": [
    "---"
   ]
  },
  {
   "cell_type": "markdown",
   "id": "8ad6accf",
   "metadata": {},
   "source": [
    "In the code cell below, get the very first name in our Disney `DataFrame`."
   ]
  },
  {
   "cell_type": "code",
   "execution_count": 15,
   "id": "3144a59d",
   "metadata": {},
   "outputs": [
    {
     "data": {
      "text/plain": [
       "'Mickey'"
      ]
     },
     "execution_count": 15,
     "metadata": {},
     "output_type": "execute_result"
    }
   ],
   "source": [
    "# At first, Mickey's name was going to be Mortimer Mouse. I know, right?\n",
    "dis_df['name'][0]"
   ]
  },
  {
   "cell_type": "markdown",
   "id": "ba976337",
   "metadata": {},
   "source": [
    "---"
   ]
  },
  {
   "cell_type": "markdown",
   "id": "f0cf1135",
   "metadata": {},
   "source": [
    "One great thing about pandas is that, if we want to add a column, we just act like it already exists and assign values to it. Like this:"
   ]
  },
  {
   "cell_type": "code",
   "execution_count": 16,
   "id": "5f87d9ab",
   "metadata": {},
   "outputs": [
    {
     "data": {
      "text/html": [
       "<div>\n",
       "<style scoped>\n",
       "    .dataframe tbody tr th:only-of-type {\n",
       "        vertical-align: middle;\n",
       "    }\n",
       "\n",
       "    .dataframe tbody tr th {\n",
       "        vertical-align: top;\n",
       "    }\n",
       "\n",
       "    .dataframe thead th {\n",
       "        text-align: right;\n",
       "    }\n",
       "</style>\n",
       "<table border=\"1\" class=\"dataframe\">\n",
       "  <thead>\n",
       "    <tr style=\"text-align: right;\">\n",
       "      <th></th>\n",
       "      <th>name</th>\n",
       "      <th>gender</th>\n",
       "      <th>age</th>\n",
       "      <th>wearsBow</th>\n",
       "    </tr>\n",
       "  </thead>\n",
       "  <tbody>\n",
       "    <tr>\n",
       "      <th>0</th>\n",
       "      <td>Mickey</td>\n",
       "      <td>m</td>\n",
       "      <td>95</td>\n",
       "      <td>False</td>\n",
       "    </tr>\n",
       "    <tr>\n",
       "      <th>1</th>\n",
       "      <td>Minnie</td>\n",
       "      <td>f</td>\n",
       "      <td>95</td>\n",
       "      <td>True</td>\n",
       "    </tr>\n",
       "    <tr>\n",
       "      <th>2</th>\n",
       "      <td>Pluto</td>\n",
       "      <td>n</td>\n",
       "      <td>93</td>\n",
       "      <td>False</td>\n",
       "    </tr>\n",
       "  </tbody>\n",
       "</table>\n",
       "</div>"
      ],
      "text/plain": [
       "     name gender  age  wearsBow\n",
       "0  Mickey      m   95     False\n",
       "1  Minnie      f   95      True\n",
       "2   Pluto      n   93     False"
      ]
     },
     "execution_count": 16,
     "metadata": {},
     "output_type": "execute_result"
    }
   ],
   "source": [
    "dis_df['wearsBow'] = [False, True, False]\n",
    "dis_df"
   ]
  },
  {
   "cell_type": "markdown",
   "id": "3bea13cb",
   "metadata": {},
   "source": [
    "Notice that we are addressing a 'wearsBow' column just like we would an existing column such as 'name'. Pandas, rather than complain and be annoying, just creates the column for us!"
   ]
  },
  {
   "cell_type": "markdown",
   "id": "d036383e",
   "metadata": {},
   "source": [
    "## Data i/o (Input and Output)"
   ]
  },
  {
   "cell_type": "markdown",
   "id": "2114519e",
   "metadata": {},
   "source": [
    "One of the really great things about pandas is that it makes reading, inspecting, and writing data files in common formats very easy. "
   ]
  },
  {
   "cell_type": "markdown",
   "id": "f4464588",
   "metadata": {},
   "source": [
    "### Importing (input)"
   ]
  },
  {
   "cell_type": "markdown",
   "id": "2edd4bf6",
   "metadata": {},
   "source": [
    "Following the pandas documentation, let's look at some data about the passengers on the RMS Titanic. \n",
    "\n",
    "Download the titanic.csv and place in folder named 'data' that is in the same folder as you have this notebook.\n",
    "\n",
    "Now, loading it is as easy as calling `pd.read_csv()`:"
   ]
  },
  {
   "cell_type": "code",
   "execution_count": 17,
   "id": "763fa66b",
   "metadata": {},
   "outputs": [],
   "source": [
    "In [2]: titanic = pd.read_csv(\"data/titanic.csv\")"
   ]
  },
  {
   "cell_type": "markdown",
   "id": "33ae287c",
   "metadata": {},
   "source": [
    "There are lots of other formats that pandas can read, including excel and html. \n",
    "\n",
    "It can even read data from the clipboard! Try it! Go to the [Wikepedia page for Austin](https://en.wikipedia.org/wiki/Austin,_Texas), scroll to the demographics section, and select the three columns (including the headers) down to 2020, and copy them to your clipboard.\n",
    "\n",
    "Now run the code below."
   ]
  },
  {
   "cell_type": "code",
   "execution_count": 21,
   "id": "64ff5860",
   "metadata": {},
   "outputs": [],
   "source": [
    "atx_pop = pd.read_clipboard()"
   ]
  },
  {
   "cell_type": "code",
   "execution_count": 22,
   "id": "caafbfac",
   "metadata": {},
   "outputs": [
    {
     "data": {
      "text/html": [
       "<div>\n",
       "<style scoped>\n",
       "    .dataframe tbody tr th:only-of-type {\n",
       "        vertical-align: middle;\n",
       "    }\n",
       "\n",
       "    .dataframe tbody tr th {\n",
       "        vertical-align: top;\n",
       "    }\n",
       "\n",
       "    .dataframe thead th {\n",
       "        text-align: right;\n",
       "    }\n",
       "</style>\n",
       "<table border=\"1\" class=\"dataframe\">\n",
       "  <thead>\n",
       "    <tr style=\"text-align: right;\">\n",
       "      <th></th>\n",
       "      <th>Census</th>\n",
       "      <th>Pop.</th>\n",
       "      <th>Note</th>\n",
       "      <th>%±</th>\n",
       "    </tr>\n",
       "  </thead>\n",
       "  <tbody>\n",
       "    <tr>\n",
       "      <th>0</th>\n",
       "      <td>1850</td>\n",
       "      <td>629</td>\n",
       "      <td>NaN</td>\n",
       "      <td>—</td>\n",
       "    </tr>\n",
       "    <tr>\n",
       "      <th>1</th>\n",
       "      <td>1860</td>\n",
       "      <td>3,494</td>\n",
       "      <td>NaN</td>\n",
       "      <td>455.5%</td>\n",
       "    </tr>\n",
       "    <tr>\n",
       "      <th>2</th>\n",
       "      <td>1870</td>\n",
       "      <td>4,428</td>\n",
       "      <td>NaN</td>\n",
       "      <td>26.7%</td>\n",
       "    </tr>\n",
       "    <tr>\n",
       "      <th>3</th>\n",
       "      <td>1880</td>\n",
       "      <td>11,013</td>\n",
       "      <td>NaN</td>\n",
       "      <td>148.7%</td>\n",
       "    </tr>\n",
       "    <tr>\n",
       "      <th>4</th>\n",
       "      <td>1890</td>\n",
       "      <td>14,575</td>\n",
       "      <td>NaN</td>\n",
       "      <td>32.3%</td>\n",
       "    </tr>\n",
       "    <tr>\n",
       "      <th>5</th>\n",
       "      <td>1900</td>\n",
       "      <td>22,258</td>\n",
       "      <td>NaN</td>\n",
       "      <td>52.7%</td>\n",
       "    </tr>\n",
       "    <tr>\n",
       "      <th>6</th>\n",
       "      <td>1910</td>\n",
       "      <td>29,860</td>\n",
       "      <td>NaN</td>\n",
       "      <td>34.2%</td>\n",
       "    </tr>\n",
       "    <tr>\n",
       "      <th>7</th>\n",
       "      <td>1920</td>\n",
       "      <td>34,876</td>\n",
       "      <td>NaN</td>\n",
       "      <td>16.8%</td>\n",
       "    </tr>\n",
       "    <tr>\n",
       "      <th>8</th>\n",
       "      <td>1930</td>\n",
       "      <td>53,120</td>\n",
       "      <td>NaN</td>\n",
       "      <td>52.3%</td>\n",
       "    </tr>\n",
       "    <tr>\n",
       "      <th>9</th>\n",
       "      <td>1940</td>\n",
       "      <td>87,930</td>\n",
       "      <td>NaN</td>\n",
       "      <td>65.5%</td>\n",
       "    </tr>\n",
       "    <tr>\n",
       "      <th>10</th>\n",
       "      <td>1950</td>\n",
       "      <td>132,459</td>\n",
       "      <td>NaN</td>\n",
       "      <td>50.6%</td>\n",
       "    </tr>\n",
       "    <tr>\n",
       "      <th>11</th>\n",
       "      <td>1960</td>\n",
       "      <td>186,545</td>\n",
       "      <td>NaN</td>\n",
       "      <td>40.8%</td>\n",
       "    </tr>\n",
       "    <tr>\n",
       "      <th>12</th>\n",
       "      <td>1970</td>\n",
       "      <td>253,539</td>\n",
       "      <td>NaN</td>\n",
       "      <td>35.9%</td>\n",
       "    </tr>\n",
       "    <tr>\n",
       "      <th>13</th>\n",
       "      <td>1980</td>\n",
       "      <td>345,890</td>\n",
       "      <td>NaN</td>\n",
       "      <td>36.4%</td>\n",
       "    </tr>\n",
       "    <tr>\n",
       "      <th>14</th>\n",
       "      <td>1990</td>\n",
       "      <td>465,622</td>\n",
       "      <td>NaN</td>\n",
       "      <td>34.6%</td>\n",
       "    </tr>\n",
       "    <tr>\n",
       "      <th>15</th>\n",
       "      <td>2000</td>\n",
       "      <td>656,562</td>\n",
       "      <td>NaN</td>\n",
       "      <td>41.0%</td>\n",
       "    </tr>\n",
       "    <tr>\n",
       "      <th>16</th>\n",
       "      <td>2010</td>\n",
       "      <td>790,390</td>\n",
       "      <td>NaN</td>\n",
       "      <td>20.4%</td>\n",
       "    </tr>\n",
       "    <tr>\n",
       "      <th>17</th>\n",
       "      <td>2020</td>\n",
       "      <td>961,855</td>\n",
       "      <td>NaN</td>\n",
       "      <td>21.7%</td>\n",
       "    </tr>\n",
       "  </tbody>\n",
       "</table>\n",
       "</div>"
      ],
      "text/plain": [
       "    Census     Pop.  Note      %±\n",
       "0     1850      629   NaN       —\n",
       "1     1860    3,494   NaN  455.5%\n",
       "2     1870    4,428   NaN   26.7%\n",
       "3     1880   11,013   NaN  148.7%\n",
       "4     1890   14,575   NaN   32.3%\n",
       "5     1900   22,258   NaN   52.7%\n",
       "6     1910   29,860   NaN   34.2%\n",
       "7     1920   34,876   NaN   16.8%\n",
       "8     1930   53,120   NaN   52.3%\n",
       "9     1940   87,930   NaN   65.5%\n",
       "10    1950  132,459   NaN   50.6%\n",
       "11    1960  186,545   NaN   40.8%\n",
       "12    1970  253,539   NaN   35.9%\n",
       "13    1980  345,890   NaN   36.4%\n",
       "14    1990  465,622   NaN   34.6%\n",
       "15    2000  656,562   NaN   41.0%\n",
       "16    2010  790,390   NaN   20.4%\n",
       "17    2020  961,855   NaN   21.7%"
      ]
     },
     "execution_count": 22,
     "metadata": {},
     "output_type": "execute_result"
    }
   ],
   "source": [
    "atx_pop"
   ]
  },
  {
   "cell_type": "markdown",
   "id": "233023b9",
   "metadata": {},
   "source": [
    "### Inspecting"
   ]
  },
  {
   "cell_type": "markdown",
   "id": "838b6d0a",
   "metadata": {},
   "source": [
    "It's important to peek at any imported data to make sure nothing looks funny (like we just did with the Austin population data). So let's peek at the RMS Titanic data."
   ]
  },
  {
   "cell_type": "code",
   "execution_count": 23,
   "id": "9024159b",
   "metadata": {},
   "outputs": [
    {
     "data": {
      "text/html": [
       "<div>\n",
       "<style scoped>\n",
       "    .dataframe tbody tr th:only-of-type {\n",
       "        vertical-align: middle;\n",
       "    }\n",
       "\n",
       "    .dataframe tbody tr th {\n",
       "        vertical-align: top;\n",
       "    }\n",
       "\n",
       "    .dataframe thead th {\n",
       "        text-align: right;\n",
       "    }\n",
       "</style>\n",
       "<table border=\"1\" class=\"dataframe\">\n",
       "  <thead>\n",
       "    <tr style=\"text-align: right;\">\n",
       "      <th></th>\n",
       "      <th>PassengerId</th>\n",
       "      <th>Survived</th>\n",
       "      <th>Pclass</th>\n",
       "      <th>Name</th>\n",
       "      <th>Sex</th>\n",
       "      <th>Age</th>\n",
       "      <th>SibSp</th>\n",
       "      <th>Parch</th>\n",
       "      <th>Ticket</th>\n",
       "      <th>Fare</th>\n",
       "      <th>Cabin</th>\n",
       "      <th>Embarked</th>\n",
       "    </tr>\n",
       "  </thead>\n",
       "  <tbody>\n",
       "    <tr>\n",
       "      <th>0</th>\n",
       "      <td>1</td>\n",
       "      <td>0</td>\n",
       "      <td>3</td>\n",
       "      <td>Braund, Mr. Owen Harris</td>\n",
       "      <td>male</td>\n",
       "      <td>22.0</td>\n",
       "      <td>1</td>\n",
       "      <td>0</td>\n",
       "      <td>A/5 21171</td>\n",
       "      <td>7.2500</td>\n",
       "      <td>NaN</td>\n",
       "      <td>S</td>\n",
       "    </tr>\n",
       "    <tr>\n",
       "      <th>1</th>\n",
       "      <td>2</td>\n",
       "      <td>1</td>\n",
       "      <td>1</td>\n",
       "      <td>Cumings, Mrs. John Bradley (Florence Briggs Th...</td>\n",
       "      <td>female</td>\n",
       "      <td>38.0</td>\n",
       "      <td>1</td>\n",
       "      <td>0</td>\n",
       "      <td>PC 17599</td>\n",
       "      <td>71.2833</td>\n",
       "      <td>C85</td>\n",
       "      <td>C</td>\n",
       "    </tr>\n",
       "    <tr>\n",
       "      <th>2</th>\n",
       "      <td>3</td>\n",
       "      <td>1</td>\n",
       "      <td>3</td>\n",
       "      <td>Heikkinen, Miss. Laina</td>\n",
       "      <td>female</td>\n",
       "      <td>26.0</td>\n",
       "      <td>0</td>\n",
       "      <td>0</td>\n",
       "      <td>STON/O2. 3101282</td>\n",
       "      <td>7.9250</td>\n",
       "      <td>NaN</td>\n",
       "      <td>S</td>\n",
       "    </tr>\n",
       "    <tr>\n",
       "      <th>3</th>\n",
       "      <td>4</td>\n",
       "      <td>1</td>\n",
       "      <td>1</td>\n",
       "      <td>Futrelle, Mrs. Jacques Heath (Lily May Peel)</td>\n",
       "      <td>female</td>\n",
       "      <td>35.0</td>\n",
       "      <td>1</td>\n",
       "      <td>0</td>\n",
       "      <td>113803</td>\n",
       "      <td>53.1000</td>\n",
       "      <td>C123</td>\n",
       "      <td>S</td>\n",
       "    </tr>\n",
       "    <tr>\n",
       "      <th>4</th>\n",
       "      <td>5</td>\n",
       "      <td>0</td>\n",
       "      <td>3</td>\n",
       "      <td>Allen, Mr. William Henry</td>\n",
       "      <td>male</td>\n",
       "      <td>35.0</td>\n",
       "      <td>0</td>\n",
       "      <td>0</td>\n",
       "      <td>373450</td>\n",
       "      <td>8.0500</td>\n",
       "      <td>NaN</td>\n",
       "      <td>S</td>\n",
       "    </tr>\n",
       "    <tr>\n",
       "      <th>...</th>\n",
       "      <td>...</td>\n",
       "      <td>...</td>\n",
       "      <td>...</td>\n",
       "      <td>...</td>\n",
       "      <td>...</td>\n",
       "      <td>...</td>\n",
       "      <td>...</td>\n",
       "      <td>...</td>\n",
       "      <td>...</td>\n",
       "      <td>...</td>\n",
       "      <td>...</td>\n",
       "      <td>...</td>\n",
       "    </tr>\n",
       "    <tr>\n",
       "      <th>886</th>\n",
       "      <td>887</td>\n",
       "      <td>0</td>\n",
       "      <td>2</td>\n",
       "      <td>Montvila, Rev. Juozas</td>\n",
       "      <td>male</td>\n",
       "      <td>27.0</td>\n",
       "      <td>0</td>\n",
       "      <td>0</td>\n",
       "      <td>211536</td>\n",
       "      <td>13.0000</td>\n",
       "      <td>NaN</td>\n",
       "      <td>S</td>\n",
       "    </tr>\n",
       "    <tr>\n",
       "      <th>887</th>\n",
       "      <td>888</td>\n",
       "      <td>1</td>\n",
       "      <td>1</td>\n",
       "      <td>Graham, Miss. Margaret Edith</td>\n",
       "      <td>female</td>\n",
       "      <td>19.0</td>\n",
       "      <td>0</td>\n",
       "      <td>0</td>\n",
       "      <td>112053</td>\n",
       "      <td>30.0000</td>\n",
       "      <td>B42</td>\n",
       "      <td>S</td>\n",
       "    </tr>\n",
       "    <tr>\n",
       "      <th>888</th>\n",
       "      <td>889</td>\n",
       "      <td>0</td>\n",
       "      <td>3</td>\n",
       "      <td>Johnston, Miss. Catherine Helen \"Carrie\"</td>\n",
       "      <td>female</td>\n",
       "      <td>NaN</td>\n",
       "      <td>1</td>\n",
       "      <td>2</td>\n",
       "      <td>W./C. 6607</td>\n",
       "      <td>23.4500</td>\n",
       "      <td>NaN</td>\n",
       "      <td>S</td>\n",
       "    </tr>\n",
       "    <tr>\n",
       "      <th>889</th>\n",
       "      <td>890</td>\n",
       "      <td>1</td>\n",
       "      <td>1</td>\n",
       "      <td>Behr, Mr. Karl Howell</td>\n",
       "      <td>male</td>\n",
       "      <td>26.0</td>\n",
       "      <td>0</td>\n",
       "      <td>0</td>\n",
       "      <td>111369</td>\n",
       "      <td>30.0000</td>\n",
       "      <td>C148</td>\n",
       "      <td>C</td>\n",
       "    </tr>\n",
       "    <tr>\n",
       "      <th>890</th>\n",
       "      <td>891</td>\n",
       "      <td>0</td>\n",
       "      <td>3</td>\n",
       "      <td>Dooley, Mr. Patrick</td>\n",
       "      <td>male</td>\n",
       "      <td>32.0</td>\n",
       "      <td>0</td>\n",
       "      <td>0</td>\n",
       "      <td>370376</td>\n",
       "      <td>7.7500</td>\n",
       "      <td>NaN</td>\n",
       "      <td>Q</td>\n",
       "    </tr>\n",
       "  </tbody>\n",
       "</table>\n",
       "<p>891 rows × 12 columns</p>\n",
       "</div>"
      ],
      "text/plain": [
       "     PassengerId  Survived  Pclass  \\\n",
       "0              1         0       3   \n",
       "1              2         1       1   \n",
       "2              3         1       3   \n",
       "3              4         1       1   \n",
       "4              5         0       3   \n",
       "..           ...       ...     ...   \n",
       "886          887         0       2   \n",
       "887          888         1       1   \n",
       "888          889         0       3   \n",
       "889          890         1       1   \n",
       "890          891         0       3   \n",
       "\n",
       "                                                  Name     Sex   Age  SibSp  \\\n",
       "0                              Braund, Mr. Owen Harris    male  22.0      1   \n",
       "1    Cumings, Mrs. John Bradley (Florence Briggs Th...  female  38.0      1   \n",
       "2                               Heikkinen, Miss. Laina  female  26.0      0   \n",
       "3         Futrelle, Mrs. Jacques Heath (Lily May Peel)  female  35.0      1   \n",
       "4                             Allen, Mr. William Henry    male  35.0      0   \n",
       "..                                                 ...     ...   ...    ...   \n",
       "886                              Montvila, Rev. Juozas    male  27.0      0   \n",
       "887                       Graham, Miss. Margaret Edith  female  19.0      0   \n",
       "888           Johnston, Miss. Catherine Helen \"Carrie\"  female   NaN      1   \n",
       "889                              Behr, Mr. Karl Howell    male  26.0      0   \n",
       "890                                Dooley, Mr. Patrick    male  32.0      0   \n",
       "\n",
       "     Parch            Ticket     Fare Cabin Embarked  \n",
       "0        0         A/5 21171   7.2500   NaN        S  \n",
       "1        0          PC 17599  71.2833   C85        C  \n",
       "2        0  STON/O2. 3101282   7.9250   NaN        S  \n",
       "3        0            113803  53.1000  C123        S  \n",
       "4        0            373450   8.0500   NaN        S  \n",
       "..     ...               ...      ...   ...      ...  \n",
       "886      0            211536  13.0000   NaN        S  \n",
       "887      0            112053  30.0000   B42        S  \n",
       "888      2        W./C. 6607  23.4500   NaN        S  \n",
       "889      0            111369  30.0000  C148        C  \n",
       "890      0            370376   7.7500   NaN        Q  \n",
       "\n",
       "[891 rows x 12 columns]"
      ]
     },
     "execution_count": 23,
     "metadata": {},
     "output_type": "execute_result"
    }
   ],
   "source": [
    "titanic"
   ]
  },
  {
   "cell_type": "markdown",
   "id": "c3da4895",
   "metadata": {},
   "source": [
    "A nice thing about pandas `DataFrames` is that, by default, they show you their first and last 5 rows (their head and tail), and then tell you how big they are (891x12 in this case)."
   ]
  },
  {
   "cell_type": "markdown",
   "id": "3a0df3fa",
   "metadata": {},
   "source": [
    "We can look at as much of the head or tail as we want with the `head()` and `tail()` methods."
   ]
  },
  {
   "cell_type": "code",
   "execution_count": 24,
   "id": "1d8bc54e",
   "metadata": {
    "scrolled": false
   },
   "outputs": [
    {
     "data": {
      "text/html": [
       "<div>\n",
       "<style scoped>\n",
       "    .dataframe tbody tr th:only-of-type {\n",
       "        vertical-align: middle;\n",
       "    }\n",
       "\n",
       "    .dataframe tbody tr th {\n",
       "        vertical-align: top;\n",
       "    }\n",
       "\n",
       "    .dataframe thead th {\n",
       "        text-align: right;\n",
       "    }\n",
       "</style>\n",
       "<table border=\"1\" class=\"dataframe\">\n",
       "  <thead>\n",
       "    <tr style=\"text-align: right;\">\n",
       "      <th></th>\n",
       "      <th>PassengerId</th>\n",
       "      <th>Survived</th>\n",
       "      <th>Pclass</th>\n",
       "      <th>Name</th>\n",
       "      <th>Sex</th>\n",
       "      <th>Age</th>\n",
       "      <th>SibSp</th>\n",
       "      <th>Parch</th>\n",
       "      <th>Ticket</th>\n",
       "      <th>Fare</th>\n",
       "      <th>Cabin</th>\n",
       "      <th>Embarked</th>\n",
       "    </tr>\n",
       "  </thead>\n",
       "  <tbody>\n",
       "    <tr>\n",
       "      <th>882</th>\n",
       "      <td>883</td>\n",
       "      <td>0</td>\n",
       "      <td>3</td>\n",
       "      <td>Dahlberg, Miss. Gerda Ulrika</td>\n",
       "      <td>female</td>\n",
       "      <td>22.0</td>\n",
       "      <td>0</td>\n",
       "      <td>0</td>\n",
       "      <td>7552</td>\n",
       "      <td>10.5167</td>\n",
       "      <td>NaN</td>\n",
       "      <td>S</td>\n",
       "    </tr>\n",
       "    <tr>\n",
       "      <th>883</th>\n",
       "      <td>884</td>\n",
       "      <td>0</td>\n",
       "      <td>2</td>\n",
       "      <td>Banfield, Mr. Frederick James</td>\n",
       "      <td>male</td>\n",
       "      <td>28.0</td>\n",
       "      <td>0</td>\n",
       "      <td>0</td>\n",
       "      <td>C.A./SOTON 34068</td>\n",
       "      <td>10.5000</td>\n",
       "      <td>NaN</td>\n",
       "      <td>S</td>\n",
       "    </tr>\n",
       "    <tr>\n",
       "      <th>884</th>\n",
       "      <td>885</td>\n",
       "      <td>0</td>\n",
       "      <td>3</td>\n",
       "      <td>Sutehall, Mr. Henry Jr</td>\n",
       "      <td>male</td>\n",
       "      <td>25.0</td>\n",
       "      <td>0</td>\n",
       "      <td>0</td>\n",
       "      <td>SOTON/OQ 392076</td>\n",
       "      <td>7.0500</td>\n",
       "      <td>NaN</td>\n",
       "      <td>S</td>\n",
       "    </tr>\n",
       "    <tr>\n",
       "      <th>885</th>\n",
       "      <td>886</td>\n",
       "      <td>0</td>\n",
       "      <td>3</td>\n",
       "      <td>Rice, Mrs. William (Margaret Norton)</td>\n",
       "      <td>female</td>\n",
       "      <td>39.0</td>\n",
       "      <td>0</td>\n",
       "      <td>5</td>\n",
       "      <td>382652</td>\n",
       "      <td>29.1250</td>\n",
       "      <td>NaN</td>\n",
       "      <td>Q</td>\n",
       "    </tr>\n",
       "    <tr>\n",
       "      <th>886</th>\n",
       "      <td>887</td>\n",
       "      <td>0</td>\n",
       "      <td>2</td>\n",
       "      <td>Montvila, Rev. Juozas</td>\n",
       "      <td>male</td>\n",
       "      <td>27.0</td>\n",
       "      <td>0</td>\n",
       "      <td>0</td>\n",
       "      <td>211536</td>\n",
       "      <td>13.0000</td>\n",
       "      <td>NaN</td>\n",
       "      <td>S</td>\n",
       "    </tr>\n",
       "    <tr>\n",
       "      <th>887</th>\n",
       "      <td>888</td>\n",
       "      <td>1</td>\n",
       "      <td>1</td>\n",
       "      <td>Graham, Miss. Margaret Edith</td>\n",
       "      <td>female</td>\n",
       "      <td>19.0</td>\n",
       "      <td>0</td>\n",
       "      <td>0</td>\n",
       "      <td>112053</td>\n",
       "      <td>30.0000</td>\n",
       "      <td>B42</td>\n",
       "      <td>S</td>\n",
       "    </tr>\n",
       "    <tr>\n",
       "      <th>888</th>\n",
       "      <td>889</td>\n",
       "      <td>0</td>\n",
       "      <td>3</td>\n",
       "      <td>Johnston, Miss. Catherine Helen \"Carrie\"</td>\n",
       "      <td>female</td>\n",
       "      <td>NaN</td>\n",
       "      <td>1</td>\n",
       "      <td>2</td>\n",
       "      <td>W./C. 6607</td>\n",
       "      <td>23.4500</td>\n",
       "      <td>NaN</td>\n",
       "      <td>S</td>\n",
       "    </tr>\n",
       "    <tr>\n",
       "      <th>889</th>\n",
       "      <td>890</td>\n",
       "      <td>1</td>\n",
       "      <td>1</td>\n",
       "      <td>Behr, Mr. Karl Howell</td>\n",
       "      <td>male</td>\n",
       "      <td>26.0</td>\n",
       "      <td>0</td>\n",
       "      <td>0</td>\n",
       "      <td>111369</td>\n",
       "      <td>30.0000</td>\n",
       "      <td>C148</td>\n",
       "      <td>C</td>\n",
       "    </tr>\n",
       "    <tr>\n",
       "      <th>890</th>\n",
       "      <td>891</td>\n",
       "      <td>0</td>\n",
       "      <td>3</td>\n",
       "      <td>Dooley, Mr. Patrick</td>\n",
       "      <td>male</td>\n",
       "      <td>32.0</td>\n",
       "      <td>0</td>\n",
       "      <td>0</td>\n",
       "      <td>370376</td>\n",
       "      <td>7.7500</td>\n",
       "      <td>NaN</td>\n",
       "      <td>Q</td>\n",
       "    </tr>\n",
       "  </tbody>\n",
       "</table>\n",
       "</div>"
      ],
      "text/plain": [
       "     PassengerId  Survived  Pclass                                      Name  \\\n",
       "882          883         0       3              Dahlberg, Miss. Gerda Ulrika   \n",
       "883          884         0       2             Banfield, Mr. Frederick James   \n",
       "884          885         0       3                    Sutehall, Mr. Henry Jr   \n",
       "885          886         0       3      Rice, Mrs. William (Margaret Norton)   \n",
       "886          887         0       2                     Montvila, Rev. Juozas   \n",
       "887          888         1       1              Graham, Miss. Margaret Edith   \n",
       "888          889         0       3  Johnston, Miss. Catherine Helen \"Carrie\"   \n",
       "889          890         1       1                     Behr, Mr. Karl Howell   \n",
       "890          891         0       3                       Dooley, Mr. Patrick   \n",
       "\n",
       "        Sex   Age  SibSp  Parch            Ticket     Fare Cabin Embarked  \n",
       "882  female  22.0      0      0              7552  10.5167   NaN        S  \n",
       "883    male  28.0      0      0  C.A./SOTON 34068  10.5000   NaN        S  \n",
       "884    male  25.0      0      0   SOTON/OQ 392076   7.0500   NaN        S  \n",
       "885  female  39.0      0      5            382652  29.1250   NaN        Q  \n",
       "886    male  27.0      0      0            211536  13.0000   NaN        S  \n",
       "887  female  19.0      0      0            112053  30.0000   B42        S  \n",
       "888  female   NaN      1      2        W./C. 6607  23.4500   NaN        S  \n",
       "889    male  26.0      0      0            111369  30.0000  C148        C  \n",
       "890    male  32.0      0      0            370376   7.7500   NaN        Q  "
      ]
     },
     "execution_count": 24,
     "metadata": {},
     "output_type": "execute_result"
    }
   ],
   "source": [
    "titanic.tail(9)"
   ]
  },
  {
   "cell_type": "markdown",
   "id": "a6d73808",
   "metadata": {},
   "source": [
    "---"
   ]
  },
  {
   "cell_type": "markdown",
   "id": "4ed26d09",
   "metadata": {},
   "source": [
    "Use the cell below to display the first 11 rows of the titanic data."
   ]
  },
  {
   "cell_type": "code",
   "execution_count": 25,
   "id": "c639fda4",
   "metadata": {},
   "outputs": [
    {
     "data": {
      "text/html": [
       "<div>\n",
       "<style scoped>\n",
       "    .dataframe tbody tr th:only-of-type {\n",
       "        vertical-align: middle;\n",
       "    }\n",
       "\n",
       "    .dataframe tbody tr th {\n",
       "        vertical-align: top;\n",
       "    }\n",
       "\n",
       "    .dataframe thead th {\n",
       "        text-align: right;\n",
       "    }\n",
       "</style>\n",
       "<table border=\"1\" class=\"dataframe\">\n",
       "  <thead>\n",
       "    <tr style=\"text-align: right;\">\n",
       "      <th></th>\n",
       "      <th>PassengerId</th>\n",
       "      <th>Survived</th>\n",
       "      <th>Pclass</th>\n",
       "      <th>Name</th>\n",
       "      <th>Sex</th>\n",
       "      <th>Age</th>\n",
       "      <th>SibSp</th>\n",
       "      <th>Parch</th>\n",
       "      <th>Ticket</th>\n",
       "      <th>Fare</th>\n",
       "      <th>Cabin</th>\n",
       "      <th>Embarked</th>\n",
       "    </tr>\n",
       "  </thead>\n",
       "  <tbody>\n",
       "    <tr>\n",
       "      <th>0</th>\n",
       "      <td>1</td>\n",
       "      <td>0</td>\n",
       "      <td>3</td>\n",
       "      <td>Braund, Mr. Owen Harris</td>\n",
       "      <td>male</td>\n",
       "      <td>22.0</td>\n",
       "      <td>1</td>\n",
       "      <td>0</td>\n",
       "      <td>A/5 21171</td>\n",
       "      <td>7.2500</td>\n",
       "      <td>NaN</td>\n",
       "      <td>S</td>\n",
       "    </tr>\n",
       "    <tr>\n",
       "      <th>1</th>\n",
       "      <td>2</td>\n",
       "      <td>1</td>\n",
       "      <td>1</td>\n",
       "      <td>Cumings, Mrs. John Bradley (Florence Briggs Th...</td>\n",
       "      <td>female</td>\n",
       "      <td>38.0</td>\n",
       "      <td>1</td>\n",
       "      <td>0</td>\n",
       "      <td>PC 17599</td>\n",
       "      <td>71.2833</td>\n",
       "      <td>C85</td>\n",
       "      <td>C</td>\n",
       "    </tr>\n",
       "    <tr>\n",
       "      <th>2</th>\n",
       "      <td>3</td>\n",
       "      <td>1</td>\n",
       "      <td>3</td>\n",
       "      <td>Heikkinen, Miss. Laina</td>\n",
       "      <td>female</td>\n",
       "      <td>26.0</td>\n",
       "      <td>0</td>\n",
       "      <td>0</td>\n",
       "      <td>STON/O2. 3101282</td>\n",
       "      <td>7.9250</td>\n",
       "      <td>NaN</td>\n",
       "      <td>S</td>\n",
       "    </tr>\n",
       "    <tr>\n",
       "      <th>3</th>\n",
       "      <td>4</td>\n",
       "      <td>1</td>\n",
       "      <td>1</td>\n",
       "      <td>Futrelle, Mrs. Jacques Heath (Lily May Peel)</td>\n",
       "      <td>female</td>\n",
       "      <td>35.0</td>\n",
       "      <td>1</td>\n",
       "      <td>0</td>\n",
       "      <td>113803</td>\n",
       "      <td>53.1000</td>\n",
       "      <td>C123</td>\n",
       "      <td>S</td>\n",
       "    </tr>\n",
       "    <tr>\n",
       "      <th>4</th>\n",
       "      <td>5</td>\n",
       "      <td>0</td>\n",
       "      <td>3</td>\n",
       "      <td>Allen, Mr. William Henry</td>\n",
       "      <td>male</td>\n",
       "      <td>35.0</td>\n",
       "      <td>0</td>\n",
       "      <td>0</td>\n",
       "      <td>373450</td>\n",
       "      <td>8.0500</td>\n",
       "      <td>NaN</td>\n",
       "      <td>S</td>\n",
       "    </tr>\n",
       "    <tr>\n",
       "      <th>5</th>\n",
       "      <td>6</td>\n",
       "      <td>0</td>\n",
       "      <td>3</td>\n",
       "      <td>Moran, Mr. James</td>\n",
       "      <td>male</td>\n",
       "      <td>NaN</td>\n",
       "      <td>0</td>\n",
       "      <td>0</td>\n",
       "      <td>330877</td>\n",
       "      <td>8.4583</td>\n",
       "      <td>NaN</td>\n",
       "      <td>Q</td>\n",
       "    </tr>\n",
       "    <tr>\n",
       "      <th>6</th>\n",
       "      <td>7</td>\n",
       "      <td>0</td>\n",
       "      <td>1</td>\n",
       "      <td>McCarthy, Mr. Timothy J</td>\n",
       "      <td>male</td>\n",
       "      <td>54.0</td>\n",
       "      <td>0</td>\n",
       "      <td>0</td>\n",
       "      <td>17463</td>\n",
       "      <td>51.8625</td>\n",
       "      <td>E46</td>\n",
       "      <td>S</td>\n",
       "    </tr>\n",
       "    <tr>\n",
       "      <th>7</th>\n",
       "      <td>8</td>\n",
       "      <td>0</td>\n",
       "      <td>3</td>\n",
       "      <td>Palsson, Master. Gosta Leonard</td>\n",
       "      <td>male</td>\n",
       "      <td>2.0</td>\n",
       "      <td>3</td>\n",
       "      <td>1</td>\n",
       "      <td>349909</td>\n",
       "      <td>21.0750</td>\n",
       "      <td>NaN</td>\n",
       "      <td>S</td>\n",
       "    </tr>\n",
       "    <tr>\n",
       "      <th>8</th>\n",
       "      <td>9</td>\n",
       "      <td>1</td>\n",
       "      <td>3</td>\n",
       "      <td>Johnson, Mrs. Oscar W (Elisabeth Vilhelmina Berg)</td>\n",
       "      <td>female</td>\n",
       "      <td>27.0</td>\n",
       "      <td>0</td>\n",
       "      <td>2</td>\n",
       "      <td>347742</td>\n",
       "      <td>11.1333</td>\n",
       "      <td>NaN</td>\n",
       "      <td>S</td>\n",
       "    </tr>\n",
       "    <tr>\n",
       "      <th>9</th>\n",
       "      <td>10</td>\n",
       "      <td>1</td>\n",
       "      <td>2</td>\n",
       "      <td>Nasser, Mrs. Nicholas (Adele Achem)</td>\n",
       "      <td>female</td>\n",
       "      <td>14.0</td>\n",
       "      <td>1</td>\n",
       "      <td>0</td>\n",
       "      <td>237736</td>\n",
       "      <td>30.0708</td>\n",
       "      <td>NaN</td>\n",
       "      <td>C</td>\n",
       "    </tr>\n",
       "    <tr>\n",
       "      <th>10</th>\n",
       "      <td>11</td>\n",
       "      <td>1</td>\n",
       "      <td>3</td>\n",
       "      <td>Sandstrom, Miss. Marguerite Rut</td>\n",
       "      <td>female</td>\n",
       "      <td>4.0</td>\n",
       "      <td>1</td>\n",
       "      <td>1</td>\n",
       "      <td>PP 9549</td>\n",
       "      <td>16.7000</td>\n",
       "      <td>G6</td>\n",
       "      <td>S</td>\n",
       "    </tr>\n",
       "  </tbody>\n",
       "</table>\n",
       "</div>"
      ],
      "text/plain": [
       "    PassengerId  Survived  Pclass  \\\n",
       "0             1         0       3   \n",
       "1             2         1       1   \n",
       "2             3         1       3   \n",
       "3             4         1       1   \n",
       "4             5         0       3   \n",
       "5             6         0       3   \n",
       "6             7         0       1   \n",
       "7             8         0       3   \n",
       "8             9         1       3   \n",
       "9            10         1       2   \n",
       "10           11         1       3   \n",
       "\n",
       "                                                 Name     Sex   Age  SibSp  \\\n",
       "0                             Braund, Mr. Owen Harris    male  22.0      1   \n",
       "1   Cumings, Mrs. John Bradley (Florence Briggs Th...  female  38.0      1   \n",
       "2                              Heikkinen, Miss. Laina  female  26.0      0   \n",
       "3        Futrelle, Mrs. Jacques Heath (Lily May Peel)  female  35.0      1   \n",
       "4                            Allen, Mr. William Henry    male  35.0      0   \n",
       "5                                    Moran, Mr. James    male   NaN      0   \n",
       "6                             McCarthy, Mr. Timothy J    male  54.0      0   \n",
       "7                      Palsson, Master. Gosta Leonard    male   2.0      3   \n",
       "8   Johnson, Mrs. Oscar W (Elisabeth Vilhelmina Berg)  female  27.0      0   \n",
       "9                 Nasser, Mrs. Nicholas (Adele Achem)  female  14.0      1   \n",
       "10                    Sandstrom, Miss. Marguerite Rut  female   4.0      1   \n",
       "\n",
       "    Parch            Ticket     Fare Cabin Embarked  \n",
       "0       0         A/5 21171   7.2500   NaN        S  \n",
       "1       0          PC 17599  71.2833   C85        C  \n",
       "2       0  STON/O2. 3101282   7.9250   NaN        S  \n",
       "3       0            113803  53.1000  C123        S  \n",
       "4       0            373450   8.0500   NaN        S  \n",
       "5       0            330877   8.4583   NaN        Q  \n",
       "6       0             17463  51.8625   E46        S  \n",
       "7       1            349909  21.0750   NaN        S  \n",
       "8       2            347742  11.1333   NaN        S  \n",
       "9       0            237736  30.0708   NaN        C  \n",
       "10      1           PP 9549  16.7000    G6        S  "
      ]
     },
     "execution_count": 25,
     "metadata": {},
     "output_type": "execute_result"
    }
   ],
   "source": [
    "# but these rows go to 11...\n",
    "titanic.head(11)"
   ]
  },
  {
   "cell_type": "markdown",
   "id": "f4b36cc7",
   "metadata": {},
   "source": [
    "---"
   ]
  },
  {
   "cell_type": "markdown",
   "id": "dd59c8bb",
   "metadata": {},
   "source": [
    "We can also look at the data types:"
   ]
  },
  {
   "cell_type": "code",
   "execution_count": 26,
   "id": "a10f4c1f",
   "metadata": {
    "scrolled": false
   },
   "outputs": [
    {
     "data": {
      "text/plain": [
       "PassengerId      int64\n",
       "Survived         int64\n",
       "Pclass           int64\n",
       "Name            object\n",
       "Sex             object\n",
       "Age            float64\n",
       "SibSp            int64\n",
       "Parch            int64\n",
       "Ticket          object\n",
       "Fare           float64\n",
       "Cabin           object\n",
       "Embarked        object\n",
       "dtype: object"
      ]
     },
     "execution_count": 26,
     "metadata": {},
     "output_type": "execute_result"
    }
   ],
   "source": [
    "titanic.dtypes"
   ]
  },
  {
   "cell_type": "markdown",
   "id": "f77eb074",
   "metadata": {},
   "source": [
    "(the columns listed as \"object\" seem to be strings)"
   ]
  },
  {
   "cell_type": "markdown",
   "id": "76105b67",
   "metadata": {},
   "source": [
    "We can also get more detailed information using the `info()` method:"
   ]
  },
  {
   "cell_type": "code",
   "execution_count": 27,
   "id": "da04973c",
   "metadata": {},
   "outputs": [
    {
     "name": "stdout",
     "output_type": "stream",
     "text": [
      "<class 'pandas.core.frame.DataFrame'>\n",
      "RangeIndex: 891 entries, 0 to 890\n",
      "Data columns (total 12 columns):\n",
      " #   Column       Non-Null Count  Dtype  \n",
      "---  ------       --------------  -----  \n",
      " 0   PassengerId  891 non-null    int64  \n",
      " 1   Survived     891 non-null    int64  \n",
      " 2   Pclass       891 non-null    int64  \n",
      " 3   Name         891 non-null    object \n",
      " 4   Sex          891 non-null    object \n",
      " 5   Age          714 non-null    float64\n",
      " 6   SibSp        891 non-null    int64  \n",
      " 7   Parch        891 non-null    int64  \n",
      " 8   Ticket       891 non-null    object \n",
      " 9   Fare         891 non-null    float64\n",
      " 10  Cabin        204 non-null    object \n",
      " 11  Embarked     889 non-null    object \n",
      "dtypes: float64(2), int64(5), object(5)\n",
      "memory usage: 83.7+ KB\n"
     ]
    }
   ],
   "source": [
    "titanic.info()"
   ]
  },
  {
   "cell_type": "markdown",
   "id": "0b0336ef",
   "metadata": {},
   "source": [
    "This gives us a nice summary of the types of data in the columns and, in particular, how many valid (non-missing) values are in each. We can see that \"Cabin\", for example, has many missing values."
   ]
  },
  {
   "cell_type": "markdown",
   "id": "bfa25c15",
   "metadata": {},
   "source": [
    "### Exporting (output)"
   ]
  },
  {
   "cell_type": "markdown",
   "id": "70da12f9",
   "metadata": {},
   "source": [
    "The `to_` methods, such as `to_csv()`, `to_excel()`, etc., allow us to export data in many ways. As an example, let's export the titanic data as a Microsoft Excel file."
   ]
  },
  {
   "cell_type": "markdown",
   "id": "d4941f19",
   "metadata": {},
   "source": [
    "---"
   ]
  },
  {
   "cell_type": "markdown",
   "id": "3de197f4",
   "metadata": {},
   "source": [
    "In the cell below, use `titanic.to_excel(...)` to export the data to an Excel spreadsheet."
   ]
  },
  {
   "cell_type": "code",
   "execution_count": 30,
   "id": "f407dc37",
   "metadata": {},
   "outputs": [],
   "source": [
    "# exporting an Excel file!\n",
    "titanic.to_excel('titanic_data.xlsx')"
   ]
  },
  {
   "cell_type": "markdown",
   "id": "ce3149e3",
   "metadata": {},
   "source": [
    "Open the file in Excel to verify that the export worked."
   ]
  },
  {
   "cell_type": "markdown",
   "id": "72418d62",
   "metadata": {},
   "source": [
    "---"
   ]
  },
  {
   "cell_type": "markdown",
   "id": "3ed07ae1",
   "metadata": {},
   "source": [
    "## Selecting Data"
   ]
  },
  {
   "cell_type": "markdown",
   "id": "2bced9e5",
   "metadata": {},
   "source": [
    "In numpy, we select data by primarily by row and column indexes. In pandas, we generally address columns (corresponding to real world variables) by *name* and rows by one or more *criteria*."
   ]
  },
  {
   "cell_type": "markdown",
   "id": "4254cc6e",
   "metadata": {},
   "source": [
    "### Getting columns"
   ]
  },
  {
   "cell_type": "markdown",
   "id": "b16860b0",
   "metadata": {},
   "source": [
    "As we did above with our little toy Disney data, we can compute the mean age of the passengers by grabbing that column of data by name, and then computing the mean of it."
   ]
  },
  {
   "cell_type": "code",
   "execution_count": 31,
   "id": "5137b07f",
   "metadata": {},
   "outputs": [
    {
     "data": {
      "text/plain": [
       "29.69911764705882"
      ]
     },
     "execution_count": 31,
     "metadata": {},
     "output_type": "execute_result"
    }
   ],
   "source": [
    "ages = titanic['Age']\n",
    "ages.mean()"
   ]
  },
  {
   "cell_type": "markdown",
   "id": "3a9064d8",
   "metadata": {},
   "source": [
    "---"
   ]
  },
  {
   "cell_type": "markdown",
   "id": "2dc33340",
   "metadata": {},
   "source": [
    "In the cell below, compute the mean age in one line of code (i.e., not creating the temporary 'age' object)."
   ]
  },
  {
   "cell_type": "code",
   "execution_count": 32,
   "id": "1dc2be55",
   "metadata": {},
   "outputs": [
    {
     "data": {
      "text/plain": [
       "29.69911764705882"
      ]
     },
     "execution_count": 32,
     "metadata": {},
     "output_type": "execute_result"
    }
   ],
   "source": [
    "# average age of passengers on the RMS Titanic\n",
    "titanic['Age'].mean()"
   ]
  },
  {
   "cell_type": "markdown",
   "id": "0d37b7d6",
   "metadata": {},
   "source": [
    "---"
   ]
  },
  {
   "cell_type": "markdown",
   "id": "3f3470f0",
   "metadata": {},
   "source": [
    "We can get multiple columns by indexing our `DataFrame` with a Python list of column names. We can do this in two lines for readability."
   ]
  },
  {
   "cell_type": "code",
   "execution_count": 33,
   "id": "525b6f85",
   "metadata": {},
   "outputs": [],
   "source": [
    "wanted_cols = ['Fare', 'Survived']\n",
    "fare_surv = titanic[wanted_cols]"
   ]
  },
  {
   "cell_type": "code",
   "execution_count": 34,
   "id": "d925119c",
   "metadata": {},
   "outputs": [
    {
     "data": {
      "text/html": [
       "<div>\n",
       "<style scoped>\n",
       "    .dataframe tbody tr th:only-of-type {\n",
       "        vertical-align: middle;\n",
       "    }\n",
       "\n",
       "    .dataframe tbody tr th {\n",
       "        vertical-align: top;\n",
       "    }\n",
       "\n",
       "    .dataframe thead th {\n",
       "        text-align: right;\n",
       "    }\n",
       "</style>\n",
       "<table border=\"1\" class=\"dataframe\">\n",
       "  <thead>\n",
       "    <tr style=\"text-align: right;\">\n",
       "      <th></th>\n",
       "      <th>Fare</th>\n",
       "      <th>Survived</th>\n",
       "    </tr>\n",
       "  </thead>\n",
       "  <tbody>\n",
       "    <tr>\n",
       "      <th>0</th>\n",
       "      <td>7.2500</td>\n",
       "      <td>0</td>\n",
       "    </tr>\n",
       "    <tr>\n",
       "      <th>1</th>\n",
       "      <td>71.2833</td>\n",
       "      <td>1</td>\n",
       "    </tr>\n",
       "    <tr>\n",
       "      <th>2</th>\n",
       "      <td>7.9250</td>\n",
       "      <td>1</td>\n",
       "    </tr>\n",
       "    <tr>\n",
       "      <th>3</th>\n",
       "      <td>53.1000</td>\n",
       "      <td>1</td>\n",
       "    </tr>\n",
       "    <tr>\n",
       "      <th>4</th>\n",
       "      <td>8.0500</td>\n",
       "      <td>0</td>\n",
       "    </tr>\n",
       "    <tr>\n",
       "      <th>...</th>\n",
       "      <td>...</td>\n",
       "      <td>...</td>\n",
       "    </tr>\n",
       "    <tr>\n",
       "      <th>886</th>\n",
       "      <td>13.0000</td>\n",
       "      <td>0</td>\n",
       "    </tr>\n",
       "    <tr>\n",
       "      <th>887</th>\n",
       "      <td>30.0000</td>\n",
       "      <td>1</td>\n",
       "    </tr>\n",
       "    <tr>\n",
       "      <th>888</th>\n",
       "      <td>23.4500</td>\n",
       "      <td>0</td>\n",
       "    </tr>\n",
       "    <tr>\n",
       "      <th>889</th>\n",
       "      <td>30.0000</td>\n",
       "      <td>1</td>\n",
       "    </tr>\n",
       "    <tr>\n",
       "      <th>890</th>\n",
       "      <td>7.7500</td>\n",
       "      <td>0</td>\n",
       "    </tr>\n",
       "  </tbody>\n",
       "</table>\n",
       "<p>891 rows × 2 columns</p>\n",
       "</div>"
      ],
      "text/plain": [
       "        Fare  Survived\n",
       "0     7.2500         0\n",
       "1    71.2833         1\n",
       "2     7.9250         1\n",
       "3    53.1000         1\n",
       "4     8.0500         0\n",
       "..       ...       ...\n",
       "886  13.0000         0\n",
       "887  30.0000         1\n",
       "888  23.4500         0\n",
       "889  30.0000         1\n",
       "890   7.7500         0\n",
       "\n",
       "[891 rows x 2 columns]"
      ]
     },
     "execution_count": 34,
     "metadata": {},
     "output_type": "execute_result"
    }
   ],
   "source": [
    "fare_surv"
   ]
  },
  {
   "cell_type": "markdown",
   "id": "340194cc",
   "metadata": {},
   "source": [
    "But more commonly we do it in a single line."
   ]
  },
  {
   "cell_type": "code",
   "execution_count": 35,
   "id": "3ab7d83d",
   "metadata": {},
   "outputs": [],
   "source": [
    "fare_surv = titanic[['Fare', 'Survived']]"
   ]
  },
  {
   "cell_type": "markdown",
   "id": "4c34d7a3",
   "metadata": {},
   "source": [
    "Your initial reaction might be \"Why the double brackets? Why not single brackets?\", and the reason should be clear if we look back at the two line example: the `DataFrame` expects a Python list, not separate strings. So the outer set of brackets are indexing brackets, and the inner set defines a Python list."
   ]
  },
  {
   "cell_type": "markdown",
   "id": "5730c0cf",
   "metadata": {},
   "source": [
    "### Getting rows"
   ]
  },
  {
   "cell_type": "markdown",
   "id": "84e7d753",
   "metadata": {},
   "source": [
    "We generally extract rows of interest by placing one or more criterea on a particular column. "
   ]
  },
  {
   "cell_type": "code",
   "execution_count": 36,
   "id": "55ddc809",
   "metadata": {},
   "outputs": [],
   "source": [
    "my_critereon = fare_surv['Fare'] > 20\n",
    "rich = fare_surv[my_critereon]"
   ]
  },
  {
   "cell_type": "markdown",
   "id": "c6081cbb",
   "metadata": {},
   "source": [
    "What is actually happening here is that the logical test `fare_surv['Fare'] > 20` is creating a pandas series that is `True` for the rows in which the fare paid was greater than 20 pounds sterling, and `False` otherwise. \n",
    "\n",
    "Let's look at `my_critereon`:"
   ]
  },
  {
   "cell_type": "code",
   "execution_count": 37,
   "id": "1b7f4ff7",
   "metadata": {},
   "outputs": [
    {
     "data": {
      "text/plain": [
       "0      False\n",
       "1       True\n",
       "2      False\n",
       "3       True\n",
       "4      False\n",
       "       ...  \n",
       "886    False\n",
       "887     True\n",
       "888     True\n",
       "889     True\n",
       "890    False\n",
       "Name: Fare, Length: 891, dtype: bool"
      ]
     },
     "execution_count": 37,
     "metadata": {},
     "output_type": "execute_result"
    }
   ],
   "source": [
    "my_critereon"
   ]
  },
  {
   "cell_type": "markdown",
   "id": "8cc5d987",
   "metadata": {},
   "source": [
    "This series is then used to get all the rows of `fare_surv` that correspond to the `True` values, and these are placed in `rich`.\n",
    "\n",
    "This is known as ***logical indexing***, and is widely used in data analysis!"
   ]
  },
  {
   "cell_type": "markdown",
   "id": "8af28b07",
   "metadata": {},
   "source": [
    "As with fetching columns, we can do this one line instead of two."
   ]
  },
  {
   "cell_type": "code",
   "execution_count": 38,
   "id": "d17ba64c",
   "metadata": {},
   "outputs": [],
   "source": [
    "rich = fare_surv[fare_surv['Fare'] > 20]"
   ]
  },
  {
   "cell_type": "markdown",
   "id": "bedfbe50",
   "metadata": {},
   "source": [
    "Whether you make a separate indexing series like `my_critereon` or put the test inside the indexing brackets is up to you. For simple tests, putting the test inside the brackets doesn't hurt the readability of the code at all. For more complicated tests – if you wanted all the cases of female passengers that paid between 20 and 50 lbs. for their fare, and had no siblings and two parents aboard, say – then you might want to make the test series first, and then do the indexing. "
   ]
  },
  {
   "cell_type": "markdown",
   "id": "8afd5de8",
   "metadata": {},
   "source": [
    "---"
   ]
  },
  {
   "cell_type": "markdown",
   "id": "01ca0131",
   "metadata": {},
   "source": [
    "In the cell below, get the passenger class (`Pclass`) and survival status of passengers that paid more than 20 pounds for their voyage."
   ]
  },
  {
   "cell_type": "code",
   "execution_count": 44,
   "id": "1e30f9d5",
   "metadata": {},
   "outputs": [
    {
     "name": "stdout",
     "output_type": "stream",
     "text": [
      "This the passenger class and survival status of passengers that paid more than 20 pounds for their voyage:\n"
     ]
    },
    {
     "data": {
      "text/html": [
       "<div>\n",
       "<style scoped>\n",
       "    .dataframe tbody tr th:only-of-type {\n",
       "        vertical-align: middle;\n",
       "    }\n",
       "\n",
       "    .dataframe tbody tr th {\n",
       "        vertical-align: top;\n",
       "    }\n",
       "\n",
       "    .dataframe thead th {\n",
       "        text-align: right;\n",
       "    }\n",
       "</style>\n",
       "<table border=\"1\" class=\"dataframe\">\n",
       "  <thead>\n",
       "    <tr style=\"text-align: right;\">\n",
       "      <th></th>\n",
       "      <th>Pclass</th>\n",
       "      <th>Survived</th>\n",
       "    </tr>\n",
       "  </thead>\n",
       "  <tbody>\n",
       "    <tr>\n",
       "      <th>1</th>\n",
       "      <td>1</td>\n",
       "      <td>1</td>\n",
       "    </tr>\n",
       "    <tr>\n",
       "      <th>3</th>\n",
       "      <td>1</td>\n",
       "      <td>1</td>\n",
       "    </tr>\n",
       "    <tr>\n",
       "      <th>6</th>\n",
       "      <td>1</td>\n",
       "      <td>0</td>\n",
       "    </tr>\n",
       "    <tr>\n",
       "      <th>7</th>\n",
       "      <td>3</td>\n",
       "      <td>0</td>\n",
       "    </tr>\n",
       "    <tr>\n",
       "      <th>9</th>\n",
       "      <td>2</td>\n",
       "      <td>1</td>\n",
       "    </tr>\n",
       "    <tr>\n",
       "      <th>...</th>\n",
       "      <td>...</td>\n",
       "      <td>...</td>\n",
       "    </tr>\n",
       "    <tr>\n",
       "      <th>880</th>\n",
       "      <td>2</td>\n",
       "      <td>1</td>\n",
       "    </tr>\n",
       "    <tr>\n",
       "      <th>885</th>\n",
       "      <td>3</td>\n",
       "      <td>0</td>\n",
       "    </tr>\n",
       "    <tr>\n",
       "      <th>887</th>\n",
       "      <td>1</td>\n",
       "      <td>1</td>\n",
       "    </tr>\n",
       "    <tr>\n",
       "      <th>888</th>\n",
       "      <td>3</td>\n",
       "      <td>0</td>\n",
       "    </tr>\n",
       "    <tr>\n",
       "      <th>889</th>\n",
       "      <td>1</td>\n",
       "      <td>1</td>\n",
       "    </tr>\n",
       "  </tbody>\n",
       "</table>\n",
       "<p>376 rows × 2 columns</p>\n",
       "</div>"
      ],
      "text/plain": [
       "     Pclass  Survived\n",
       "1         1         1\n",
       "3         1         1\n",
       "6         1         0\n",
       "7         3         0\n",
       "9         2         1\n",
       "..      ...       ...\n",
       "880       2         1\n",
       "885       3         0\n",
       "887       1         1\n",
       "888       3         0\n",
       "889       1         1\n",
       "\n",
       "[376 rows x 2 columns]"
      ]
     },
     "execution_count": 44,
     "metadata": {},
     "output_type": "execute_result"
    }
   ],
   "source": [
    "# passenger class and survival of high fares\n",
    "rich = titanic[titanic['Fare']>20]\n",
    "print('This the passenger class and survival status of passengers that paid more than 20 pounds for their voyage:')\n",
    "rich[['Pclass', 'Survived']]\n"
   ]
  },
  {
   "cell_type": "markdown",
   "id": "0ce2826b",
   "metadata": {},
   "source": [
    "Now fetch the same for passengers that paid 20 pounds or less for their voyage."
   ]
  },
  {
   "cell_type": "code",
   "execution_count": 45,
   "id": "21d3a700",
   "metadata": {
    "scrolled": false
   },
   "outputs": [
    {
     "name": "stdout",
     "output_type": "stream",
     "text": [
      "This is the passenger class and survival status of people who paid less than 20 pounds for their voyage:\n"
     ]
    },
    {
     "data": {
      "text/html": [
       "<div>\n",
       "<style scoped>\n",
       "    .dataframe tbody tr th:only-of-type {\n",
       "        vertical-align: middle;\n",
       "    }\n",
       "\n",
       "    .dataframe tbody tr th {\n",
       "        vertical-align: top;\n",
       "    }\n",
       "\n",
       "    .dataframe thead th {\n",
       "        text-align: right;\n",
       "    }\n",
       "</style>\n",
       "<table border=\"1\" class=\"dataframe\">\n",
       "  <thead>\n",
       "    <tr style=\"text-align: right;\">\n",
       "      <th></th>\n",
       "      <th>Pclass</th>\n",
       "      <th>Survived</th>\n",
       "    </tr>\n",
       "  </thead>\n",
       "  <tbody>\n",
       "    <tr>\n",
       "      <th>0</th>\n",
       "      <td>3</td>\n",
       "      <td>0</td>\n",
       "    </tr>\n",
       "    <tr>\n",
       "      <th>2</th>\n",
       "      <td>3</td>\n",
       "      <td>1</td>\n",
       "    </tr>\n",
       "    <tr>\n",
       "      <th>4</th>\n",
       "      <td>3</td>\n",
       "      <td>0</td>\n",
       "    </tr>\n",
       "    <tr>\n",
       "      <th>5</th>\n",
       "      <td>3</td>\n",
       "      <td>0</td>\n",
       "    </tr>\n",
       "    <tr>\n",
       "      <th>8</th>\n",
       "      <td>3</td>\n",
       "      <td>1</td>\n",
       "    </tr>\n",
       "    <tr>\n",
       "      <th>...</th>\n",
       "      <td>...</td>\n",
       "      <td>...</td>\n",
       "    </tr>\n",
       "    <tr>\n",
       "      <th>882</th>\n",
       "      <td>3</td>\n",
       "      <td>0</td>\n",
       "    </tr>\n",
       "    <tr>\n",
       "      <th>883</th>\n",
       "      <td>2</td>\n",
       "      <td>0</td>\n",
       "    </tr>\n",
       "    <tr>\n",
       "      <th>884</th>\n",
       "      <td>3</td>\n",
       "      <td>0</td>\n",
       "    </tr>\n",
       "    <tr>\n",
       "      <th>886</th>\n",
       "      <td>2</td>\n",
       "      <td>0</td>\n",
       "    </tr>\n",
       "    <tr>\n",
       "      <th>890</th>\n",
       "      <td>3</td>\n",
       "      <td>0</td>\n",
       "    </tr>\n",
       "  </tbody>\n",
       "</table>\n",
       "<p>515 rows × 2 columns</p>\n",
       "</div>"
      ],
      "text/plain": [
       "     Pclass  Survived\n",
       "0         3         0\n",
       "2         3         1\n",
       "4         3         0\n",
       "5         3         0\n",
       "8         3         1\n",
       "..      ...       ...\n",
       "882       3         0\n",
       "883       2         0\n",
       "884       3         0\n",
       "886       2         0\n",
       "890       3         0\n",
       "\n",
       "[515 rows x 2 columns]"
      ]
     },
     "execution_count": 45,
     "metadata": {},
     "output_type": "execute_result"
    }
   ],
   "source": [
    "# passenger class and survival of low fares\n",
    "poor = titanic[titanic['Fare']<20]\n",
    "print('This is the passenger class and survival status of people who paid less than 20 pounds for their voyage:')\n",
    "poor[['Pclass', 'Survived']]"
   ]
  },
  {
   "cell_type": "markdown",
   "id": "6dddbae0",
   "metadata": {},
   "source": [
    "Finally, get the class and survival status for passengers that paid either less than 10 lbs. **or** more than 50 lbs. for their fare. "
   ]
  },
  {
   "cell_type": "code",
   "execution_count": 51,
   "id": "f5998d53",
   "metadata": {},
   "outputs": [
    {
     "data": {
      "text/html": [
       "<div>\n",
       "<style scoped>\n",
       "    .dataframe tbody tr th:only-of-type {\n",
       "        vertical-align: middle;\n",
       "    }\n",
       "\n",
       "    .dataframe tbody tr th {\n",
       "        vertical-align: top;\n",
       "    }\n",
       "\n",
       "    .dataframe thead th {\n",
       "        text-align: right;\n",
       "    }\n",
       "</style>\n",
       "<table border=\"1\" class=\"dataframe\">\n",
       "  <thead>\n",
       "    <tr style=\"text-align: right;\">\n",
       "      <th></th>\n",
       "      <th>Pclass</th>\n",
       "      <th>Survived</th>\n",
       "    </tr>\n",
       "  </thead>\n",
       "  <tbody>\n",
       "    <tr>\n",
       "      <th>0</th>\n",
       "      <td>3</td>\n",
       "      <td>0</td>\n",
       "    </tr>\n",
       "    <tr>\n",
       "      <th>1</th>\n",
       "      <td>1</td>\n",
       "      <td>1</td>\n",
       "    </tr>\n",
       "    <tr>\n",
       "      <th>2</th>\n",
       "      <td>3</td>\n",
       "      <td>1</td>\n",
       "    </tr>\n",
       "    <tr>\n",
       "      <th>3</th>\n",
       "      <td>1</td>\n",
       "      <td>1</td>\n",
       "    </tr>\n",
       "    <tr>\n",
       "      <th>4</th>\n",
       "      <td>3</td>\n",
       "      <td>0</td>\n",
       "    </tr>\n",
       "    <tr>\n",
       "      <th>...</th>\n",
       "      <td>...</td>\n",
       "      <td>...</td>\n",
       "    </tr>\n",
       "    <tr>\n",
       "      <th>878</th>\n",
       "      <td>3</td>\n",
       "      <td>0</td>\n",
       "    </tr>\n",
       "    <tr>\n",
       "      <th>879</th>\n",
       "      <td>1</td>\n",
       "      <td>1</td>\n",
       "    </tr>\n",
       "    <tr>\n",
       "      <th>881</th>\n",
       "      <td>3</td>\n",
       "      <td>0</td>\n",
       "    </tr>\n",
       "    <tr>\n",
       "      <th>884</th>\n",
       "      <td>3</td>\n",
       "      <td>0</td>\n",
       "    </tr>\n",
       "    <tr>\n",
       "      <th>890</th>\n",
       "      <td>3</td>\n",
       "      <td>0</td>\n",
       "    </tr>\n",
       "  </tbody>\n",
       "</table>\n",
       "<p>496 rows × 2 columns</p>\n",
       "</div>"
      ],
      "text/plain": [
       "     Pclass  Survived\n",
       "0         3         0\n",
       "1         1         1\n",
       "2         3         1\n",
       "3         1         1\n",
       "4         3         0\n",
       "..      ...       ...\n",
       "878       3         0\n",
       "879       1         1\n",
       "881       3         0\n",
       "884       3         0\n",
       "890       3         0\n",
       "\n",
       "[496 rows x 2 columns]"
      ]
     },
     "execution_count": 51,
     "metadata": {},
     "output_type": "execute_result"
    }
   ],
   "source": [
    "# ppl paying a little *or* a lot\n",
    "less10more50 = titanic[(titanic['Fare']<10)|(titanic['Fare']>50)]\n",
    "less10more50[['Pclass', 'Survived']]"
   ]
  },
  {
   "cell_type": "code",
   "execution_count": 56,
   "id": "7cc62797",
   "metadata": {},
   "outputs": [
    {
     "data": {
      "text/html": [
       "<div>\n",
       "<style scoped>\n",
       "    .dataframe tbody tr th:only-of-type {\n",
       "        vertical-align: middle;\n",
       "    }\n",
       "\n",
       "    .dataframe tbody tr th {\n",
       "        vertical-align: top;\n",
       "    }\n",
       "\n",
       "    .dataframe thead th {\n",
       "        text-align: right;\n",
       "    }\n",
       "</style>\n",
       "<table border=\"1\" class=\"dataframe\">\n",
       "  <thead>\n",
       "    <tr style=\"text-align: right;\">\n",
       "      <th></th>\n",
       "      <th>Pclass</th>\n",
       "      <th>Survived</th>\n",
       "    </tr>\n",
       "  </thead>\n",
       "  <tbody>\n",
       "    <tr>\n",
       "      <th>0</th>\n",
       "      <td>3</td>\n",
       "      <td>0</td>\n",
       "    </tr>\n",
       "    <tr>\n",
       "      <th>1</th>\n",
       "      <td>1</td>\n",
       "      <td>1</td>\n",
       "    </tr>\n",
       "    <tr>\n",
       "      <th>2</th>\n",
       "      <td>3</td>\n",
       "      <td>1</td>\n",
       "    </tr>\n",
       "    <tr>\n",
       "      <th>3</th>\n",
       "      <td>1</td>\n",
       "      <td>1</td>\n",
       "    </tr>\n",
       "    <tr>\n",
       "      <th>4</th>\n",
       "      <td>3</td>\n",
       "      <td>0</td>\n",
       "    </tr>\n",
       "    <tr>\n",
       "      <th>...</th>\n",
       "      <td>...</td>\n",
       "      <td>...</td>\n",
       "    </tr>\n",
       "    <tr>\n",
       "      <th>878</th>\n",
       "      <td>3</td>\n",
       "      <td>0</td>\n",
       "    </tr>\n",
       "    <tr>\n",
       "      <th>879</th>\n",
       "      <td>1</td>\n",
       "      <td>1</td>\n",
       "    </tr>\n",
       "    <tr>\n",
       "      <th>881</th>\n",
       "      <td>3</td>\n",
       "      <td>0</td>\n",
       "    </tr>\n",
       "    <tr>\n",
       "      <th>884</th>\n",
       "      <td>3</td>\n",
       "      <td>0</td>\n",
       "    </tr>\n",
       "    <tr>\n",
       "      <th>890</th>\n",
       "      <td>3</td>\n",
       "      <td>0</td>\n",
       "    </tr>\n",
       "  </tbody>\n",
       "</table>\n",
       "<p>496 rows × 2 columns</p>\n",
       "</div>"
      ],
      "text/plain": [
       "     Pclass  Survived\n",
       "0         3         0\n",
       "1         1         1\n",
       "2         3         1\n",
       "3         1         1\n",
       "4         3         0\n",
       "..      ...       ...\n",
       "878       3         0\n",
       "879       1         1\n",
       "881       3         0\n",
       "884       3         0\n",
       "890       3         0\n",
       "\n",
       "[496 rows x 2 columns]"
      ]
     },
     "execution_count": 56,
     "metadata": {},
     "output_type": "execute_result"
    }
   ],
   "source": [
    "titanic[(titanic['Fare']<10)|(titanic['Fare']>50)][['Pclass', 'Survived']]"
   ]
  },
  {
   "cell_type": "markdown",
   "id": "e55616ec",
   "metadata": {},
   "source": [
    "If you did the above in two steps, see if you can do it in one go instead! There are hints just above."
   ]
  },
  {
   "cell_type": "markdown",
   "id": "5a3fc296",
   "metadata": {},
   "source": [
    "---"
   ]
  },
  {
   "cell_type": "markdown",
   "id": "92ca99af",
   "metadata": {},
   "source": [
    "## Basic Plotting"
   ]
  },
  {
   "cell_type": "markdown",
   "id": "45196c12",
   "metadata": {},
   "source": [
    "`DataFrame` objects know how to plot themselves! Or, more precisely, `DataFrame` objects have methods for plotting. Let's try!"
   ]
  },
  {
   "cell_type": "code",
   "execution_count": 76,
   "id": "a073294a",
   "metadata": {},
   "outputs": [
    {
     "data": {
      "text/plain": [
       "<AxesSubplot:>"
      ]
     },
     "execution_count": 76,
     "metadata": {},
     "output_type": "execute_result"
    },
    {
     "data": {
      "image/png": "[encoded data removed]",
      "text/plain": [
       "<Figure size 640x480 with 1 Axes>"
      ]
     },
     "metadata": {},
     "output_type": "display_data"
    }
   ],
   "source": [
    "import matplotlib.pyplot as plt\n",
    "fare_surv.plot()"
   ]
  },
  {
   "cell_type": "markdown",
   "id": "64897999",
   "metadata": {},
   "source": [
    "As a graph, this one isn't very informative, but it does show us what the default `DataFrame.plot()` method does: it plots (numerical) data by row index. This could be quite useful if a data frame were sorted on a particular variable..."
   ]
  },
  {
   "cell_type": "markdown",
   "id": "3d1ef0c2",
   "metadata": {},
   "source": [
    "Other type of plots are reached through plot, like `fare_surv.plot.scatter()` or similar. We can see what methods are available by hitting the \\<TAB\\> key after `DataFrame.plot.`\n",
    "    \n",
    "Do this below;"
   ]
  },
  {
   "cell_type": "code",
   "execution_count": null,
   "id": "548cd9f4",
   "metadata": {},
   "outputs": [],
   "source": [
    "fare_surv.plot."
   ]
  },
  {
   "cell_type": "markdown",
   "id": "0663ebde",
   "metadata": {},
   "source": [
    "So there *is* a `scatter()` available, along with many of our other `matplotlib` friends. \n",
    "\n",
    "Let's try a scatter plot Fare vs. Survival."
   ]
  },
  {
   "cell_type": "code",
   "execution_count": 77,
   "id": "ec733fc4",
   "metadata": {},
   "outputs": [
    {
     "data": {
      "text/plain": [
       "<AxesSubplot:xlabel='Survived', ylabel='Fare'>"
      ]
     },
     "execution_count": 77,
     "metadata": {},
     "output_type": "execute_result"
    },
    {
     "data": {
      "image/png": "[encoded data removed]",
      "text/plain": [
       "<Figure size 640x480 with 1 Axes>"
      ]
     },
     "metadata": {},
     "output_type": "display_data"
    }
   ],
   "source": [
    "fare_surv.plot.scatter(x=\"Survived\", y=\"Fare\", alpha = 0.1)"
   ]
  },
  {
   "cell_type": "markdown",
   "id": "166ea5ff",
   "metadata": {},
   "source": [
    "Looks like those 500 lb. fares were worth it."
   ]
  },
  {
   "cell_type": "markdown",
   "id": "b9093951",
   "metadata": {},
   "source": [
    "---"
   ]
  },
  {
   "cell_type": "markdown",
   "id": "f4d79241",
   "metadata": {},
   "source": [
    "Use the cell below to make a box plot of the ***column*** `Fare` ***by*** the variable `Survived`."
   ]
  },
  {
   "cell_type": "code",
   "execution_count": 79,
   "id": "021dd943",
   "metadata": {},
   "outputs": [
    {
     "data": {
      "text/plain": [
       "Text(0, 0.5, 'Fare')"
      ]
     },
     "execution_count": 79,
     "metadata": {},
     "output_type": "execute_result"
    },
    {
     "data": {
      "image/png": "[encoded data removed]",
      "text/plain": [
       "<Figure size 640x480 with 1 Axes>"
      ]
     },
     "metadata": {},
     "output_type": "display_data"
    }
   ],
   "source": [
    "# boxplot of Fare paid by Survival status\n",
    "fare_surv.plot.box('Survived')\n",
    "plt.title('Fare by Survival')\n",
    "plt.xlabel('Survival')\n",
    "plt.ylabel('Fare')"
   ]
  },
  {
   "cell_type": "markdown",
   "id": "09e9985f",
   "metadata": {},
   "source": [
    "---"
   ]
  },
  {
   "cell_type": "markdown",
   "id": "fd1a4161",
   "metadata": {},
   "source": [
    "## Calculating New Columns"
   ]
  },
  {
   "cell_type": "markdown",
   "id": "855d5ead",
   "metadata": {},
   "source": [
    "We often want to compute new columns based on existing ones. Pandas makes this really easy!"
   ]
  },
  {
   "cell_type": "markdown",
   "id": "8915d1df",
   "metadata": {},
   "source": [
    "Let's use numpy to make a toy data set of annual wages and income-from-interest for 10 people."
   ]
  },
  {
   "cell_type": "code",
   "execution_count": 67,
   "id": "8fced435",
   "metadata": {},
   "outputs": [],
   "source": [
    "import numpy as np"
   ]
  },
  {
   "cell_type": "markdown",
   "id": "fda77deb",
   "metadata": {},
   "source": [
    "In following code, you should be able to understand the numpy bit up top. The pandas bit further down should sort of make sense, but don't worry if you don't fully understand it. You can come back and look at it again after you've finished this tutorial."
   ]
  },
  {
   "cell_type": "code",
   "execution_count": 68,
   "id": "5f4a42ed",
   "metadata": {},
   "outputs": [
    {
     "data": {
      "text/html": [
       "<div>\n",
       "<style scoped>\n",
       "    .dataframe tbody tr th:only-of-type {\n",
       "        vertical-align: middle;\n",
       "    }\n",
       "\n",
       "    .dataframe tbody tr th {\n",
       "        vertical-align: top;\n",
       "    }\n",
       "\n",
       "    .dataframe thead th {\n",
       "        text-align: right;\n",
       "    }\n",
       "</style>\n",
       "<table border=\"1\" class=\"dataframe\">\n",
       "  <thead>\n",
       "    <tr style=\"text-align: right;\">\n",
       "      <th></th>\n",
       "      <th>wage</th>\n",
       "      <th>interest</th>\n",
       "      <th>gender</th>\n",
       "    </tr>\n",
       "  </thead>\n",
       "  <tbody>\n",
       "    <tr>\n",
       "      <th>0</th>\n",
       "      <td>108</td>\n",
       "      <td>77</td>\n",
       "      <td>f</td>\n",
       "    </tr>\n",
       "    <tr>\n",
       "      <th>1</th>\n",
       "      <td>165</td>\n",
       "      <td>43</td>\n",
       "      <td>m</td>\n",
       "    </tr>\n",
       "    <tr>\n",
       "      <th>2</th>\n",
       "      <td>143</td>\n",
       "      <td>85</td>\n",
       "      <td>n</td>\n",
       "    </tr>\n",
       "    <tr>\n",
       "      <th>3</th>\n",
       "      <td>108</td>\n",
       "      <td>69</td>\n",
       "      <td>f</td>\n",
       "    </tr>\n",
       "    <tr>\n",
       "      <th>4</th>\n",
       "      <td>120</td>\n",
       "      <td>209</td>\n",
       "      <td>f</td>\n",
       "    </tr>\n",
       "    <tr>\n",
       "      <th>5</th>\n",
       "      <td>152</td>\n",
       "      <td>97</td>\n",
       "      <td>n</td>\n",
       "    </tr>\n",
       "    <tr>\n",
       "      <th>6</th>\n",
       "      <td>173</td>\n",
       "      <td>76</td>\n",
       "      <td>m</td>\n",
       "    </tr>\n",
       "    <tr>\n",
       "      <th>7</th>\n",
       "      <td>171</td>\n",
       "      <td>78</td>\n",
       "      <td>m</td>\n",
       "    </tr>\n",
       "    <tr>\n",
       "      <th>8</th>\n",
       "      <td>151</td>\n",
       "      <td>12</td>\n",
       "      <td>f</td>\n",
       "    </tr>\n",
       "    <tr>\n",
       "      <th>9</th>\n",
       "      <td>183</td>\n",
       "      <td>45</td>\n",
       "      <td>f</td>\n",
       "    </tr>\n",
       "  </tbody>\n",
       "</table>\n",
       "</div>"
      ],
      "text/plain": [
       "   wage  interest gender\n",
       "0   108        77      f\n",
       "1   165        43      m\n",
       "2   143        85      n\n",
       "3   108        69      f\n",
       "4   120       209      f\n",
       "5   152        97      n\n",
       "6   173        76      m\n",
       "7   171        78      m\n",
       "8   151        12      f\n",
       "9   183        45      f"
      ]
     },
     "execution_count": 68,
     "metadata": {},
     "output_type": "execute_result"
    }
   ],
   "source": [
    "# make some incomes in thousands of US dollars\n",
    "rng = np.random.default_rng(seed=42)\n",
    "raw_dat = rng.integers(0,100,size=(10, 2))\n",
    "raw_dat[:,0] = raw_dat[:,0] + 100\n",
    "raw_dat[4,1] = raw_dat[4,1] + 200 \n",
    "\n",
    "# make initial column names\n",
    "col_names = ['wage', 'interest'] \n",
    "\n",
    "# make the initial pandas data frame\n",
    "incomes = pd.DataFrame(raw_dat, columns = col_names) \n",
    "\n",
    "# add a gender column \n",
    "gender = ['f', 'm', 'n', 'f', 'f', 'n', 'm', 'm', 'f', 'f']\n",
    "incomes['gender'] = gender\n",
    "\n",
    "# look at our new data frame\n",
    "incomes"
   ]
  },
  {
   "cell_type": "markdown",
   "id": "5ab790f0",
   "metadata": {},
   "source": [
    "One obvious thing to look at from a behavioral science perspective would be total income. After all, money is money..."
   ]
  },
  {
   "cell_type": "markdown",
   "id": "9d9c3133",
   "metadata": {},
   "source": [
    "So we'll make a new column for total income, and set it to the sum of the wage and interest columns. To do this, we address our desired column as though it already exists, and make it equal to what we want (the sum of wage and interest income, in this case)."
   ]
  },
  {
   "cell_type": "code",
   "execution_count": 72,
   "id": "01515d9e",
   "metadata": {},
   "outputs": [
    {
     "data": {
      "text/html": [
       "<div>\n",
       "<style scoped>\n",
       "    .dataframe tbody tr th:only-of-type {\n",
       "        vertical-align: middle;\n",
       "    }\n",
       "\n",
       "    .dataframe tbody tr th {\n",
       "        vertical-align: top;\n",
       "    }\n",
       "\n",
       "    .dataframe thead th {\n",
       "        text-align: right;\n",
       "    }\n",
       "</style>\n",
       "<table border=\"1\" class=\"dataframe\">\n",
       "  <thead>\n",
       "    <tr style=\"text-align: right;\">\n",
       "      <th></th>\n",
       "      <th>wage</th>\n",
       "      <th>interest</th>\n",
       "      <th>gender</th>\n",
       "      <th>total</th>\n",
       "    </tr>\n",
       "  </thead>\n",
       "  <tbody>\n",
       "    <tr>\n",
       "      <th>0</th>\n",
       "      <td>108</td>\n",
       "      <td>77</td>\n",
       "      <td>f</td>\n",
       "      <td>185</td>\n",
       "    </tr>\n",
       "    <tr>\n",
       "      <th>1</th>\n",
       "      <td>165</td>\n",
       "      <td>43</td>\n",
       "      <td>m</td>\n",
       "      <td>208</td>\n",
       "    </tr>\n",
       "    <tr>\n",
       "      <th>2</th>\n",
       "      <td>143</td>\n",
       "      <td>85</td>\n",
       "      <td>n</td>\n",
       "      <td>228</td>\n",
       "    </tr>\n",
       "    <tr>\n",
       "      <th>3</th>\n",
       "      <td>108</td>\n",
       "      <td>69</td>\n",
       "      <td>f</td>\n",
       "      <td>177</td>\n",
       "    </tr>\n",
       "    <tr>\n",
       "      <th>4</th>\n",
       "      <td>120</td>\n",
       "      <td>209</td>\n",
       "      <td>f</td>\n",
       "      <td>329</td>\n",
       "    </tr>\n",
       "    <tr>\n",
       "      <th>5</th>\n",
       "      <td>152</td>\n",
       "      <td>97</td>\n",
       "      <td>n</td>\n",
       "      <td>249</td>\n",
       "    </tr>\n",
       "    <tr>\n",
       "      <th>6</th>\n",
       "      <td>173</td>\n",
       "      <td>76</td>\n",
       "      <td>m</td>\n",
       "      <td>249</td>\n",
       "    </tr>\n",
       "    <tr>\n",
       "      <th>7</th>\n",
       "      <td>171</td>\n",
       "      <td>78</td>\n",
       "      <td>m</td>\n",
       "      <td>249</td>\n",
       "    </tr>\n",
       "    <tr>\n",
       "      <th>8</th>\n",
       "      <td>151</td>\n",
       "      <td>12</td>\n",
       "      <td>f</td>\n",
       "      <td>163</td>\n",
       "    </tr>\n",
       "    <tr>\n",
       "      <th>9</th>\n",
       "      <td>183</td>\n",
       "      <td>45</td>\n",
       "      <td>f</td>\n",
       "      <td>228</td>\n",
       "    </tr>\n",
       "  </tbody>\n",
       "</table>\n",
       "</div>"
      ],
      "text/plain": [
       "   wage  interest gender  total\n",
       "0   108        77      f    185\n",
       "1   165        43      m    208\n",
       "2   143        85      n    228\n",
       "3   108        69      f    177\n",
       "4   120       209      f    329\n",
       "5   152        97      n    249\n",
       "6   173        76      m    249\n",
       "7   171        78      m    249\n",
       "8   151        12      f    163\n",
       "9   183        45      f    228"
      ]
     },
     "execution_count": 72,
     "metadata": {},
     "output_type": "execute_result"
    }
   ],
   "source": [
    "incomes['total'] = incomes['wage'] + incomes['interest']\n",
    "incomes"
   ]
  },
  {
   "cell_type": "markdown",
   "id": "7f6a5456",
   "metadata": {},
   "source": [
    "*All of the **arithmetic** and **logical** operators can be used to create new columns based on existing ones.*"
   ]
  },
  {
   "cell_type": "markdown",
   "id": "3ccba50f",
   "metadata": {},
   "source": [
    "We can also use scaler multipliers or addends, etc. (like we did when we created the raw data with numpy just above). The scaler will be \"broadcast\" to each element of the column.\n",
    "\n",
    "For example, if we wanted to know the total income in Euros, we could do this:"
   ]
  },
  {
   "cell_type": "code",
   "execution_count": 73,
   "id": "fc3fc54f",
   "metadata": {},
   "outputs": [
    {
     "data": {
      "text/html": [
       "<div>\n",
       "<style scoped>\n",
       "    .dataframe tbody tr th:only-of-type {\n",
       "        vertical-align: middle;\n",
       "    }\n",
       "\n",
       "    .dataframe tbody tr th {\n",
       "        vertical-align: top;\n",
       "    }\n",
       "\n",
       "    .dataframe thead th {\n",
       "        text-align: right;\n",
       "    }\n",
       "</style>\n",
       "<table border=\"1\" class=\"dataframe\">\n",
       "  <thead>\n",
       "    <tr style=\"text-align: right;\">\n",
       "      <th></th>\n",
       "      <th>wage</th>\n",
       "      <th>interest</th>\n",
       "      <th>gender</th>\n",
       "      <th>total</th>\n",
       "      <th>total_eu</th>\n",
       "    </tr>\n",
       "  </thead>\n",
       "  <tbody>\n",
       "    <tr>\n",
       "      <th>0</th>\n",
       "      <td>108</td>\n",
       "      <td>77</td>\n",
       "      <td>f</td>\n",
       "      <td>185</td>\n",
       "      <td>173.90</td>\n",
       "    </tr>\n",
       "    <tr>\n",
       "      <th>1</th>\n",
       "      <td>165</td>\n",
       "      <td>43</td>\n",
       "      <td>m</td>\n",
       "      <td>208</td>\n",
       "      <td>195.52</td>\n",
       "    </tr>\n",
       "    <tr>\n",
       "      <th>2</th>\n",
       "      <td>143</td>\n",
       "      <td>85</td>\n",
       "      <td>n</td>\n",
       "      <td>228</td>\n",
       "      <td>214.32</td>\n",
       "    </tr>\n",
       "    <tr>\n",
       "      <th>3</th>\n",
       "      <td>108</td>\n",
       "      <td>69</td>\n",
       "      <td>f</td>\n",
       "      <td>177</td>\n",
       "      <td>166.38</td>\n",
       "    </tr>\n",
       "    <tr>\n",
       "      <th>4</th>\n",
       "      <td>120</td>\n",
       "      <td>209</td>\n",
       "      <td>f</td>\n",
       "      <td>329</td>\n",
       "      <td>309.26</td>\n",
       "    </tr>\n",
       "    <tr>\n",
       "      <th>5</th>\n",
       "      <td>152</td>\n",
       "      <td>97</td>\n",
       "      <td>n</td>\n",
       "      <td>249</td>\n",
       "      <td>234.06</td>\n",
       "    </tr>\n",
       "    <tr>\n",
       "      <th>6</th>\n",
       "      <td>173</td>\n",
       "      <td>76</td>\n",
       "      <td>m</td>\n",
       "      <td>249</td>\n",
       "      <td>234.06</td>\n",
       "    </tr>\n",
       "    <tr>\n",
       "      <th>7</th>\n",
       "      <td>171</td>\n",
       "      <td>78</td>\n",
       "      <td>m</td>\n",
       "      <td>249</td>\n",
       "      <td>234.06</td>\n",
       "    </tr>\n",
       "    <tr>\n",
       "      <th>8</th>\n",
       "      <td>151</td>\n",
       "      <td>12</td>\n",
       "      <td>f</td>\n",
       "      <td>163</td>\n",
       "      <td>153.22</td>\n",
       "    </tr>\n",
       "    <tr>\n",
       "      <th>9</th>\n",
       "      <td>183</td>\n",
       "      <td>45</td>\n",
       "      <td>f</td>\n",
       "      <td>228</td>\n",
       "      <td>214.32</td>\n",
       "    </tr>\n",
       "  </tbody>\n",
       "</table>\n",
       "</div>"
      ],
      "text/plain": [
       "   wage  interest gender  total  total_eu\n",
       "0   108        77      f    185    173.90\n",
       "1   165        43      m    208    195.52\n",
       "2   143        85      n    228    214.32\n",
       "3   108        69      f    177    166.38\n",
       "4   120       209      f    329    309.26\n",
       "5   152        97      n    249    234.06\n",
       "6   173        76      m    249    234.06\n",
       "7   171        78      m    249    234.06\n",
       "8   151        12      f    163    153.22\n",
       "9   183        45      f    228    214.32"
      ]
     },
     "execution_count": 73,
     "metadata": {},
     "output_type": "execute_result"
    }
   ],
   "source": [
    "dol2eu = 0.94 # 0.94 euros per US dollar (early 2023)\n",
    "incomes['total_eu'] = dol2eu * incomes['total']\n",
    "incomes"
   ]
  },
  {
   "cell_type": "markdown",
   "id": "bb0cf63c",
   "metadata": {},
   "source": [
    "---"
   ]
  },
  {
   "cell_type": "markdown",
   "id": "0dd412eb",
   "metadata": {},
   "source": [
    "In the cell below, add a Boolean (True/False) column that shows if each person's wages exceeds their income from interest."
   ]
  },
  {
   "cell_type": "code",
   "execution_count": 82,
   "id": "30ec841c",
   "metadata": {},
   "outputs": [
    {
     "data": {
      "text/html": [
       "<div>\n",
       "<style scoped>\n",
       "    .dataframe tbody tr th:only-of-type {\n",
       "        vertical-align: middle;\n",
       "    }\n",
       "\n",
       "    .dataframe tbody tr th {\n",
       "        vertical-align: top;\n",
       "    }\n",
       "\n",
       "    .dataframe thead th {\n",
       "        text-align: right;\n",
       "    }\n",
       "</style>\n",
       "<table border=\"1\" class=\"dataframe\">\n",
       "  <thead>\n",
       "    <tr style=\"text-align: right;\">\n",
       "      <th></th>\n",
       "      <th>wage</th>\n",
       "      <th>interest</th>\n",
       "      <th>gender</th>\n",
       "      <th>total</th>\n",
       "      <th>total_eu</th>\n",
       "      <th>wageExceedInt</th>\n",
       "    </tr>\n",
       "  </thead>\n",
       "  <tbody>\n",
       "    <tr>\n",
       "      <th>0</th>\n",
       "      <td>108</td>\n",
       "      <td>77</td>\n",
       "      <td>f</td>\n",
       "      <td>185</td>\n",
       "      <td>173.90</td>\n",
       "      <td>True</td>\n",
       "    </tr>\n",
       "    <tr>\n",
       "      <th>1</th>\n",
       "      <td>165</td>\n",
       "      <td>43</td>\n",
       "      <td>m</td>\n",
       "      <td>208</td>\n",
       "      <td>195.52</td>\n",
       "      <td>True</td>\n",
       "    </tr>\n",
       "    <tr>\n",
       "      <th>2</th>\n",
       "      <td>143</td>\n",
       "      <td>85</td>\n",
       "      <td>n</td>\n",
       "      <td>228</td>\n",
       "      <td>214.32</td>\n",
       "      <td>True</td>\n",
       "    </tr>\n",
       "    <tr>\n",
       "      <th>3</th>\n",
       "      <td>108</td>\n",
       "      <td>69</td>\n",
       "      <td>f</td>\n",
       "      <td>177</td>\n",
       "      <td>166.38</td>\n",
       "      <td>True</td>\n",
       "    </tr>\n",
       "    <tr>\n",
       "      <th>4</th>\n",
       "      <td>120</td>\n",
       "      <td>209</td>\n",
       "      <td>f</td>\n",
       "      <td>329</td>\n",
       "      <td>309.26</td>\n",
       "      <td>False</td>\n",
       "    </tr>\n",
       "    <tr>\n",
       "      <th>5</th>\n",
       "      <td>152</td>\n",
       "      <td>97</td>\n",
       "      <td>n</td>\n",
       "      <td>249</td>\n",
       "      <td>234.06</td>\n",
       "      <td>True</td>\n",
       "    </tr>\n",
       "    <tr>\n",
       "      <th>6</th>\n",
       "      <td>173</td>\n",
       "      <td>76</td>\n",
       "      <td>m</td>\n",
       "      <td>249</td>\n",
       "      <td>234.06</td>\n",
       "      <td>True</td>\n",
       "    </tr>\n",
       "    <tr>\n",
       "      <th>7</th>\n",
       "      <td>171</td>\n",
       "      <td>78</td>\n",
       "      <td>m</td>\n",
       "      <td>249</td>\n",
       "      <td>234.06</td>\n",
       "      <td>True</td>\n",
       "    </tr>\n",
       "    <tr>\n",
       "      <th>8</th>\n",
       "      <td>151</td>\n",
       "      <td>12</td>\n",
       "      <td>f</td>\n",
       "      <td>163</td>\n",
       "      <td>153.22</td>\n",
       "      <td>True</td>\n",
       "    </tr>\n",
       "    <tr>\n",
       "      <th>9</th>\n",
       "      <td>183</td>\n",
       "      <td>45</td>\n",
       "      <td>f</td>\n",
       "      <td>228</td>\n",
       "      <td>214.32</td>\n",
       "      <td>True</td>\n",
       "    </tr>\n",
       "  </tbody>\n",
       "</table>\n",
       "</div>"
      ],
      "text/plain": [
       "   wage  interest gender  total  total_eu  wageExceedInt\n",
       "0   108        77      f    185    173.90           True\n",
       "1   165        43      m    208    195.52           True\n",
       "2   143        85      n    228    214.32           True\n",
       "3   108        69      f    177    166.38           True\n",
       "4   120       209      f    329    309.26          False\n",
       "5   152        97      n    249    234.06           True\n",
       "6   173        76      m    249    234.06           True\n",
       "7   171        78      m    249    234.06           True\n",
       "8   151        12      f    163    153.22           True\n",
       "9   183        45      f    228    214.32           True"
      ]
     },
     "execution_count": 82,
     "metadata": {},
     "output_type": "execute_result"
    }
   ],
   "source": [
    "# adding a wages vs incomes comparison column\n",
    "incomes['wageExceedInt'] = incomes['wage']>incomes['interest']\n",
    "incomes"
   ]
  },
  {
   "cell_type": "markdown",
   "id": "23be05aa",
   "metadata": {},
   "source": [
    "---"
   ]
  },
  {
   "cell_type": "markdown",
   "id": "8f922339",
   "metadata": {},
   "source": [
    "## Summary Statistics"
   ]
  },
  {
   "cell_type": "markdown",
   "id": "dad36b43",
   "metadata": {},
   "source": [
    "Getting summary statistics is also something that pandas makes really easy. "
   ]
  },
  {
   "cell_type": "markdown",
   "id": "30f64c14",
   "metadata": {},
   "source": [
    "### Simple descriptive statistics"
   ]
  },
  {
   "cell_type": "markdown",
   "id": "e7c262ec",
   "metadata": {},
   "source": [
    "We can get a quick look an entire `DataFrame` with its `describe()` method (similar to `summary()` in R)."
   ]
  },
  {
   "cell_type": "code",
   "execution_count": 83,
   "id": "1025c7c7",
   "metadata": {},
   "outputs": [
    {
     "data": {
      "text/html": [
       "<div>\n",
       "<style scoped>\n",
       "    .dataframe tbody tr th:only-of-type {\n",
       "        vertical-align: middle;\n",
       "    }\n",
       "\n",
       "    .dataframe tbody tr th {\n",
       "        vertical-align: top;\n",
       "    }\n",
       "\n",
       "    .dataframe thead th {\n",
       "        text-align: right;\n",
       "    }\n",
       "</style>\n",
       "<table border=\"1\" class=\"dataframe\">\n",
       "  <thead>\n",
       "    <tr style=\"text-align: right;\">\n",
       "      <th></th>\n",
       "      <th>wage</th>\n",
       "      <th>interest</th>\n",
       "      <th>total</th>\n",
       "      <th>total_eu</th>\n",
       "    </tr>\n",
       "  </thead>\n",
       "  <tbody>\n",
       "    <tr>\n",
       "      <th>count</th>\n",
       "      <td>10.000000</td>\n",
       "      <td>10.000000</td>\n",
       "      <td>10.000000</td>\n",
       "      <td>10.000000</td>\n",
       "    </tr>\n",
       "    <tr>\n",
       "      <th>mean</th>\n",
       "      <td>147.400000</td>\n",
       "      <td>79.100000</td>\n",
       "      <td>226.500000</td>\n",
       "      <td>212.910000</td>\n",
       "    </tr>\n",
       "    <tr>\n",
       "      <th>std</th>\n",
       "      <td>27.281251</td>\n",
       "      <td>51.977452</td>\n",
       "      <td>47.815037</td>\n",
       "      <td>44.946135</td>\n",
       "    </tr>\n",
       "    <tr>\n",
       "      <th>min</th>\n",
       "      <td>108.000000</td>\n",
       "      <td>12.000000</td>\n",
       "      <td>163.000000</td>\n",
       "      <td>153.220000</td>\n",
       "    </tr>\n",
       "    <tr>\n",
       "      <th>25%</th>\n",
       "      <td>125.750000</td>\n",
       "      <td>51.000000</td>\n",
       "      <td>190.750000</td>\n",
       "      <td>179.305000</td>\n",
       "    </tr>\n",
       "    <tr>\n",
       "      <th>50%</th>\n",
       "      <td>151.500000</td>\n",
       "      <td>76.500000</td>\n",
       "      <td>228.000000</td>\n",
       "      <td>214.320000</td>\n",
       "    </tr>\n",
       "    <tr>\n",
       "      <th>75%</th>\n",
       "      <td>169.500000</td>\n",
       "      <td>83.250000</td>\n",
       "      <td>249.000000</td>\n",
       "      <td>234.060000</td>\n",
       "    </tr>\n",
       "    <tr>\n",
       "      <th>max</th>\n",
       "      <td>183.000000</td>\n",
       "      <td>209.000000</td>\n",
       "      <td>329.000000</td>\n",
       "      <td>309.260000</td>\n",
       "    </tr>\n",
       "  </tbody>\n",
       "</table>\n",
       "</div>"
      ],
      "text/plain": [
       "             wage    interest       total    total_eu\n",
       "count   10.000000   10.000000   10.000000   10.000000\n",
       "mean   147.400000   79.100000  226.500000  212.910000\n",
       "std     27.281251   51.977452   47.815037   44.946135\n",
       "min    108.000000   12.000000  163.000000  153.220000\n",
       "25%    125.750000   51.000000  190.750000  179.305000\n",
       "50%    151.500000   76.500000  228.000000  214.320000\n",
       "75%    169.500000   83.250000  249.000000  234.060000\n",
       "max    183.000000  209.000000  329.000000  309.260000"
      ]
     },
     "execution_count": 83,
     "metadata": {},
     "output_type": "execute_result"
    }
   ],
   "source": [
    "incomes.describe()"
   ]
  },
  {
   "cell_type": "markdown",
   "id": "8c5f989f",
   "metadata": {},
   "source": [
    "Notice that `describe()` handled the presence of a string column gracefully by ignoring it rather than producing an error."
   ]
  },
  {
   "cell_type": "markdown",
   "id": "99abeab0",
   "metadata": {},
   "source": [
    "If we hit the \\<TAB\\> key after `incomes.`, we'll see that `DataFrame` objects have a LOT of methods!"
   ]
  },
  {
   "cell_type": "code",
   "execution_count": null,
   "id": "ac35838d",
   "metadata": {},
   "outputs": [],
   "source": [
    "incomes."
   ]
  },
  {
   "cell_type": "markdown",
   "id": "5c5cbae1",
   "metadata": {},
   "source": [
    "If we browse around a little, we see that all the common summary statistics like mean, median, standard deviation, etc. are there, and they all have reasonable names. Let's compute the mean"
   ]
  },
  {
   "cell_type": "code",
   "execution_count": 84,
   "id": "c7ff223c",
   "metadata": {},
   "outputs": [
    {
     "name": "stderr",
     "output_type": "stream",
     "text": [
      "/var/folders/18/y5p3lwcd31j2dw1d0_k3lqsh0000gp/T/ipykernel_1463/1563429750.py:1: FutureWarning: Dropping of nuisance columns in DataFrame reductions (with 'numeric_only=None') is deprecated; in a future version this will raise TypeError.  Select only valid columns before calling the reduction.\n",
      "  incomes.mean()\n"
     ]
    },
    {
     "data": {
      "text/plain": [
       "wage             147.40\n",
       "interest          79.10\n",
       "total            226.50\n",
       "total_eu         212.91\n",
       "wageExceedInt      0.90\n",
       "dtype: float64"
      ]
     },
     "execution_count": 84,
     "metadata": {},
     "output_type": "execute_result"
    }
   ],
   "source": [
    "incomes.mean()"
   ]
  },
  {
   "cell_type": "markdown",
   "id": "6913836a",
   "metadata": {},
   "source": [
    "That worked, but it complained (at least my version of pandas did). It wants us to pick only valid (numeric) columns over which to compute the mean. Okay."
   ]
  },
  {
   "cell_type": "code",
   "execution_count": 85,
   "id": "5f7ff4de",
   "metadata": {},
   "outputs": [
    {
     "data": {
      "text/plain": [
       "wage        147.4\n",
       "interest     79.1\n",
       "dtype: float64"
      ]
     },
     "execution_count": 85,
     "metadata": {},
     "output_type": "execute_result"
    }
   ],
   "source": [
    "incomes[['wage', 'interest']].mean()"
   ]
  },
  {
   "cell_type": "markdown",
   "id": "ad12439e",
   "metadata": {},
   "source": [
    "---"
   ]
  },
  {
   "cell_type": "markdown",
   "id": "a353f1f9",
   "metadata": {},
   "source": [
    "Compute the standard deviation of total income (in Euros, if you prefer)"
   ]
  },
  {
   "cell_type": "code",
   "execution_count": 86,
   "id": "0b7dfa3a",
   "metadata": {},
   "outputs": [
    {
     "data": {
      "text/plain": [
       "47.81503715127468"
      ]
     },
     "execution_count": 86,
     "metadata": {},
     "output_type": "execute_result"
    }
   ],
   "source": [
    "# deviation of total income\n",
    "incomes['total'].std()"
   ]
  },
  {
   "cell_type": "markdown",
   "id": "20db0140",
   "metadata": {},
   "source": [
    "---"
   ]
  },
  {
   "cell_type": "markdown",
   "id": "1ef1ad4b",
   "metadata": {},
   "source": [
    "Pro tip: if you *do* want to compute a statistic on *all* the numeric columns on large data frame, you can save typing with `DataFrame.mean(numeric_only = True)`. Try it!"
   ]
  },
  {
   "cell_type": "code",
   "execution_count": 87,
   "id": "82ef1258",
   "metadata": {},
   "outputs": [
    {
     "data": {
      "text/plain": [
       "wage             147.40\n",
       "interest          79.10\n",
       "total            226.50\n",
       "total_eu         212.91\n",
       "wageExceedInt      0.90\n",
       "dtype: float64"
      ]
     },
     "execution_count": 87,
     "metadata": {},
     "output_type": "execute_result"
    }
   ],
   "source": [
    "incomes.mean(numeric_only=True)"
   ]
  },
  {
   "cell_type": "markdown",
   "id": "2d1679f2",
   "metadata": {},
   "source": [
    "### Computing statistics by group"
   ]
  },
  {
   "cell_type": "markdown",
   "id": "2cf1b091",
   "metadata": {},
   "source": [
    "We can also easily compute statistics separately based on a grouping variable, like 'gender' for the incomes data.\n",
    "\n",
    "Here's our grouping variable:"
   ]
  },
  {
   "cell_type": "code",
   "execution_count": 88,
   "id": "7a7d6b30",
   "metadata": {},
   "outputs": [
    {
     "data": {
      "text/plain": [
       "0    f\n",
       "1    m\n",
       "2    n\n",
       "3    f\n",
       "4    f\n",
       "5    n\n",
       "6    m\n",
       "7    m\n",
       "8    f\n",
       "9    f\n",
       "Name: gender, dtype: object"
      ]
     },
     "execution_count": 88,
     "metadata": {},
     "output_type": "execute_result"
    }
   ],
   "source": [
    "incomes['gender']"
   ]
  },
  {
   "cell_type": "markdown",
   "id": "846ba610",
   "metadata": {},
   "source": [
    "And now we'll use it in our data frame's `groupby()` method. Like this."
   ]
  },
  {
   "cell_type": "code",
   "execution_count": 89,
   "id": "8e20f30e",
   "metadata": {},
   "outputs": [
    {
     "data": {
      "text/html": [
       "<div>\n",
       "<style scoped>\n",
       "    .dataframe tbody tr th:only-of-type {\n",
       "        vertical-align: middle;\n",
       "    }\n",
       "\n",
       "    .dataframe tbody tr th {\n",
       "        vertical-align: top;\n",
       "    }\n",
       "\n",
       "    .dataframe thead th {\n",
       "        text-align: right;\n",
       "    }\n",
       "</style>\n",
       "<table border=\"1\" class=\"dataframe\">\n",
       "  <thead>\n",
       "    <tr style=\"text-align: right;\">\n",
       "      <th></th>\n",
       "      <th>total</th>\n",
       "    </tr>\n",
       "    <tr>\n",
       "      <th>gender</th>\n",
       "      <th></th>\n",
       "    </tr>\n",
       "  </thead>\n",
       "  <tbody>\n",
       "    <tr>\n",
       "      <th>f</th>\n",
       "      <td>216.400000</td>\n",
       "    </tr>\n",
       "    <tr>\n",
       "      <th>m</th>\n",
       "      <td>235.333333</td>\n",
       "    </tr>\n",
       "    <tr>\n",
       "      <th>n</th>\n",
       "      <td>238.500000</td>\n",
       "    </tr>\n",
       "  </tbody>\n",
       "</table>\n",
       "</div>"
      ],
      "text/plain": [
       "             total\n",
       "gender            \n",
       "f       216.400000\n",
       "m       235.333333\n",
       "n       238.500000"
      ]
     },
     "execution_count": 89,
     "metadata": {},
     "output_type": "execute_result"
    }
   ],
   "source": [
    "incomes[['total', 'gender']].groupby('gender').mean()"
   ]
  },
  {
   "cell_type": "markdown",
   "id": "63137ce0",
   "metadata": {},
   "source": [
    "If you are coming from the R/tidyverse world (e.g. if you took PSY420 recently), you'll recognize this command as similar to using the pipe (`%>%`).\n",
    "\n",
    "What's happening is that \n",
    "\n",
    "- `incomes[['total', 'gender']]` creates a data frame\n",
    "- `groupby('gender')` creates another data frame grouped by gender\n",
    "- `mean()` computes the mean on the grouped data frame"
   ]
  },
  {
   "cell_type": "markdown",
   "id": "a5597fbb",
   "metadata": {},
   "source": [
    "So we could (almost) turn this directly into R code that uses the pipe:\n",
    "```\n",
    "incomes[['total', 'gender']] %>%\n",
    "groupby('gender') %>%\n",
    "mean()\n",
    "```"
   ]
  },
  {
   "cell_type": "markdown",
   "id": "f6fe4d9f",
   "metadata": {},
   "source": [
    "How many people were in each group? Just use the `value_counts()` method!"
   ]
  },
  {
   "cell_type": "code",
   "execution_count": 90,
   "id": "77ce9511",
   "metadata": {},
   "outputs": [
    {
     "data": {
      "text/plain": [
       "f    5\n",
       "m    3\n",
       "n    2\n",
       "Name: gender, dtype: int64"
      ]
     },
     "execution_count": 90,
     "metadata": {},
     "output_type": "execute_result"
    }
   ],
   "source": [
    "incomes['gender'].value_counts()"
   ]
  },
  {
   "cell_type": "markdown",
   "id": "e88572ed",
   "metadata": {},
   "source": [
    "---"
   ]
  },
  {
   "cell_type": "markdown",
   "id": "3667aa4c",
   "metadata": {},
   "source": [
    "In the cell below, compute the survival rate for passengers on the RMS Titanic grouped by passenger class. \n",
    "\n",
    "(*hint* - having the Survived variable coded as 0 or 1 works to your advantage)"
   ]
  },
  {
   "cell_type": "code",
   "execution_count": 93,
   "id": "b00cbee8",
   "metadata": {},
   "outputs": [
    {
     "data": {
      "text/html": [
       "<div>\n",
       "<style scoped>\n",
       "    .dataframe tbody tr th:only-of-type {\n",
       "        vertical-align: middle;\n",
       "    }\n",
       "\n",
       "    .dataframe tbody tr th {\n",
       "        vertical-align: top;\n",
       "    }\n",
       "\n",
       "    .dataframe thead th {\n",
       "        text-align: right;\n",
       "    }\n",
       "</style>\n",
       "<table border=\"1\" class=\"dataframe\">\n",
       "  <thead>\n",
       "    <tr style=\"text-align: right;\">\n",
       "      <th></th>\n",
       "      <th>Survived</th>\n",
       "    </tr>\n",
       "    <tr>\n",
       "      <th>Pclass</th>\n",
       "      <th></th>\n",
       "    </tr>\n",
       "  </thead>\n",
       "  <tbody>\n",
       "    <tr>\n",
       "      <th>1</th>\n",
       "      <td>0.629630</td>\n",
       "    </tr>\n",
       "    <tr>\n",
       "      <th>2</th>\n",
       "      <td>0.472826</td>\n",
       "    </tr>\n",
       "    <tr>\n",
       "      <th>3</th>\n",
       "      <td>0.242363</td>\n",
       "    </tr>\n",
       "  </tbody>\n",
       "</table>\n",
       "</div>"
      ],
      "text/plain": [
       "        Survived\n",
       "Pclass          \n",
       "1       0.629630\n",
       "2       0.472826\n",
       "3       0.242363"
      ]
     },
     "execution_count": 93,
     "metadata": {},
     "output_type": "execute_result"
    }
   ],
   "source": [
    "titanic[['Pclass', 'Survived']].groupby('Pclass').mean()"
   ]
  },
  {
   "cell_type": "markdown",
   "id": "ef84e7c4",
   "metadata": {},
   "source": [
    "---"
   ]
  },
  {
   "cell_type": "markdown",
   "id": "7aae5fcf",
   "metadata": {},
   "source": [
    "### Multiple statistics using aggregation"
   ]
  },
  {
   "cell_type": "markdown",
   "id": "fd06c406",
   "metadata": {},
   "source": [
    "We can compute many things at once using the `agg()` (aggregate) method. To use this method, we pass it a dictionary in which the keys are column names and the values are lists of valid statistics (i.e. methods that `DataFrames` know about). Like this."
   ]
  },
  {
   "cell_type": "code",
   "execution_count": 94,
   "id": "6079509f",
   "metadata": {},
   "outputs": [
    {
     "data": {
      "text/html": [
       "<div>\n",
       "<style scoped>\n",
       "    .dataframe tbody tr th:only-of-type {\n",
       "        vertical-align: middle;\n",
       "    }\n",
       "\n",
       "    .dataframe tbody tr th {\n",
       "        vertical-align: top;\n",
       "    }\n",
       "\n",
       "    .dataframe thead th {\n",
       "        text-align: right;\n",
       "    }\n",
       "</style>\n",
       "<table border=\"1\" class=\"dataframe\">\n",
       "  <thead>\n",
       "    <tr style=\"text-align: right;\">\n",
       "      <th></th>\n",
       "      <th>wage</th>\n",
       "      <th>interest</th>\n",
       "      <th>total</th>\n",
       "    </tr>\n",
       "  </thead>\n",
       "  <tbody>\n",
       "    <tr>\n",
       "      <th>mean</th>\n",
       "      <td>147.400000</td>\n",
       "      <td>79.100000</td>\n",
       "      <td>226.500000</td>\n",
       "    </tr>\n",
       "    <tr>\n",
       "      <th>std</th>\n",
       "      <td>27.281251</td>\n",
       "      <td>51.977452</td>\n",
       "      <td>47.815037</td>\n",
       "    </tr>\n",
       "  </tbody>\n",
       "</table>\n",
       "</div>"
      ],
      "text/plain": [
       "            wage   interest       total\n",
       "mean  147.400000  79.100000  226.500000\n",
       "std    27.281251  51.977452   47.815037"
      ]
     },
     "execution_count": 94,
     "metadata": {},
     "output_type": "execute_result"
    }
   ],
   "source": [
    "my_stats_dict = {\n",
    "         \"wage\": [\"mean\", \"std\"],\n",
    "         \"interest\": [\"mean\", \"std\"],\n",
    "         \"total\": [\"mean\", \"std\"]\n",
    "     }\n",
    "\n",
    "incomes.agg(my_stats_dict)\n"
   ]
  },
  {
   "cell_type": "markdown",
   "id": "d870323e",
   "metadata": {},
   "source": [
    "You can do the above in one go (rather than defining a separate `my_stats_dict` object), but it looks a bit messy in our opinion."
   ]
  }
 ],
 "metadata": {
  "kernelspec": {
   "display_name": "Python 3 (ipykernel)",
   "language": "python",
   "name": "python3"
  },
  "language_info": {
   "codemirror_mode": {
    "name": "ipython",
    "version": 3
   },
   "file_extension": ".py",
   "mimetype": "text/x-python",
   "name": "python",
   "nbconvert_exporter": "python",
   "pygments_lexer": "ipython3",
   "version": "3.9.13"
  }
 },
 "nbformat": 4,
 "nbformat_minor": 5
}
