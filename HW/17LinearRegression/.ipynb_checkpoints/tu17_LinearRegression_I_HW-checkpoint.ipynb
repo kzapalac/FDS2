{
 "cells": [
  {
   "cell_type": "markdown",
   "id": "4e2b5bb0",
   "metadata": {},
   "source": [
    "# Linear Regression I: Homework"
   ]
  },
  {
   "cell_type": "markdown",
   "id": "b6ff8cbb",
   "metadata": {},
   "source": [
    "### Question 1:"
   ]
  },
  {
   "cell_type": "markdown",
   "id": "0be981a5",
   "metadata": {},
   "source": [
    "We have used the following code to generate different datasets with the same underlying properties but different noise ($\\epsilon$). \n",
    "\n",
    "To change the noise but not the underlying function, we have set `NumPy`'s `random.seed` to a different value (e.g., 42, 100, 34, etc). \n",
    "\n",
    "Each different random seed generated a slightly different dataset for us. Using this approach each dataset is generated using the same underlying function (a quadratic). \n",
    "\n",
    "In practice, all datasets are generated using the same properties of the function, such as, the min and max `x` data, the same number of datapoints (20) and the same scale of noise (the noise will be different but the scale of the noise will be the same, set to 5 in the code below). "
   ]
  },
  {
   "cell_type": "code",
   "execution_count": null,
   "id": "464704e4",
   "metadata": {},
   "outputs": [],
   "source": [
    "np.random.seed(42)\n",
    "x = np.linspace(-5, 5, num=20)\n",
    "y = 2*x**2 - x + 1 + np.random.normal(scale=5, size=len(x))"
   ]
  },
  {
   "cell_type": "markdown",
   "id": "be051b38",
   "metadata": {},
   "source": [
    "Your task is to use and modify that code above so as to generate 20 datasets with different noise characteristics, yet generated using the same underlying function. \n",
    "\n",
    "For each dataset:\n",
    "\n",
    "* Fit it with line and compute SSE\n",
    "* Fit it with parabola and compute SSE\n",
    "* Fit it with 12th-order polynomial and computet the SSE\n",
    "* For each type of model used to fit the datasets, make a plot of the mean and STD of the SSEs obtained across all datasets.\n",
    "* Describe the result obtained also making sure to answer the following questions:\n",
    "    * Which model fit has a smaller SSE on average?\n",
    "    * Which model has a more variable SSE across repeats? Why?\n",
    "\n",
    "Make sure you are approaching your coding using the best practices learned in class so far. Make proficient use of function definitions so as to limite repetitions in your code."
   ]
  },
  {
   "cell_type": "code",
   "execution_count": 67,
   "id": "91ceaf1c",
   "metadata": {},
   "outputs": [],
   "source": [
    "import numpy as np\n",
    "import pandas as pd\n",
    "import matplotlib.pyplot as plt\n",
    "import seaborn as sns"
   ]
  },
  {
   "cell_type": "code",
   "execution_count": 81,
   "id": "1edc2cf0",
   "metadata": {},
   "outputs": [],
   "source": [
    "# defining my functions\n",
    "# create dataset with the same parameters, different seed (nested in the next function)\n",
    "def new_data(seed):\n",
    "    np.random.seed(seed)\n",
    "    x = np.linspace(-5, 5, num=20)\n",
    "    y = 2*x**2 - x + 1 + np.random.normal(scale=5, size=len(x))\n",
    "    d={'x':x, 'y':y}\n",
    "    dataset = pd.DataFrame(data=d)\n",
    "    return dataset\n",
    "\n",
    "# create n datasets with different seeds\n",
    "def multiple_datasets(n):\n",
    "    d = {}\n",
    "    np.random.seed(42) # will create the same seeds every time, but can create more or less depending on n\n",
    "    seeds = np.random.randint(500, size=n)\n",
    "    for i in range(n):\n",
    "        d['dataset{0}'.format(i)] = new_data(seed=seeds[i])\n",
    "    return d\n",
    "\n",
    "# compute the sses (nested in next function)\n",
    "def sse(y_hat, y):\n",
    "    sse = sum((y-y_hat)**2)\n",
    "    return sse\n",
    "\n",
    "# fit with line for and compute sse for n datasets in a dict\n",
    "def model_sses(datasets, order):\n",
    "    sses = []\n",
    "    for i in range(len(datasets)):\n",
    "        df = datasets['dataset{0}'.format(i)] # pulls dataset n\n",
    "        model_coeffs = np.polyfit(df['x'], df['y'], deg=order)\n",
    "        model_fit = np.polyval(model_coeffs, df['x'])\n",
    "        SSE = sse(y_hat=model_fit, y=df['y'])\n",
    "        sses.append(SSE)\n",
    "    sses = pd.Series(sses)\n",
    "    return sses\n",
    "\n",
    "# calculate the mean and sd of sses for each model\n",
    "def calc_mean_sd(sses, name):\n",
    "    sses_mean_sd = pd.DataFrame(sses.agg({'mean':np.mean, 'sd':np.std})).T\n",
    "    sses_mean_sd.insert(0, \"model_type\", name)\n",
    "    return sses_mean_sd"
   ]
  },
  {
   "cell_type": "code",
   "execution_count": 104,
   "id": "890a3347",
   "metadata": {},
   "outputs": [
    {
     "name": "stdout",
     "output_type": "stream",
     "text": [
      "These are the means and standard deviations of the SSEs for each model:\n"
     ]
    },
    {
     "data": {
      "text/html": [
       "<div>\n",
       "<style scoped>\n",
       "    .dataframe tbody tr th:only-of-type {\n",
       "        vertical-align: middle;\n",
       "    }\n",
       "\n",
       "    .dataframe tbody tr th {\n",
       "        vertical-align: top;\n",
       "    }\n",
       "\n",
       "    .dataframe thead th {\n",
       "        text-align: right;\n",
       "    }\n",
       "</style>\n",
       "<table border=\"1\" class=\"dataframe\">\n",
       "  <thead>\n",
       "    <tr style=\"text-align: right;\">\n",
       "      <th></th>\n",
       "      <th>model_type</th>\n",
       "      <th>mean</th>\n",
       "      <th>sd</th>\n",
       "    </tr>\n",
       "  </thead>\n",
       "  <tbody>\n",
       "    <tr>\n",
       "      <th>0</th>\n",
       "      <td>line</td>\n",
       "      <td>5740.799881</td>\n",
       "      <td>949.868625</td>\n",
       "    </tr>\n",
       "    <tr>\n",
       "      <th>1</th>\n",
       "      <td>parabola</td>\n",
       "      <td>383.713829</td>\n",
       "      <td>131.556057</td>\n",
       "    </tr>\n",
       "    <tr>\n",
       "      <th>2</th>\n",
       "      <td>12th order</td>\n",
       "      <td>178.608190</td>\n",
       "      <td>82.691594</td>\n",
       "    </tr>\n",
       "  </tbody>\n",
       "</table>\n",
       "</div>"
      ],
      "text/plain": [
       "   model_type         mean          sd\n",
       "0        line  5740.799881  949.868625\n",
       "1    parabola   383.713829  131.556057\n",
       "2  12th order   178.608190   82.691594"
      ]
     },
     "metadata": {},
     "output_type": "display_data"
    },
    {
     "data": {
      "image/png": "[encoded data removed]",
      "text/plain": [
       "<Figure size 640x480 with 1 Axes>"
      ]
     },
     "metadata": {},
     "output_type": "display_data"
    }
   ],
   "source": [
    "# creating 20 datasets\n",
    "d = multiple_datasets(n=20)\n",
    "d # can look at it below\n",
    "\n",
    "# computing sses for different models\n",
    "sses_line = model_sses(datasets=d, order=1)\n",
    "df = pd.DataFrame({'type':'line', 'sses':sses_line})\n",
    "sses_parabola = model_sses(datasets=d, order=2)\n",
    "df2 = pd.DataFrame({'type':'parabola', 'sses':sses_parabola})\n",
    "sses_12thorder = model_sses(datasets=d, order=12)\n",
    "df3 = pd.DataFrame({'type':'12th order', 'sses':sses_12thorder})\n",
    "plotting_df = pd.concat([df,df2,df3], ignore_index=True)\n",
    "\n",
    "# plot\n",
    "sns.pointplot(data=plotting_df, x='type', y='sses', \n",
    "              ci='sd', join=False, scale=.8, errwidth=1.5, capsize=0.3)\n",
    "plt.title(\"Average SSEs for Each Model Type\")\n",
    "\n",
    "# df of the mean and sd of sses for each model\n",
    "mean_sd_line = calc_mean_sd(sses_line, 'line')\n",
    "mean_sd_parabola = calc_mean_sd(sses_parabola, 'parabola')\n",
    "mean_sd_12thorder = calc_mean_sd(sses_12thorder, '12th order')\n",
    "model_mean_sd = pd.concat([mean_sd_line, mean_sd_parabola, mean_sd_12thorder], ignore_index=True)\n",
    "print('These are the means and standard deviations of the SSEs for each model:')\n",
    "display(model_mean_sd)"
   ]
  },
  {
   "cell_type": "markdown",
   "id": "d9ea7da9",
   "metadata": {},
   "source": [
    "### Question 2"
   ]
  },
  {
   "cell_type": "markdown",
   "id": "ad92ea2f",
   "metadata": {},
   "source": []
  },
  {
   "cell_type": "code",
   "execution_count": null,
   "id": "00e12a26",
   "metadata": {},
   "outputs": [],
   "source": [
    "import numpy as np\n",
    "import matplotlib.pyplot as plt\n",
    "\n",
    "np.random.seed(30)\n",
    "x = np.linspace(-3, 10, num=30)\n",
    "y = 2*x**2 - x + 1 + np.random.normal(scale=9, size=len(x))\n",
    "\n",
    "plt.scatter(x,y, color='red')\n",
    "plt.legend()\n",
    "plt.show()"
   ]
  },
  {
   "cell_type": "markdown",
   "id": "dcebc6e9",
   "metadata": {},
   "source": [
    "#### Q 2.1\n",
    "\n",
    "Fit the dataset using a:\n",
    "* second order polynomial (save the coefficients of this model in variable `q_coeffs`)\n",
    "* third order polynomial (save the coefficients of this model in variable `t_coeffs`)\n",
    "* Compute the SSE for each model and determine which model is better, motivate your choice with numbers, text and plots."
   ]
  },
  {
   "cell_type": "code",
   "execution_count": null,
   "id": "824b34b8",
   "metadata": {},
   "outputs": [],
   "source": []
  },
  {
   "cell_type": "markdown",
   "id": "a1280405",
   "metadata": {},
   "source": [
    "#### Q 2.2\n",
    "\n",
    "Let's now create a new x for us:"
   ]
  },
  {
   "cell_type": "code",
   "execution_count": null,
   "id": "90d2b461",
   "metadata": {},
   "outputs": [],
   "source": [
    "x_new = np.linspace(-10, 10, num=30)"
   ]
  },
  {
   "cell_type": "markdown",
   "id": "3221cbb7",
   "metadata": {},
   "source": [
    "Your task is to use `q_coeffs` and `t_coeffs` in combination to this new `x_new` values to evaluate the model outside of the original range of the data (Hint: You should cosinder using  `polyval` to implement this).\n",
    "\n",
    "Note that above we are asking you to evaluate the original model fit within a certain range of x-values onto a new range of values. In a certain ways, we are asking you to use the models to make predictions of data outside of the original range of values. You are predicting data really **out there**!\n",
    "\n",
    "Next, do the following:\n",
    "* Plot the orginal x and the oriignal y (the orignal data) as black symbols.\n",
    "* Using different colors, plot on top of the same figure, the models fit over the new range of values (the models used to make the prediction). [Just to make sure, this plot should have data plus two curves]\n",
    "* Describe what you see:\n",
    "    * do both model seem reasonably good at making the prediction?\n",
    "    * which model seems better and why?\n",
    "    * which model had a better SSE? \n",
    "    * is the result with the SSE consistent with what it appears here from the plot?\n",
    "    * how do you interpret what it is going on here?\n"
   ]
  }
 ],
 "metadata": {
  "kernelspec": {
   "display_name": "Python 3 (ipykernel)",
   "language": "python",
   "name": "python3"
  },
  "language_info": {
   "codemirror_mode": {
    "name": "ipython",
    "version": 3
   },
   "file_extension": ".py",
   "mimetype": "text/x-python",
   "name": "python",
   "nbconvert_exporter": "python",
   "pygments_lexer": "ipython3",
   "version": "3.9.13"
  }
 },
 "nbformat": 4,
 "nbformat_minor": 5
}
