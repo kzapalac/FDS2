{
 "cells": [
  {
   "cell_type": "markdown",
   "id": "81d19d16",
   "metadata": {},
   "source": [
    "   # Ifs, loops, and function homework"
   ]
  },
  {
   "cell_type": "markdown",
   "id": "bd745db6",
   "metadata": {},
   "source": [
    "## 1. A function to reverse a string \n",
    "\n",
    "Write and test a function that reverses a string entered by a user. This function will have one input value (a string) and one output value (also a string).\n",
    "\n",
    "Test your function on, among other things, Napoleon's quote 'able was i ere i saw elba'"
   ]
  },
  {
   "cell_type": "code",
   "execution_count": 11,
   "id": "fcff5706",
   "metadata": {},
   "outputs": [
    {
     "data": {
      "text/plain": [
       "'able was i ere i saw elba'"
      ]
     },
     "execution_count": 11,
     "metadata": {},
     "output_type": "execute_result"
    }
   ],
   "source": [
    "a_string = 'able was i ere i saw elba'\n",
    "separator = '' \n",
    "separator.join(list(reversed(a_string)))"
   ]
  },
  {
   "cell_type": "code",
   "execution_count": 16,
   "id": "551a9bcb",
   "metadata": {},
   "outputs": [],
   "source": [
    "def reverse_a_string(a_string) :\n",
    "    separator = ''\n",
    "    reversed_string = separator.join(list(reversed(a_string)))\n",
    "    return reversed_string"
   ]
  },
  {
   "cell_type": "code",
   "execution_count": 14,
   "id": "9c9ba75e",
   "metadata": {},
   "outputs": [
    {
     "name": "stdout",
     "output_type": "stream",
     "text": [
      "This is my new reversed string: able was i ere i saw elba\n"
     ]
    }
   ],
   "source": [
    "a_string = 'able was i ere i saw elba'\n",
    "new_string = reverse_a_string(a_string)\n",
    "print(f'This is my new reversed string: {new_string}')"
   ]
  },
  {
   "cell_type": "markdown",
   "id": "72bc6f2e",
   "metadata": {},
   "source": [
    "*Optional challenge*: run the above on \"race car\" and then fix the resulting string."
   ]
  },
  {
   "cell_type": "code",
   "execution_count": 25,
   "id": "7abd516b",
   "metadata": {},
   "outputs": [
    {
     "name": "stdout",
     "output_type": "stream",
     "text": [
      "This is my new reversed string: rac ecar\n",
      "This is my new, fixed reversed string: race car\n"
     ]
    }
   ],
   "source": [
    "a_string = 'race car'\n",
    "new_string = reverse_a_string(a_string)\n",
    "print(f'This is my new reversed string: {new_string}')\n",
    "\n",
    "new_string_list = list(new_string)\n",
    "new_string_list[3] = 'e'\n",
    "new_string_list[4] = ' '\n",
    "separator = ''\n",
    "fixed_new_string = separator.join(new_string_list)\n",
    "print(f'This is my new, fixed reversed string: {fixed_new_string}')"
   ]
  },
  {
   "cell_type": "markdown",
   "id": "f351711e",
   "metadata": {},
   "source": [
    "## 2. Determine if a number is prime\n",
    "\n",
    "Write some code to test whether a number is prime or not, a prime number being an integer that is evenly divisible only by 1 and itself. \n",
    "\n",
    "Hint: another way to think about a prime number is that, if the smallest number (other than 1) that divides evenly into a number *is* that number, than the number is a prime.\n",
    "\n",
    "The easiest solution involves one `while` loop and one `if` test."
   ]
  },
  {
   "cell_type": "code",
   "execution_count": 1,
   "id": "4bef5c5c",
   "metadata": {},
   "outputs": [],
   "source": [
    "def prime_number(a_num):\n",
    "    trueOrFalse = False\n",
    "    if a_num == 1:\n",
    "        trueOrFalse = False\n",
    "    else :\n",
    "        i = 2\n",
    "        while i < a_num :\n",
    "            if a_num%i == 0 :\n",
    "                trueOrFalse = False\n",
    "                break\n",
    "            else :\n",
    "                trueOrFalse = True\n",
    "                i += 1\n",
    "    return trueOrFalse         "
   ]
  },
  {
   "cell_type": "code",
   "execution_count": 2,
   "id": "15767252",
   "metadata": {},
   "outputs": [
    {
     "data": {
      "text/plain": [
       "False"
      ]
     },
     "execution_count": 2,
     "metadata": {},
     "output_type": "execute_result"
    }
   ],
   "source": [
    "prime_number(4)"
   ]
  },
  {
   "cell_type": "markdown",
   "id": "97515edc",
   "metadata": {},
   "source": [
    "## 3. Find the first 10 primes\n",
    "\n",
    "Extend your code above to find the first 10 prime numbers. This will involve wrapping your existing code in another \"outer\" loop.\n"
   ]
  },
  {
   "cell_type": "code",
   "execution_count": 8,
   "id": "81e11a9d",
   "metadata": {},
   "outputs": [
    {
     "name": "stdout",
     "output_type": "stream",
     "text": [
      "[3, 5, 7, 11, 13, 17, 19, 23, 29, 31]\n"
     ]
    }
   ],
   "source": [
    "primeNumbers = []\n",
    "a_num = 1\n",
    "\n",
    "while len(primeNumbers) < 10 :\n",
    "    trueOrFalse = prime_number(a_num)\n",
    "    if trueOrFalse == True :\n",
    "        primeNumbers.append(a_num)\n",
    "    a_num += 1\n",
    "\n",
    "print(primeNumbers)"
   ]
  },
  {
   "cell_type": "markdown",
   "id": "13c2c9d2",
   "metadata": {},
   "source": [
    "## 4. Make a function to compute the first n primes\n",
    "\n",
    "Functionalize (is that a word?) your above code. A user should be able to call your code with one integer argument and get a list back containing that number of primes. Make sure your function handles inputs of an incorrect type gracefully. You should also warn the user if they enter a really big number (which could take a long time...), and give them the option of either bailing or entering a different number."
   ]
  },
  {
   "cell_type": "code",
   "execution_count": 9,
   "id": "092c58b1",
   "metadata": {},
   "outputs": [],
   "source": [
    "def listPrimeNumbers(numberOfPrimes) :\n",
    "    primeNumbers = []\n",
    "    a_num = 1\n",
    "\n",
    "    while len(primeNumbers) < numberOfPrimes :\n",
    "        trueOrFalse = prime_number(a_num)\n",
    "        if trueOrFalse == True :\n",
    "            primeNumbers.append(a_num)\n",
    "        a_num += 1\n",
    "\n",
    "    return primeNumbers"
   ]
  },
  {
   "cell_type": "code",
   "execution_count": 10,
   "id": "3fbc65d8",
   "metadata": {},
   "outputs": [
    {
     "data": {
      "text/plain": [
       "[3, 5, 7, 11, 13, 17, 19, 23, 29, 31, 37, 41, 43, 47, 53]"
      ]
     },
     "execution_count": 10,
     "metadata": {},
     "output_type": "execute_result"
    }
   ],
   "source": [
    "listPrimeNumbers(15)"
   ]
  },
  {
   "cell_type": "code",
   "execution_count": 11,
   "id": "151ba572",
   "metadata": {},
   "outputs": [],
   "source": [
    "def listPrimeNumbers(numberOfPrimes) :\n",
    "    try:\n",
    "        primeNumbers = []\n",
    "        a_num = 1\n",
    "\n",
    "        while len(primeNumbers) < numberOfPrimes :\n",
    "\n",
    "            trueOrFalse = prime_number(a_num)\n",
    "            if trueOrFalse == True :\n",
    "                primeNumbers.append(a_num)\n",
    "            a_num += 1\n",
    "\n",
    "        return primeNumbers\n",
    "    except TypeError:\n",
    "        print(f'Please try again by entering a number, either a float or integer, instead of {type(numberOfPrimes)}')       "
   ]
  },
  {
   "cell_type": "code",
   "execution_count": 13,
   "id": "02f28a2f",
   "metadata": {},
   "outputs": [
    {
     "name": "stdout",
     "output_type": "stream",
     "text": [
      "Please try again by entering a number, either a float or integer, instead of <class 'str'>\n"
     ]
    }
   ],
   "source": [
    "listPrimeNumbers('hi')"
   ]
  },
  {
   "cell_type": "code",
   "execution_count": 3,
   "id": "2736e1f5",
   "metadata": {},
   "outputs": [],
   "source": [
    "def listPrimeNumbers(numberOfPrimes) :\n",
    "    \n",
    "    try:\n",
    "        primeNumbers = []\n",
    "        a_num = 1\n",
    "        tooManyNumbers = 100\n",
    "        while len(primeNumbers) < numberOfPrimes :\n",
    "            \n",
    "            if numberOfPrimes > tooManyNumbers :\n",
    "                print('Oops! That\\'s a lot of numbers...maybe do less')\n",
    "                stop = input('Are you sure you want to continue? [Y/N]')\n",
    "                if stop == 'N' :\n",
    "                    break\n",
    "                if stop == 'Y' :\n",
    "                    tooManyNumbers = numberOfPrimes + 1\n",
    "                    \n",
    "                    \n",
    "            else :\n",
    "                trueOrFalse = prime_number(a_num)\n",
    "                if trueOrFalse == True :\n",
    "                    primeNumbers.append(a_num)\n",
    "                a_num += 1\n",
    "\n",
    "        return primeNumbers\n",
    "    except TypeError:\n",
    "        print(f'Please try again by entering a number, either a float or integer, instead of {type(numberOfPrimes)}')       "
   ]
  },
  {
   "cell_type": "code",
   "execution_count": 4,
   "id": "b4abb7d7",
   "metadata": {},
   "outputs": [
    {
     "name": "stdout",
     "output_type": "stream",
     "text": [
      "Oops! That's a lot of numbers...maybe do less\n",
      "Are you sure you want to continue? [Y/N]Y\n"
     ]
    },
    {
     "data": {
      "text/plain": [
       "[3,\n",
       " 5,\n",
       " 7,\n",
       " 11,\n",
       " 13,\n",
       " 17,\n",
       " 19,\n",
       " 23,\n",
       " 29,\n",
       " 31,\n",
       " 37,\n",
       " 41,\n",
       " 43,\n",
       " 47,\n",
       " 53,\n",
       " 59,\n",
       " 61,\n",
       " 67,\n",
       " 71,\n",
       " 73,\n",
       " 79,\n",
       " 83,\n",
       " 89,\n",
       " 97,\n",
       " 101,\n",
       " 103,\n",
       " 107,\n",
       " 109,\n",
       " 113,\n",
       " 127,\n",
       " 131,\n",
       " 137,\n",
       " 139,\n",
       " 149,\n",
       " 151,\n",
       " 157,\n",
       " 163,\n",
       " 167,\n",
       " 173,\n",
       " 179,\n",
       " 181,\n",
       " 191,\n",
       " 193,\n",
       " 197,\n",
       " 199,\n",
       " 211,\n",
       " 223,\n",
       " 227,\n",
       " 229,\n",
       " 233,\n",
       " 239,\n",
       " 241,\n",
       " 251,\n",
       " 257,\n",
       " 263,\n",
       " 269,\n",
       " 271,\n",
       " 277,\n",
       " 281,\n",
       " 283,\n",
       " 293,\n",
       " 307,\n",
       " 311,\n",
       " 313,\n",
       " 317,\n",
       " 331,\n",
       " 337,\n",
       " 347,\n",
       " 349,\n",
       " 353,\n",
       " 359,\n",
       " 367,\n",
       " 373,\n",
       " 379,\n",
       " 383,\n",
       " 389,\n",
       " 397,\n",
       " 401,\n",
       " 409,\n",
       " 419,\n",
       " 421,\n",
       " 431,\n",
       " 433,\n",
       " 439,\n",
       " 443,\n",
       " 449,\n",
       " 457,\n",
       " 461,\n",
       " 463,\n",
       " 467,\n",
       " 479,\n",
       " 487,\n",
       " 491,\n",
       " 499,\n",
       " 503,\n",
       " 509,\n",
       " 521,\n",
       " 523,\n",
       " 541,\n",
       " 547,\n",
       " 557]"
      ]
     },
     "execution_count": 4,
     "metadata": {},
     "output_type": "execute_result"
    }
   ],
   "source": [
    "listPrimeNumbers(101)"
   ]
  },
  {
   "cell_type": "code",
   "execution_count": 5,
   "id": "e9605738",
   "metadata": {},
   "outputs": [
    {
     "data": {
      "text/plain": [
       "[3, 5, 7, 11, 13, 17, 19, 23, 29, 31, 37, 41, 43, 47, 53, 59, 61]"
      ]
     },
     "execution_count": 5,
     "metadata": {},
     "output_type": "execute_result"
    }
   ],
   "source": [
    "listPrimeNumbers(17)"
   ]
  },
  {
   "cell_type": "code",
   "execution_count": 6,
   "id": "025abb5f",
   "metadata": {},
   "outputs": [
    {
     "name": "stdout",
     "output_type": "stream",
     "text": [
      "Please try again by entering a number, either a float or integer, instead of <class 'str'>\n"
     ]
    }
   ],
   "source": [
    "listPrimeNumbers('hi')"
   ]
  },
  {
   "cell_type": "code",
   "execution_count": 7,
   "id": "68b1fcae",
   "metadata": {},
   "outputs": [
    {
     "name": "stdout",
     "output_type": "stream",
     "text": [
      "Oops! That's a lot of numbers...maybe do less\n",
      "Are you sure you want to continue? [Y/N]N\n"
     ]
    },
    {
     "data": {
      "text/plain": [
       "[]"
      ]
     },
     "execution_count": 7,
     "metadata": {},
     "output_type": "execute_result"
    }
   ],
   "source": [
    "listPrimeNumbers(200)"
   ]
  },
  {
   "cell_type": "code",
   "execution_count": null,
   "id": "8cc301f7",
   "metadata": {},
   "outputs": [],
   "source": []
  }
 ],
 "metadata": {
  "kernelspec": {
   "display_name": "Python 3 (ipykernel)",
   "language": "python",
   "name": "python3"
  },
  "language_info": {
   "codemirror_mode": {
    "name": "ipython",
    "version": 3
   },
   "file_extension": ".py",
   "mimetype": "text/x-python",
   "name": "python",
   "nbconvert_exporter": "python",
   "pygments_lexer": "ipython3",
   "version": "3.9.7"
  }
 },
 "nbformat": 4,
 "nbformat_minor": 5
}
