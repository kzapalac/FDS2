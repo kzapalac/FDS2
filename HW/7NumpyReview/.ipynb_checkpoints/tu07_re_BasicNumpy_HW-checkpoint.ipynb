{
 "cells": [
  {
   "cell_type": "markdown",
   "id": "1f1534b9",
   "metadata": {},
   "source": [
    "# Numpy review homework"
   ]
  },
  {
   "cell_type": "markdown",
   "id": "4db19bcf",
   "metadata": {},
   "source": [
    "1. Make a numpy matrix from a Python list of lists..."
   ]
  },
  {
   "cell_type": "code",
   "execution_count": 4,
   "id": "6b140a06",
   "metadata": {},
   "outputs": [
    {
     "name": "stdout",
     "output_type": "stream",
     "text": [
      "[[ 1.1   2.3   4.6 ]\n",
      " [10.   15.    3.6 ]\n",
      " [23.    7.61  1.01]\n",
      " [ 9.99  3.    5.5 ]]\n"
     ]
    }
   ],
   "source": [
    "import numpy as np\n",
    "\n",
    "list_of_lists = [[1.1, 2.3, 4.6], [10, 15, 3.6], [23, 7.61, 1.01], [9.99, 3, 5.5]]\n",
    "my_matrix = np.array(list_of_lists)\n",
    "print(my_matrix)"
   ]
  },
  {
   "cell_type": "markdown",
   "id": "dd6e8ffb",
   "metadata": {},
   "source": [
    "2. Make a 3D numpy matrix from a Python list of lists of lists!"
   ]
  },
  {
   "cell_type": "code",
   "execution_count": 5,
   "id": "c977766b",
   "metadata": {},
   "outputs": [
    {
     "name": "stdout",
     "output_type": "stream",
     "text": [
      "[[[ 1  2  3]\n",
      "  [ 4  5  6]\n",
      "  [ 7  8  9]]\n",
      "\n",
      " [[10 11 12]\n",
      "  [13 14 15]\n",
      "  [16 17 18]]\n",
      "\n",
      " [[19 20 21]\n",
      "  [21 22 23]\n",
      "  [24 25 26]]]\n"
     ]
    }
   ],
   "source": [
    "list_of_lists_of_lists = [[[1,2,3], [4,5,6], [7,8,9]],\n",
    "                         [[10,11,12], [13,14,15], [16,17,18]],\n",
    "                         [[19,20,21], [21,22,23], [24,25,26]]]\n",
    "my_3d_matrix = np.array(list_of_lists_of_lists)\n",
    "print(my_3d_matrix)\n"
   ]
  },
  {
   "cell_type": "markdown",
   "id": "8ad64691",
   "metadata": {},
   "source": [
    "3. Create a 5x3 array of Gaussian random numbers. "
   ]
  },
  {
   "cell_type": "code",
   "execution_count": 6,
   "id": "5f280edc",
   "metadata": {},
   "outputs": [
    {
     "name": "stdout",
     "output_type": "stream",
     "text": [
      "[[ 1.10274804  1.02527696  1.27226392]\n",
      " [-1.8119091  -0.52678092  0.56378341]\n",
      " [-0.72899902  0.67061466 -0.40828471]\n",
      " [-0.84152663 -0.79987753 -0.20720702]\n",
      " [ 1.571527   -0.2295595   0.82470127]]\n"
     ]
    }
   ],
   "source": [
    "random_array = np.random.randn(5, 3)\n",
    "print(random_array)"
   ]
  },
  {
   "cell_type": "markdown",
   "id": "d129639e",
   "metadata": {},
   "source": [
    "4. Write a script to go through the array created in 3. and announce (print) the value and its row and column indexes.\n",
    "\n",
    "Hint: Use nested `for` loops - one to loop through the rows and one to loop through the columns."
   ]
  },
  {
   "cell_type": "code",
   "execution_count": 11,
   "id": "1a3e9cda",
   "metadata": {},
   "outputs": [
    {
     "name": "stdout",
     "output_type": "stream",
     "text": [
      "This is the value in row 1 and column 1: 1.1027480393635682\n",
      "This is the value in row 1 and column 2: 1.0252769563736714\n",
      "This is the value in row 1 and column 3: 1.2722639197187569\n",
      "This is the value in row 2 and column 1: -1.8119091000974974\n",
      "This is the value in row 2 and column 2: -0.5267809197695899\n",
      "This is the value in row 2 and column 3: 0.5637834105761039\n",
      "This is the value in row 3 and column 1: -0.7289990201682743\n",
      "This is the value in row 3 and column 2: 0.670614656921107\n",
      "This is the value in row 3 and column 3: -0.40828470975708053\n",
      "This is the value in row 4 and column 1: -0.8415266319864865\n",
      "This is the value in row 4 and column 2: -0.799877534146249\n",
      "This is the value in row 4 and column 3: -0.2072070209863994\n",
      "This is the value in row 5 and column 1: 1.5715270022586088\n",
      "This is the value in row 5 and column 2: -0.2295594962780532\n",
      "This is the value in row 5 and column 3: 0.8247012699215408\n"
     ]
    }
   ],
   "source": [
    "rows, columns = random_array.shape\n",
    "\n",
    "for i in range(rows) :\n",
    "    for j in range(columns) :\n",
    "        print(f'This is the value in row {i + 1} and column {j + 1}: {random_array[i, j]}')"
   ]
  },
  {
   "cell_type": "markdown",
   "id": "2f6c8094",
   "metadata": {},
   "source": [
    "5. Make an new array out of your random numbers such that the mean is 10 and the standard deviation is 3."
   ]
  },
  {
   "cell_type": "code",
   "execution_count": 12,
   "id": "b8cfc374",
   "metadata": {},
   "outputs": [
    {
     "name": "stdout",
     "output_type": "stream",
     "text": [
      "[[13.30824412 13.07583087 13.81679176]\n",
      " [ 4.5642727   8.41965724 11.69135023]\n",
      " [ 7.81300294 12.01184397  8.77514587]\n",
      " [ 7.4754201   7.6003674   9.37837894]\n",
      " [14.71458101  9.31132151 12.47410381]]\n",
      "This is the mean of my new array: 10.295354164388744\n",
      "This is the standard deviation of my new array: 2.8312720069740713\n"
     ]
    }
   ],
   "source": [
    "new_array = random_array * 3 + 10\n",
    "print(new_array)\n",
    "print(f'This is the mean of my new array: {new_array.mean()}')\n",
    "print(f'This is the standard deviation of my new array: {new_array.std()}')\n"
   ]
  },
  {
   "cell_type": "markdown",
   "id": "431e4556",
   "metadata": {},
   "source": [
    "6. Count the number of values in your new array that are below 7."
   ]
  },
  {
   "cell_type": "code",
   "execution_count": 18,
   "id": "80cb12c5",
   "metadata": {},
   "outputs": [
    {
     "name": "stdout",
     "output_type": "stream",
     "text": [
      "[[False False False]\n",
      " [ True False False]\n",
      " [False False False]\n",
      " [False False False]\n",
      " [False False False]]\n",
      "The is 1 values below 7.\n"
     ]
    }
   ],
   "source": [
    "below_7 = new_array < 7\n",
    "print(below_7)\n",
    "print(f'The is {below_7.sum()} values below 7.')\n"
   ]
  },
  {
   "cell_type": "markdown",
   "id": "f7191a90",
   "metadata": {},
   "source": [
    "7. Make a numpy sequence that has the even numbers from 2 up to (and including) 20."
   ]
  },
  {
   "cell_type": "code",
   "execution_count": 24,
   "id": "23277d0c",
   "metadata": {},
   "outputs": [
    {
     "data": {
      "text/plain": [
       "array([ 2,  4,  6,  8, 10, 12, 14, 16, 18, 20])"
      ]
     },
     "execution_count": 24,
     "metadata": {},
     "output_type": "execute_result"
    }
   ],
   "source": [
    "np.arange(2, 21, 2)"
   ]
  },
  {
   "cell_type": "markdown",
   "id": "40bd499e",
   "metadata": {},
   "source": [
    "8. Get the second and third rows of your array."
   ]
  },
  {
   "cell_type": "code",
   "execution_count": 25,
   "id": "1abb0c7b",
   "metadata": {},
   "outputs": [
    {
     "data": {
      "text/plain": [
       "array([[ 4.5642727 ,  8.41965724, 11.69135023],\n",
       "       [ 7.81300294, 12.01184397,  8.77514587]])"
      ]
     },
     "execution_count": 25,
     "metadata": {},
     "output_type": "execute_result"
    }
   ],
   "source": [
    "new_array[1:3, :]"
   ]
  },
  {
   "cell_type": "markdown",
   "id": "1c3779c3",
   "metadata": {},
   "source": [
    "9. Compute the mean of the columns of your array."
   ]
  },
  {
   "cell_type": "code",
   "execution_count": 26,
   "id": "4e166283",
   "metadata": {},
   "outputs": [
    {
     "data": {
      "text/plain": [
       "array([ 9.57510417, 10.0838042 , 11.22715412])"
      ]
     },
     "execution_count": 26,
     "metadata": {},
     "output_type": "execute_result"
    }
   ],
   "source": [
    "new_array.mean(0)"
   ]
  }
 ],
 "metadata": {
  "kernelspec": {
   "display_name": "Python 3 (ipykernel)",
   "language": "python",
   "name": "python3"
  },
  "language_info": {
   "codemirror_mode": {
    "name": "ipython",
    "version": 3
   },
   "file_extension": ".py",
   "mimetype": "text/x-python",
   "name": "python",
   "nbconvert_exporter": "python",
   "pygments_lexer": "ipython3",
   "version": "3.9.7"
  }
 },
 "nbformat": 4,
 "nbformat_minor": 5
}
