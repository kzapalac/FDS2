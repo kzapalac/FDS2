{
 "cells": [
  {
   "cell_type": "markdown",
   "id": "a4755f03",
   "metadata": {},
   "source": [
    "# Variables homework"
   ]
  },
  {
   "cell_type": "markdown",
   "id": "a519fdac",
   "metadata": {},
   "source": [
    "Advice for homework and life: try, play, experiment; don't Google until you get frustrated.\n",
    "\n",
    "You can't break anything with Python, so, if you want to figure something out, try until you get it to work. You'll learn more and you'll remember it longer and more deeply. "
   ]
  },
  {
   "cell_type": "markdown",
   "id": "935435c3",
   "metadata": {},
   "source": [
    "---"
   ]
  },
  {
   "cell_type": "markdown",
   "id": "672eb676",
   "metadata": {},
   "source": [
    "In general, the homework question will consist of the question in a markdown cell, a code cell for you to play in, repeating as needed,  and a final markdown cell for your answer or explanation *that will be in italics*.\n",
    "\n",
    "But do feel free to add or delete cells as you feel appropriate. The important thing is you get your point across!"
   ]
  },
  {
   "cell_type": "markdown",
   "id": "fd5a0577",
   "metadata": {},
   "source": [
    "---"
   ]
  },
  {
   "cell_type": "markdown",
   "id": "8cac38b8",
   "metadata": {},
   "source": [
    "### 1."
   ]
  },
  {
   "cell_type": "markdown",
   "id": "41ebcb4a",
   "metadata": {},
   "source": [
    "Make an integer: `theAnswer = 42`.\n",
    "Now make another: `anotherNameForTheAnswer = 42`\n",
    "(You don't have to use these exactly, but make sure you have two different names referring to the same exact value.)"
   ]
  },
  {
   "cell_type": "code",
   "execution_count": 1,
   "id": "792d077c",
   "metadata": {},
   "outputs": [],
   "source": [
    "theAnswer = 42\n",
    "anotherNameForTheAnswer = 42"
   ]
  },
  {
   "cell_type": "markdown",
   "id": "110df7e7",
   "metadata": {},
   "source": [
    "Get and note the ID numbers for both."
   ]
  },
  {
   "cell_type": "code",
   "execution_count": 2,
   "id": "0bca1e61",
   "metadata": {},
   "outputs": [
    {
     "name": "stdout",
     "output_type": "stream",
     "text": [
      "ID of 'theAnswer' = 2794969067088\n",
      "ID of the 'anotherNameForTheAnswer' = 2794969067088\n"
     ]
    }
   ],
   "source": [
    "print(f\"ID of 'theAnswer' = {id(theAnswer)}\")\n",
    "print(f\"ID of the 'anotherNameForTheAnswer' = {id(anotherNameForTheAnswer)}\")"
   ]
  },
  {
   "cell_type": "markdown",
   "id": "3b3616a6",
   "metadata": {},
   "source": [
    "Assign each name to a completely different number and confirm that each name now refers to an object with a new ID."
   ]
  },
  {
   "cell_type": "code",
   "execution_count": 3,
   "id": "19c87f48",
   "metadata": {},
   "outputs": [
    {
     "name": "stdout",
     "output_type": "stream",
     "text": [
      "ID of 'theAnswer' = 2794969067120\n",
      "ID of the 'anotherNameForTheAnswer' = 2794969066992\n"
     ]
    }
   ],
   "source": [
    "theAnswer = 43\n",
    "anotherNameForTheAnswer = 39\n",
    "print(f\"ID of 'theAnswer' = {id(theAnswer)}\")\n",
    "print(f\"ID of the 'anotherNameForTheAnswer' = {id(anotherNameForTheAnswer)}\")"
   ]
  },
  {
   "cell_type": "markdown",
   "id": "a6d1c613",
   "metadata": {},
   "source": [
    "Do a `whos` to confirm that *no* names refer to the original value."
   ]
  },
  {
   "cell_type": "code",
   "execution_count": 4,
   "id": "26921f75",
   "metadata": {},
   "outputs": [
    {
     "name": "stdout",
     "output_type": "stream",
     "text": [
      "Variable                  Type    Data/Info\n",
      "-------------------------------------------\n",
      "anotherNameForTheAnswer   int     39\n",
      "theAnswer                 int     43\n"
     ]
    }
   ],
   "source": [
    "whos"
   ]
  },
  {
   "cell_type": "markdown",
   "id": "329c40f1",
   "metadata": {},
   "source": [
    "Finally, assign a new name to the original value, and get its ID."
   ]
  },
  {
   "cell_type": "code",
   "execution_count": 6,
   "id": "6d8e21a3",
   "metadata": {},
   "outputs": [
    {
     "name": "stdout",
     "output_type": "stream",
     "text": [
      "This is the ID of newName, which was assigned to the old object of 42: 2794969067088\n"
     ]
    }
   ],
   "source": [
    "newName = 42\n",
    "print(f\"This is the ID of newName, which was assigned to the old object of 42: {id(newName)}\")"
   ]
  },
  {
   "cell_type": "markdown",
   "id": "005730a3",
   "metadata": {},
   "source": [
    "*Look at this ID and compare it to the original ones. What happened? What does this tell you?*\n",
    "\n",
    "The id of newName is the same as the original id of theAnswer. This tells me that ids are assigned to objects, and they remain the same regardless of what names are associated with that object. The id is not associated with the names I create, but rather the objects themselves."
   ]
  },
  {
   "cell_type": "markdown",
   "id": "022dd79c",
   "metadata": {},
   "source": [
    "---"
   ]
  },
  {
   "cell_type": "markdown",
   "id": "70b28d0b",
   "metadata": {},
   "source": [
    "### 2."
   ]
  },
  {
   "cell_type": "markdown",
   "id": "4016abc8",
   "metadata": {},
   "source": [
    "Convert both possible Boolean values to strings and print them."
   ]
  },
  {
   "cell_type": "code",
   "execution_count": 2,
   "id": "634b8733",
   "metadata": {},
   "outputs": [
    {
     "name": "stdout",
     "output_type": "stream",
     "text": [
      "This is what 'False' looks like when it's converted to a string: False\n",
      "This is what 'True' looks like when it's converted to a string: True\n",
      "This is what '0' looks like when it's converted to a string: 0\n",
      "This is what '1' looks like when it's converted to a string: 1\n"
     ]
    }
   ],
   "source": [
    "convertFalseToStr = str(False)\n",
    "convertTrueToStr = str(True)\n",
    "\n",
    "convert0ToStr = str(int(False))\n",
    "convert1ToStr = str(int(True))\n",
    "\n",
    "print(f\"This is what 'False' looks like when it's converted to a string: {convertFalseToStr}\")\n",
    "print(f\"This is what 'True' looks like when it's converted to a string: {convertTrueToStr}\")\n",
    "\n",
    "print(f\"This is what '0' looks like when it's converted to a string: {convert0ToStr}\")\n",
    "print(f\"This is what '1' looks like when it's converted to a string: {convert1ToStr}\")"
   ]
  },
  {
   "cell_type": "markdown",
   "id": "fa273c8d",
   "metadata": {},
   "source": [
    "Now convert some strings to Boolean until you figure out \"the rule\"."
   ]
  },
  {
   "cell_type": "code",
   "execution_count": 10,
   "id": "4c637ec5",
   "metadata": {},
   "outputs": [
    {
     "data": {
      "text/plain": [
       "False"
      ]
     },
     "execution_count": 10,
     "metadata": {},
     "output_type": "execute_result"
    }
   ],
   "source": [
    "str1 = \"False\"\n",
    "bool(str1)\n",
    "\n",
    "str2 = \"True\"\n",
    "bool(str2)\n",
    "\n",
    "str3 = \"0\"\n",
    "bool(str3)\n",
    "\n",
    "str4 = \"4\"\n",
    "bool(str4)\n",
    "\n",
    "str5 = \" \"\n",
    "bool(str5)\n",
    "\n",
    "str6 = \"\"\n",
    "bool(str6)"
   ]
  },
  {
   "cell_type": "markdown",
   "id": "b2c5c4e8",
   "metadata": {},
   "source": [
    "*What string(s) convert to True and False? In other words, what is the rule for str -> bool conversion?*\n",
    "\n",
    "Any non-empty string converts to True and an empty string converts to False"
   ]
  },
  {
   "cell_type": "markdown",
   "id": "9dc74072",
   "metadata": {},
   "source": [
    "---"
   ]
  },
  {
   "cell_type": "markdown",
   "id": "517c7fe1",
   "metadata": {},
   "source": [
    "### 3. "
   ]
  },
  {
   "cell_type": "markdown",
   "id": "f8fddb59",
   "metadata": {},
   "source": [
    "Make three variables:\n",
    "\n",
    "* a Boolean equal to True\n",
    "* an int (any int)\n",
    "* a float\n",
    "\n",
    "Try all combinations of adding two of the variables pairwise."
   ]
  },
  {
   "cell_type": "code",
   "execution_count": 37,
   "id": "86d384c9",
   "metadata": {},
   "outputs": [],
   "source": [
    "boolVar = True\n",
    "intVar = 5\n",
    "floatVar = 3.6"
   ]
  },
  {
   "cell_type": "code",
   "execution_count": 39,
   "id": "82560a84",
   "metadata": {},
   "outputs": [
    {
     "name": "stdout",
     "output_type": "stream",
     "text": [
      "5\n",
      "This is the new type when adding bool and int: <class 'int'>\n"
     ]
    }
   ],
   "source": [
    "print(boolVar + intVar)\n",
    "print(f\"This is the new type when adding bool and int: {type(boolVar + intVar)}\")"
   ]
  },
  {
   "cell_type": "code",
   "execution_count": 32,
   "id": "9f7ecaa8",
   "metadata": {},
   "outputs": [
    {
     "name": "stdout",
     "output_type": "stream",
     "text": [
      "4.6\n",
      "This is the new type when adding bool and float: <class 'float'>\n"
     ]
    }
   ],
   "source": [
    "print(boolVar + floatVar)\n",
    "print(f\"This is the new type when adding bool and float: {type(boolVar + floatVar)}\")"
   ]
  },
  {
   "cell_type": "code",
   "execution_count": 34,
   "id": "a4505246",
   "metadata": {},
   "outputs": [
    {
     "name": "stdout",
     "output_type": "stream",
     "text": [
      "8.6\n",
      "This is the new type when adding int and float: <class 'float'>\n"
     ]
    }
   ],
   "source": [
    "print(intVar + floatVar)\n",
    "print(f\"This is the new type when adding int and float: {type(intVar + floatVar)}\")"
   ]
  },
  {
   "cell_type": "code",
   "execution_count": 35,
   "id": "58bd45c6",
   "metadata": {},
   "outputs": [
    {
     "name": "stdout",
     "output_type": "stream",
     "text": [
      "2\n",
      "When adding a bool to bool, the new type is: <class 'int'>\n"
     ]
    }
   ],
   "source": [
    "print(boolVar + boolVar)\n",
    "print(f\"When adding a bool to bool, the new type is: {type(boolVar + boolVar)}\")"
   ]
  },
  {
   "cell_type": "markdown",
   "id": "db2ebd3c",
   "metadata": {},
   "source": [
    "*What is the rule for adding numbers of different types?*\n",
    "- When adding a boolean value to a number, the boolean value will be converted to a 1 or 0\n",
    "- When adding 2 numbers, the new number will be a float if one of the original numbers is a float otherwise the new value will be an integer"
   ]
  },
  {
   "cell_type": "markdown",
   "id": "1ea9b7ea",
   "metadata": {},
   "source": [
    "---"
   ]
  },
  {
   "cell_type": "markdown",
   "id": "e1b9ed6c",
   "metadata": {},
   "source": [
    "### 4."
   ]
  },
  {
   "cell_type": "markdown",
   "id": "cf84dd90",
   "metadata": {},
   "source": [
    "Make an int (any int) and a string containing a number (e.g. num_str = '64'). Try\n",
    "\n",
    "* adding them\n",
    "* adding them converting the number to a string\n",
    "* adding them converting the string to a number"
   ]
  },
  {
   "cell_type": "code",
   "execution_count": 40,
   "id": "18ed5b89",
   "metadata": {},
   "outputs": [],
   "source": [
    "num_int = 2\n",
    "num_str = \"23\""
   ]
  },
  {
   "cell_type": "code",
   "execution_count": 41,
   "id": "0b1d7a89",
   "metadata": {},
   "outputs": [
    {
     "ename": "TypeError",
     "evalue": "unsupported operand type(s) for +: 'int' and 'str'",
     "output_type": "error",
     "traceback": [
      "\u001b[1;31m---------------------------------------------------------------------------\u001b[0m",
      "\u001b[1;31mTypeError\u001b[0m                                 Traceback (most recent call last)",
      "\u001b[1;32m~\\AppData\\Local\\Temp/ipykernel_17588/3818996895.py\u001b[0m in \u001b[0;36m<module>\u001b[1;34m\u001b[0m\n\u001b[1;32m----> 1\u001b[1;33m \u001b[0mnum_int\u001b[0m \u001b[1;33m+\u001b[0m \u001b[0mnum_str\u001b[0m\u001b[1;33m\u001b[0m\u001b[1;33m\u001b[0m\u001b[0m\n\u001b[0m",
      "\u001b[1;31mTypeError\u001b[0m: unsupported operand type(s) for +: 'int' and 'str'"
     ]
    }
   ],
   "source": [
    "num_int + num_str"
   ]
  },
  {
   "cell_type": "code",
   "execution_count": 42,
   "id": "dc25a1db",
   "metadata": {},
   "outputs": [
    {
     "data": {
      "text/plain": [
       "'223'"
      ]
     },
     "execution_count": 42,
     "metadata": {},
     "output_type": "execute_result"
    }
   ],
   "source": [
    "str(num_int) + num_str"
   ]
  },
  {
   "cell_type": "code",
   "execution_count": 43,
   "id": "d29af80f",
   "metadata": {},
   "outputs": [
    {
     "data": {
      "text/plain": [
       "25"
      ]
     },
     "execution_count": 43,
     "metadata": {},
     "output_type": "execute_result"
    }
   ],
   "source": [
    "num_int + int(num_str)"
   ]
  },
  {
   "cell_type": "markdown",
   "id": "5110c575",
   "metadata": {},
   "source": [
    "Try converting a `str` that is a spelled out number (like 'forty two') to an int."
   ]
  },
  {
   "cell_type": "code",
   "execution_count": 45,
   "id": "3f8e8f20",
   "metadata": {},
   "outputs": [
    {
     "ename": "ValueError",
     "evalue": "invalid literal for int() with base 10: 'twelve'",
     "output_type": "error",
     "traceback": [
      "\u001b[1;31m---------------------------------------------------------------------------\u001b[0m",
      "\u001b[1;31mValueError\u001b[0m                                Traceback (most recent call last)",
      "\u001b[1;32m~\\AppData\\Local\\Temp/ipykernel_17588/3723376432.py\u001b[0m in \u001b[0;36m<module>\u001b[1;34m\u001b[0m\n\u001b[0;32m      1\u001b[0m \u001b[0mnew_str\u001b[0m \u001b[1;33m=\u001b[0m \u001b[1;34m'twelve'\u001b[0m\u001b[1;33m\u001b[0m\u001b[1;33m\u001b[0m\u001b[0m\n\u001b[1;32m----> 2\u001b[1;33m \u001b[0mint\u001b[0m\u001b[1;33m(\u001b[0m\u001b[0mnew_str\u001b[0m\u001b[1;33m)\u001b[0m\u001b[1;33m\u001b[0m\u001b[1;33m\u001b[0m\u001b[0m\n\u001b[0m",
      "\u001b[1;31mValueError\u001b[0m: invalid literal for int() with base 10: 'twelve'"
     ]
    }
   ],
   "source": [
    "new_str = 'twelve'\n",
    "int(new_str)"
   ]
  },
  {
   "cell_type": "markdown",
   "id": "fd5707eb",
   "metadata": {},
   "source": [
    "*Did that work?*\n",
    "\n",
    "It didn't work to convert a spelled out number that's formatted as a string to an integer"
   ]
  },
  {
   "cell_type": "markdown",
   "id": "1dae4adc",
   "metadata": {},
   "source": [
    "---"
   ]
  },
  {
   "cell_type": "markdown",
   "id": "9d9f04c2",
   "metadata": {},
   "source": [
    "### 5. "
   ]
  },
  {
   "cell_type": "markdown",
   "id": "41cab9d3",
   "metadata": {},
   "source": [
    "Make a variable that is a 5 element tuple."
   ]
  },
  {
   "cell_type": "code",
   "execution_count": 46,
   "id": "b7d56346",
   "metadata": {},
   "outputs": [],
   "source": [
    "myTuple = (1, 2, 3, 4, 5)"
   ]
  },
  {
   "cell_type": "markdown",
   "id": "e8c66a73",
   "metadata": {},
   "source": [
    "Extract the last 3 elements."
   ]
  },
  {
   "cell_type": "code",
   "execution_count": 48,
   "id": "2e49c601",
   "metadata": {},
   "outputs": [
    {
     "data": {
      "text/plain": [
       "(3, 4, 5)"
      ]
     },
     "execution_count": 48,
     "metadata": {},
     "output_type": "execute_result"
    }
   ],
   "source": [
    "myTuple[-3:]"
   ]
  },
  {
   "cell_type": "markdown",
   "id": "47e21ef5",
   "metadata": {},
   "source": [
    "---"
   ]
  },
  {
   "cell_type": "markdown",
   "id": "158ffef3",
   "metadata": {},
   "source": [
    "### 6. "
   ]
  },
  {
   "cell_type": "markdown",
   "id": "448bfa55",
   "metadata": {},
   "source": [
    "Make two variables containing tuples (you can create one and re-use the one from #5). Add them using \"+\"."
   ]
  },
  {
   "cell_type": "code",
   "execution_count": 50,
   "id": "5d681205",
   "metadata": {},
   "outputs": [
    {
     "data": {
      "text/plain": [
       "(1, 2, 3, 4, 5, 6, 7, 8)"
      ]
     },
     "execution_count": 50,
     "metadata": {},
     "output_type": "execute_result"
    }
   ],
   "source": [
    "myTuple = (1, 2, 3, 4, 5)\n",
    "anotherTuple = (6, 7, 8)\n",
    "myTuple + anotherTuple"
   ]
  },
  {
   "cell_type": "code",
   "execution_count": 53,
   "id": "b209d49b",
   "metadata": {},
   "outputs": [
    {
     "data": {
      "text/plain": [
       "(1, 2, 3, 4, 5, 6, 7, 8, 9, 10)"
      ]
     },
     "execution_count": 53,
     "metadata": {},
     "output_type": "execute_result"
    }
   ],
   "source": [
    "myTuple = (1, 2, 3, 4, 5)\n",
    "anotherTuple = (6, 7, 8, 9, 10)\n",
    "myTuple + anotherTuple"
   ]
  },
  {
   "cell_type": "markdown",
   "id": "119c9a85",
   "metadata": {},
   "source": [
    "Make two list variables and add them."
   ]
  },
  {
   "cell_type": "code",
   "execution_count": 51,
   "id": "0b72465e",
   "metadata": {},
   "outputs": [
    {
     "data": {
      "text/plain": [
       "[1, 2, 3, 4, 5, 6, 7, 8]"
      ]
     },
     "execution_count": 51,
     "metadata": {},
     "output_type": "execute_result"
    }
   ],
   "source": [
    "myList = [1, 2, 3, 4, 5]\n",
    "anotherList = [6, 7, 8]\n",
    "myList + anotherList"
   ]
  },
  {
   "cell_type": "code",
   "execution_count": 52,
   "id": "aac6bda7",
   "metadata": {},
   "outputs": [
    {
     "data": {
      "text/plain": [
       "[1, 2, 3, 4, 5, 6, 7, 8, 9, 10]"
      ]
     },
     "execution_count": 52,
     "metadata": {},
     "output_type": "execute_result"
    }
   ],
   "source": [
    "myList = [1, 2, 3, 4, 5]\n",
    "anotherList = [6, 7, 8, 9, 10]\n",
    "myList + anotherList"
   ]
  },
  {
   "cell_type": "markdown",
   "id": "23ed3aa7",
   "metadata": {},
   "source": [
    "Try adding one of your tuples to one of your lists."
   ]
  },
  {
   "cell_type": "code",
   "execution_count": 56,
   "id": "187ba06d",
   "metadata": {},
   "outputs": [
    {
     "ename": "TypeError",
     "evalue": "can only concatenate list (not \"tuple\") to list",
     "output_type": "error",
     "traceback": [
      "\u001b[1;31m---------------------------------------------------------------------------\u001b[0m",
      "\u001b[1;31mTypeError\u001b[0m                                 Traceback (most recent call last)",
      "\u001b[1;32m~\\AppData\\Local\\Temp/ipykernel_17588/2818925830.py\u001b[0m in \u001b[0;36m<module>\u001b[1;34m\u001b[0m\n\u001b[1;32m----> 1\u001b[1;33m \u001b[0mmyList\u001b[0m \u001b[1;33m+\u001b[0m \u001b[0manotherTuple\u001b[0m\u001b[1;33m\u001b[0m\u001b[1;33m\u001b[0m\u001b[0m\n\u001b[0m",
      "\u001b[1;31mTypeError\u001b[0m: can only concatenate list (not \"tuple\") to list"
     ]
    }
   ],
   "source": [
    "myList + anotherTuple"
   ]
  },
  {
   "cell_type": "markdown",
   "id": "c22fff9f",
   "metadata": {},
   "source": [
    "*What happened? How does this compare to adding, say, a bool to a float?*\n",
    "\n",
    "Adding a tuple and a list is different from adding a bool to a float because python doesn't convert either of the data types to match the other, making it impossible to add a tuple and a list."
   ]
  },
  {
   "cell_type": "markdown",
   "id": "24ceb313",
   "metadata": {},
   "source": [
    "---"
   ]
  },
  {
   "cell_type": "markdown",
   "id": "46be9eeb",
   "metadata": {},
   "source": [
    "### 7."
   ]
  },
  {
   "cell_type": "code",
   "execution_count": 58,
   "id": "3ec6f5e5",
   "metadata": {},
   "outputs": [
    {
     "data": {
      "text/plain": [
       "(1, 2, 3, 4, 5)"
      ]
     },
     "execution_count": 58,
     "metadata": {},
     "output_type": "execute_result"
    }
   ],
   "source": [
    "myTuple"
   ]
  },
  {
   "cell_type": "markdown",
   "id": "ed51a160",
   "metadata": {},
   "source": [
    "Can you tell the type of a variable by looking at its value?\n",
    "\n",
    "Yes, I can tell the type of variable by looking at its value because each type has its own unique characteristic"
   ]
  },
  {
   "cell_type": "markdown",
   "id": "7b9d839a",
   "metadata": {},
   "source": [
    "*If so, how? A couple examples are fine; no need for an exhaustive list.*\n",
    "\n",
    "- A bool is always True or False\n",
    "- An integer is always a whole number without decimal places\n",
    "- A float is always a number with a decimal point\n",
    "- A string is always enclosed in quotations\n",
    "- A tuple is always enclosed by parentheses\n",
    "- A list is always enclosed with brackets\n",
    "- A dictionary is enclosed by curly braces and uses colons"
   ]
  },
  {
   "cell_type": "markdown",
   "id": "d9d4751a",
   "metadata": {},
   "source": [
    "---"
   ]
  },
  {
   "cell_type": "markdown",
   "id": "0e6d00d0",
   "metadata": {},
   "source": [
    "### 8."
   ]
  },
  {
   "cell_type": "markdown",
   "id": "fef795f0",
   "metadata": {},
   "source": [
    "Make a list variable in which one of the elements is itself a list (e.g. `myList = ['hi', [3, 5, 7, 11], False]`)."
   ]
  },
  {
   "cell_type": "code",
   "execution_count": 59,
   "id": "397862a5",
   "metadata": {},
   "outputs": [],
   "source": [
    "myList = ['bonjour', [2, 4, 6, 8], True]"
   ]
  },
  {
   "cell_type": "markdown",
   "id": "6c9f9c01",
   "metadata": {},
   "source": [
    "Extract one element of the nested list - the list-within a list. Try it in two steps, by first extracting the nested list and assigning it to a new variable."
   ]
  },
  {
   "cell_type": "code",
   "execution_count": 60,
   "id": "fb0d3c73",
   "metadata": {},
   "outputs": [
    {
     "data": {
      "text/plain": [
       "8"
      ]
     },
     "execution_count": 60,
     "metadata": {},
     "output_type": "execute_result"
    }
   ],
   "source": [
    "listWithinList = myList[1]\n",
    "listWithinList[3]"
   ]
  },
  {
   "cell_type": "markdown",
   "id": "2af6ccf6",
   "metadata": {},
   "source": [
    "Now see if you can do this in one step."
   ]
  },
  {
   "cell_type": "code",
   "execution_count": 64,
   "id": "9c7617ec",
   "metadata": {},
   "outputs": [
    {
     "data": {
      "text/plain": [
       "8"
      ]
     },
     "execution_count": 64,
     "metadata": {},
     "output_type": "execute_result"
    }
   ],
   "source": [
    "myList[1][3]"
   ]
  },
  {
   "cell_type": "markdown",
   "id": "0554f1ab",
   "metadata": {},
   "source": [
    "---"
   ]
  },
  {
   "cell_type": "markdown",
   "id": "bc4dfb16",
   "metadata": {},
   "source": [
    "### 9."
   ]
  },
  {
   "cell_type": "markdown",
   "id": "942c18ed",
   "metadata": {},
   "source": [
    "Make a `dict` variable with two elements, one of which is a list."
   ]
  },
  {
   "cell_type": "code",
   "execution_count": 65,
   "id": "eab04be2",
   "metadata": {},
   "outputs": [],
   "source": [
    "myDict = {'element1':1, 'element2':[2,3,4]}"
   ]
  },
  {
   "cell_type": "markdown",
   "id": "33671a6f",
   "metadata": {},
   "source": [
    "Extract a single element from the list-in-a-dict in one step."
   ]
  },
  {
   "cell_type": "code",
   "execution_count": 76,
   "id": "d34db06d",
   "metadata": {},
   "outputs": [
    {
     "data": {
      "text/plain": [
       "2"
      ]
     },
     "execution_count": 76,
     "metadata": {},
     "output_type": "execute_result"
    }
   ],
   "source": [
    "myDict['element2'][0]"
   ]
  },
  {
   "cell_type": "markdown",
   "id": "ad326e31",
   "metadata": {},
   "source": [
    "---"
   ]
  },
  {
   "cell_type": "markdown",
   "id": "3ee688b1",
   "metadata": {},
   "source": [
    "10."
   ]
  },
  {
   "cell_type": "markdown",
   "id": "d75d6e10",
   "metadata": {},
   "source": [
    "Make a list variable. Consider that each element of the list is logically an *object* in and of itself. Confirm that one or two of these list elements has its own unique ID number."
   ]
  },
  {
   "cell_type": "code",
   "execution_count": null,
   "id": "57e89abe",
   "metadata": {},
   "outputs": [],
   "source": [
    "myList = ['bonjour', [2, 4, 6, 8], True]"
   ]
  },
  {
   "cell_type": "code",
   "execution_count": 78,
   "id": "bc1d31c3",
   "metadata": {},
   "outputs": [
    {
     "data": {
      "text/plain": [
       "2217498013312"
      ]
     },
     "execution_count": 78,
     "metadata": {},
     "output_type": "execute_result"
    }
   ],
   "source": [
    "id(myList)"
   ]
  },
  {
   "cell_type": "code",
   "execution_count": 77,
   "id": "dc9159e9",
   "metadata": {},
   "outputs": [
    {
     "data": {
      "text/plain": [
       "2217498834992"
      ]
     },
     "execution_count": 77,
     "metadata": {},
     "output_type": "execute_result"
    }
   ],
   "source": [
    "id(myList[0])"
   ]
  },
  {
   "cell_type": "code",
   "execution_count": 79,
   "id": "10ee8082",
   "metadata": {},
   "outputs": [
    {
     "data": {
      "text/plain": [
       "2217498009792"
      ]
     },
     "execution_count": 79,
     "metadata": {},
     "output_type": "execute_result"
    }
   ],
   "source": [
    "id(myList[1])"
   ]
  },
  {
   "cell_type": "code",
   "execution_count": 80,
   "id": "d3ed4271",
   "metadata": {},
   "outputs": [
    {
     "data": {
      "text/plain": [
       "2217417271696"
      ]
     },
     "execution_count": 80,
     "metadata": {},
     "output_type": "execute_result"
    }
   ],
   "source": [
    "id(myList[1][1])"
   ]
  },
  {
   "cell_type": "code",
   "execution_count": 81,
   "id": "4633bb9e",
   "metadata": {},
   "outputs": [
    {
     "data": {
      "text/plain": [
       "140727470610536"
      ]
     },
     "execution_count": 81,
     "metadata": {},
     "output_type": "execute_result"
    }
   ],
   "source": [
    "id(myList[2])"
   ]
  },
  {
   "cell_type": "markdown",
   "id": "a6dd53d9",
   "metadata": {},
   "source": [
    "If you extract an element from your list and assign it to a new variable, are the IDs the same, or is a new object created?"
   ]
  },
  {
   "cell_type": "code",
   "execution_count": 82,
   "id": "e3b172ce",
   "metadata": {},
   "outputs": [
    {
     "data": {
      "text/plain": [
       "2217417271696"
      ]
     },
     "execution_count": 82,
     "metadata": {},
     "output_type": "execute_result"
    }
   ],
   "source": [
    "newVar = myList[1][1]\n",
    "id(newVar)"
   ]
  },
  {
   "cell_type": "markdown",
   "id": "c30af4e6",
   "metadata": {},
   "source": [
    "*Are the IDs the same, or is a new object created when you assigned the list element to new variable?*\n",
    "\n",
    "The IDs are the same when I assign a list element to a new variable"
   ]
  },
  {
   "cell_type": "markdown",
   "id": "4a3df1f0",
   "metadata": {},
   "source": [
    "---"
   ]
  },
  {
   "cell_type": "markdown",
   "id": "954d5cb8",
   "metadata": {},
   "source": [
    "### 11."
   ]
  },
  {
   "cell_type": "markdown",
   "id": "d5aaa23b",
   "metadata": {},
   "source": [
    "Make a `str` variable containing the first 5 letters of the alphabet (e.g. `a2e = 'abcde'`). Check the ID of the second (index = 1) element (the 'b')."
   ]
  },
  {
   "cell_type": "code",
   "execution_count": 84,
   "id": "eb1770d5",
   "metadata": {},
   "outputs": [
    {
     "data": {
      "text/plain": [
       "2217418109424"
      ]
     },
     "execution_count": 84,
     "metadata": {},
     "output_type": "execute_result"
    }
   ],
   "source": [
    "a2e = 'abcde'\n",
    "id(a2e[1])"
   ]
  },
  {
   "cell_type": "markdown",
   "id": "fba510ba",
   "metadata": {},
   "source": [
    "Now make a `str` variable containing the letter 'b'. Check its ID."
   ]
  },
  {
   "cell_type": "code",
   "execution_count": 86,
   "id": "7bd7560d",
   "metadata": {},
   "outputs": [
    {
     "data": {
      "text/plain": [
       "2217418109424"
      ]
     },
     "execution_count": 86,
     "metadata": {},
     "output_type": "execute_result"
    }
   ],
   "source": [
    "newStr = 'label'\n",
    "id(newStr[2])"
   ]
  },
  {
   "cell_type": "markdown",
   "id": "8484a41a",
   "metadata": {},
   "source": [
    "*What happened?*\n",
    "\n",
    "B has the same id across all the strings that it is in\n",
    "\n",
    "Each character within a string has its own unique id"
   ]
  }
 ],
 "metadata": {
  "kernelspec": {
   "display_name": "Python 3 (ipykernel)",
   "language": "python",
   "name": "python3"
  },
  "language_info": {
   "codemirror_mode": {
    "name": "ipython",
    "version": 3
   },
   "file_extension": ".py",
   "mimetype": "text/x-python",
   "name": "python",
   "nbconvert_exporter": "python",
   "pygments_lexer": "ipython3",
   "version": "3.9.7"
  }
 },
 "nbformat": 4,
 "nbformat_minor": 5
}
